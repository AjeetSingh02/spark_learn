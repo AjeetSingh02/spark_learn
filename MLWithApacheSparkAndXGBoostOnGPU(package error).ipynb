{
  "nbformat": 4,
  "nbformat_minor": 0,
  "metadata": {
    "colab": {
      "name": "MLWithApacheSparkAndXGBoostOnGPU.ipynb",
      "provenance": [],
      "collapsed_sections": [],
      "authorship_tag": "ABX9TyMREjqYkoywiNvsPpvwjkp6",
      "include_colab_link": true
    },
    "kernelspec": {
      "name": "python3",
      "display_name": "Python 3"
    },
    "accelerator": "GPU"
  },
  "cells": [
    {
      "cell_type": "markdown",
      "metadata": {
        "id": "view-in-github",
        "colab_type": "text"
      },
      "source": [
        "<a href=\"https://colab.research.google.com/github/AjeetSingh02/spark_learn/blob/master/MLWithApacheSparkAndXGBoostOnGPU(package%20error).ipynb\" target=\"_parent\"><img src=\"https://colab.research.google.com/assets/colab-badge.svg\" alt=\"Open In Colab\"/></a>"
      ]
    },
    {
      "cell_type": "code",
      "metadata": {
        "id": "1eC-ewBZYBfA",
        "colab_type": "code",
        "outputId": "2c9672bf-0666-4215-8372-a1f83b6ff5a2",
        "colab": {
          "base_uri": "https://localhost:8080/",
          "height": 326
        }
      },
      "source": [
        "! nvidia-smi"
      ],
      "execution_count": 63,
      "outputs": [
        {
          "output_type": "stream",
          "text": [
            "Sat May  2 10:09:21 2020       \n",
            "+-----------------------------------------------------------------------------+\n",
            "| NVIDIA-SMI 440.64.00    Driver Version: 418.67       CUDA Version: 10.1     |\n",
            "|-------------------------------+----------------------+----------------------+\n",
            "| GPU  Name        Persistence-M| Bus-Id        Disp.A | Volatile Uncorr. ECC |\n",
            "| Fan  Temp  Perf  Pwr:Usage/Cap|         Memory-Usage | GPU-Util  Compute M. |\n",
            "|===============================+======================+======================|\n",
            "|   0  Tesla P100-PCIE...  Off  | 00000000:00:04.0 Off |                    0 |\n",
            "| N/A   44C    P0    29W / 250W |      0MiB / 16280MiB |      0%      Default |\n",
            "+-------------------------------+----------------------+----------------------+\n",
            "                                                                               \n",
            "+-----------------------------------------------------------------------------+\n",
            "| Processes:                                                       GPU Memory |\n",
            "|  GPU       PID   Type   Process name                             Usage      |\n",
            "|=============================================================================|\n",
            "|  No running processes found                                                 |\n",
            "+-----------------------------------------------------------------------------+\n"
          ],
          "name": "stdout"
        }
      ]
    },
    {
      "cell_type": "code",
      "metadata": {
        "id": "465AtRg6s_4V",
        "colab_type": "code",
        "colab": {}
      },
      "source": [
        "!apt-get install openjdk-8-jdk-headless -qq > /dev/null\n",
        "!wget -q https://downloads.apache.org/spark/spark-2.4.5/spark-2.4.5-bin-hadoop2.7.tgz\n",
        "!tar xf spark-2.4.5-bin-hadoop2.7.tgz\n",
        "!pip install -q findspark"
      ],
      "execution_count": 0,
      "outputs": []
    },
    {
      "cell_type": "code",
      "metadata": {
        "id": "4pmKKPKRZ6Sa",
        "colab_type": "code",
        "outputId": "b9ed3989-8e23-41cf-961c-63a990007ac1",
        "colab": {
          "base_uri": "https://localhost:8080/",
          "height": 617
        }
      },
      "source": [
        "! wget https://repo1.maven.org/maven2/ai/rapids/cudf/0.9.2/cudf-0.9.2-cuda10-1.jar\n",
        "! wget https://repo1.maven.org/maven2/ai/rapids/xgboost4j_2.x/1.0.0-Beta5/xgboost4j_2.x-1.0.0-Beta5.jar\n",
        "! wget https://repo1.maven.org/maven2/ai/rapids/xgboost4j-spark_2.x/1.0.0-Beta5/xgboost4j-spark_2.x-1.0.0-Beta5.jar"
      ],
      "execution_count": 65,
      "outputs": [
        {
          "output_type": "stream",
          "text": [
            "--2020-05-02 10:09:56--  https://repo1.maven.org/maven2/ai/rapids/cudf/0.9.2/cudf-0.9.2-cuda10-1.jar\n",
            "Resolving repo1.maven.org (repo1.maven.org)... 151.101.200.209\n",
            "Connecting to repo1.maven.org (repo1.maven.org)|151.101.200.209|:443... connected.\n",
            "HTTP request sent, awaiting response... 200 OK\n",
            "Length: 64759406 (62M) [application/java-archive]\n",
            "Saving to: ‘cudf-0.9.2-cuda10-1.jar.1’\n",
            "\n",
            "cudf-0.9.2-cuda10-1 100%[===================>]  61.76M  61.5MB/s    in 1.0s    \n",
            "\n",
            "2020-05-02 10:09:57 (61.5 MB/s) - ‘cudf-0.9.2-cuda10-1.jar.1’ saved [64759406/64759406]\n",
            "\n",
            "--2020-05-02 10:09:58--  https://repo1.maven.org/maven2/ai/rapids/xgboost4j_2.x/1.0.0-Beta5/xgboost4j_2.x-1.0.0-Beta5.jar\n",
            "Resolving repo1.maven.org (repo1.maven.org)... 151.101.248.209\n",
            "Connecting to repo1.maven.org (repo1.maven.org)|151.101.248.209|:443... connected.\n",
            "HTTP request sent, awaiting response... 200 OK\n",
            "Length: 349225621 (333M) [application/java-archive]\n",
            "Saving to: ‘xgboost4j_2.x-1.0.0-Beta5.jar.1’\n",
            "\n",
            "xgboost4j_2.x-1.0.0 100%[===================>] 333.05M   188MB/s    in 1.8s    \n",
            "\n",
            "2020-05-02 10:10:01 (188 MB/s) - ‘xgboost4j_2.x-1.0.0-Beta5.jar.1’ saved [349225621/349225621]\n",
            "\n",
            "--2020-05-02 10:10:03--  https://repo1.maven.org/maven2/ai/rapids/xgboost4j-spark_2.x/1.0.0-Beta5/xgboost4j-spark_2.x-1.0.0-Beta5.jar\n",
            "Resolving repo1.maven.org (repo1.maven.org)... 199.232.64.209\n",
            "Connecting to repo1.maven.org (repo1.maven.org)|199.232.64.209|:443... connected.\n",
            "HTTP request sent, awaiting response... 200 OK\n",
            "Length: 4829218 (4.6M) [application/java-archive]\n",
            "Saving to: ‘xgboost4j-spark_2.x-1.0.0-Beta5.jar.1’\n",
            "\n",
            "xgboost4j-spark_2.x 100%[===================>]   4.61M  14.1MB/s    in 0.3s    \n",
            "\n",
            "2020-05-02 10:10:03 (14.1 MB/s) - ‘xgboost4j-spark_2.x-1.0.0-Beta5.jar.1’ saved [4829218/4829218]\n",
            "\n"
          ],
          "name": "stdout"
        }
      ]
    },
    {
      "cell_type": "code",
      "metadata": {
        "id": "yHQt8sIkat14",
        "colab_type": "code",
        "outputId": "26699a80-5d76-4b72-b2d6-a451aaa4105c",
        "colab": {
          "base_uri": "https://localhost:8080/",
          "height": 145
        }
      },
      "source": [
        "!ls\n",
        "!pwd"
      ],
      "execution_count": 66,
      "outputs": [
        {
          "output_type": "stream",
          "text": [
            "covtype_test.parquet\t   spark-2.4.5-bin-hadoop2.7.tgz\n",
            "covtype_train.parquet\t   spark-2.4.5-bin-hadoop2.7.tgz.1\n",
            "cudf-0.9.2-cuda10-1.jar    xgboost4j_2.x-1.0.0-Beta5.jar\n",
            "cudf-0.9.2-cuda10-1.jar.1  xgboost4j_2.x-1.0.0-Beta5.jar.1\n",
            "sample_data\t\t   xgboost4j-spark_2.x-1.0.0-Beta5.jar\n",
            "spark-2.4.5-bin-hadoop2.7  xgboost4j-spark_2.x-1.0.0-Beta5.jar.1\n",
            "/content\n"
          ],
          "name": "stdout"
        }
      ]
    },
    {
      "cell_type": "code",
      "metadata": {
        "id": "9RfJYQHDTjdv",
        "colab_type": "code",
        "colab": {}
      },
      "source": [
        "import os\n",
        "os.environ[\"JAVA_HOME\"] = \"/usr/lib/jvm/java-8-openjdk-amd64\"\n",
        "os.environ[\"SPARK_HOME\"] = \"/content/spark-2.4.5-bin-hadoop2.7\""
      ],
      "execution_count": 0,
      "outputs": []
    },
    {
      "cell_type": "code",
      "metadata": {
        "id": "mygEh5gya9fg",
        "colab_type": "code",
        "colab": {}
      },
      "source": [
        "# os.environ[\"PYSPARK_SUBMIT_ARGS\"] = '--jars /content/cudf-0.9.2-cuda10-1.jar,/content/xgboost4j_2.x-1.0.0-Beta5.jar,/content/xgboost4j-spark_2.x-1.0.0-Beta5.jar'"
      ],
      "execution_count": 0,
      "outputs": []
    },
    {
      "cell_type": "code",
      "metadata": {
        "id": "xunpPFdDqELa",
        "colab_type": "code",
        "colab": {}
      },
      "source": [
        "# This step was not in video. But since there was some error in cell below this was the solution of StackOverflow\n",
        "os.environ[\"PYSPARK_SUBMIT_ARGS\"] = \"--master local[2] pyspark-shell\""
      ],
      "execution_count": 0,
      "outputs": []
    },
    {
      "cell_type": "code",
      "metadata": {
        "id": "BjHyWXCZTk30",
        "colab_type": "code",
        "colab": {}
      },
      "source": [
        "import findspark\n",
        "findspark.init()   # Will search for Spark and set in the system path\n",
        "\n",
        "from pyspark.sql import SparkSession\n",
        "\n",
        "spark = SparkSession.builder.master(\"local[*]\").getOrCreate()\n",
        "spark.conf.set(\"spark.executer.memory\", \"2g\")\n",
        "spark.conf.set(\"spark.driver.memory\", \"2g\")\n",
        "\n",
        "spark.sparkContext.addPyFile(\"/content/xgboost4j-spark_2.x-1.0.0-Beta5.jar\")"
      ],
      "execution_count": 0,
      "outputs": []
    },
    {
      "cell_type": "code",
      "metadata": {
        "id": "rzeDvtaSdWpZ",
        "colab_type": "code",
        "colab": {}
      },
      "source": [
        "import numpy as np\n",
        "import pandas as pd\n",
        "from ml.dmlc.xgboost4j.scala.spark.rapids import GpuDataReader\n",
        "from pyspark.ml.evaluation import MulticlassClassificationEvaluator\n",
        "from ml.dmlc.xgboost4j.scala.spark import XGBoostClassificationModel, XGBoostClassifier"
      ],
      "execution_count": 0,
      "outputs": []
    },
    {
      "cell_type": "code",
      "metadata": {
        "id": "dAYq57ujtN4M",
        "colab_type": "code",
        "colab": {}
      },
      "source": [
        "from sklearn.datasets import fetch_openml\n",
        "covtyp = fetch_openml(name=\"covertype\", version=4)"
      ],
      "execution_count": 0,
      "outputs": []
    },
    {
      "cell_type": "code",
      "metadata": {
        "id": "kpdTDmJCtdU9",
        "colab_type": "code",
        "outputId": "da1eaecb-4b1b-47df-a22c-269c4cd1f518",
        "colab": {
          "base_uri": "https://localhost:8080/",
          "height": 35
        }
      },
      "source": [
        "covtyp.data.shape"
      ],
      "execution_count": 74,
      "outputs": [
        {
          "output_type": "execute_result",
          "data": {
            "text/plain": [
              "(581012, 54)"
            ]
          },
          "metadata": {
            "tags": []
          },
          "execution_count": 74
        }
      ]
    },
    {
      "cell_type": "code",
      "metadata": {
        "id": "lvADA8eVtfvu",
        "colab_type": "code",
        "outputId": "1a925376-0bfd-49b7-db9a-c4d0b7e62ee3",
        "colab": {
          "base_uri": "https://localhost:8080/",
          "height": 35
        }
      },
      "source": [
        "np.unique(covtyp.target)"
      ],
      "execution_count": 75,
      "outputs": [
        {
          "output_type": "execute_result",
          "data": {
            "text/plain": [
              "array(['1', '2', '3', '4', '5', '6', '7'], dtype=object)"
            ]
          },
          "metadata": {
            "tags": []
          },
          "execution_count": 75
        }
      ]
    },
    {
      "cell_type": "code",
      "metadata": {
        "id": "j1PCIKmHtr4u",
        "colab_type": "code",
        "colab": {}
      },
      "source": [
        "# We are reading into pandas just for display\n",
        "# We will use CUDA DF for analysis\n",
        "cov_df = pd.DataFrame(data=np.c_[covtyp[\"data\"], covtyp[\"target\"]], \n",
        "                      columns=covtyp[\"feature_names\"] + [\"target\"])"
      ],
      "execution_count": 0,
      "outputs": []
    },
    {
      "cell_type": "code",
      "metadata": {
        "id": "M8LCjynUvACQ",
        "colab_type": "code",
        "outputId": "3d89bd34-c172-4aa1-bc79-96153d34fc85",
        "colab": {
          "base_uri": "https://localhost:8080/",
          "height": 218
        }
      },
      "source": [
        "cov_df.head()"
      ],
      "execution_count": 77,
      "outputs": [
        {
          "output_type": "execute_result",
          "data": {
            "text/html": [
              "<div>\n",
              "<style scoped>\n",
              "    .dataframe tbody tr th:only-of-type {\n",
              "        vertical-align: middle;\n",
              "    }\n",
              "\n",
              "    .dataframe tbody tr th {\n",
              "        vertical-align: top;\n",
              "    }\n",
              "\n",
              "    .dataframe thead th {\n",
              "        text-align: right;\n",
              "    }\n",
              "</style>\n",
              "<table border=\"1\" class=\"dataframe\">\n",
              "  <thead>\n",
              "    <tr style=\"text-align: right;\">\n",
              "      <th></th>\n",
              "      <th>Elevation</th>\n",
              "      <th>Aspect</th>\n",
              "      <th>Slope</th>\n",
              "      <th>Horizontal_Distance_To_Hydrology</th>\n",
              "      <th>Vertical_Distance_To_Hydrology</th>\n",
              "      <th>Horizontal_Distance_To_Roadways</th>\n",
              "      <th>Hillshade_9am</th>\n",
              "      <th>Hillshade_Noon</th>\n",
              "      <th>Hillshade_3pm</th>\n",
              "      <th>Horizontal_Distance_To_Fire_Points</th>\n",
              "      <th>Wilderness_Area1</th>\n",
              "      <th>Wilderness_Area2</th>\n",
              "      <th>Wilderness_Area3</th>\n",
              "      <th>Wilderness_Area4</th>\n",
              "      <th>Soil_Type1</th>\n",
              "      <th>Soil_Type2</th>\n",
              "      <th>Soil_Type3</th>\n",
              "      <th>Soil_Type4</th>\n",
              "      <th>Soil_Type5</th>\n",
              "      <th>Soil_Type6</th>\n",
              "      <th>Soil_Type7</th>\n",
              "      <th>Soil_Type8</th>\n",
              "      <th>Soil_Type9</th>\n",
              "      <th>Soil_Type10</th>\n",
              "      <th>Soil_Type11</th>\n",
              "      <th>Soil_Type12</th>\n",
              "      <th>Soil_Type13</th>\n",
              "      <th>Soil_Type14</th>\n",
              "      <th>Soil_Type15</th>\n",
              "      <th>Soil_Type16</th>\n",
              "      <th>Soil_Type17</th>\n",
              "      <th>Soil_Type18</th>\n",
              "      <th>Soil_Type19</th>\n",
              "      <th>Soil_Type20</th>\n",
              "      <th>Soil_Type21</th>\n",
              "      <th>Soil_Type22</th>\n",
              "      <th>Soil_Type23</th>\n",
              "      <th>Soil_Type24</th>\n",
              "      <th>Soil_Type25</th>\n",
              "      <th>Soil_Type26</th>\n",
              "      <th>Soil_Type27</th>\n",
              "      <th>Soil_Type28</th>\n",
              "      <th>Soil_Type29</th>\n",
              "      <th>Soil_Type30</th>\n",
              "      <th>Soil_Type31</th>\n",
              "      <th>Soil_Type32</th>\n",
              "      <th>Soil_Type33</th>\n",
              "      <th>Soil_Type34</th>\n",
              "      <th>Soil_Type35</th>\n",
              "      <th>Soil_Type36</th>\n",
              "      <th>Soil_Type37</th>\n",
              "      <th>Soil_Type38</th>\n",
              "      <th>Soil_Type39</th>\n",
              "      <th>Soil_Type40</th>\n",
              "      <th>target</th>\n",
              "    </tr>\n",
              "  </thead>\n",
              "  <tbody>\n",
              "    <tr>\n",
              "      <th>0</th>\n",
              "      <td>2596</td>\n",
              "      <td>51</td>\n",
              "      <td>3</td>\n",
              "      <td>258</td>\n",
              "      <td>0</td>\n",
              "      <td>510</td>\n",
              "      <td>221</td>\n",
              "      <td>232</td>\n",
              "      <td>148</td>\n",
              "      <td>6279</td>\n",
              "      <td>1</td>\n",
              "      <td>0</td>\n",
              "      <td>0</td>\n",
              "      <td>0</td>\n",
              "      <td>0</td>\n",
              "      <td>0</td>\n",
              "      <td>0</td>\n",
              "      <td>0</td>\n",
              "      <td>0</td>\n",
              "      <td>0</td>\n",
              "      <td>0</td>\n",
              "      <td>0</td>\n",
              "      <td>0</td>\n",
              "      <td>0</td>\n",
              "      <td>0</td>\n",
              "      <td>0</td>\n",
              "      <td>0</td>\n",
              "      <td>0</td>\n",
              "      <td>0</td>\n",
              "      <td>0</td>\n",
              "      <td>0</td>\n",
              "      <td>0</td>\n",
              "      <td>0</td>\n",
              "      <td>0</td>\n",
              "      <td>0</td>\n",
              "      <td>0</td>\n",
              "      <td>0</td>\n",
              "      <td>0</td>\n",
              "      <td>0</td>\n",
              "      <td>0</td>\n",
              "      <td>0</td>\n",
              "      <td>0</td>\n",
              "      <td>1</td>\n",
              "      <td>0</td>\n",
              "      <td>0</td>\n",
              "      <td>0</td>\n",
              "      <td>0</td>\n",
              "      <td>0</td>\n",
              "      <td>0</td>\n",
              "      <td>0</td>\n",
              "      <td>0</td>\n",
              "      <td>0</td>\n",
              "      <td>0</td>\n",
              "      <td>0</td>\n",
              "      <td>5</td>\n",
              "    </tr>\n",
              "    <tr>\n",
              "      <th>1</th>\n",
              "      <td>2590</td>\n",
              "      <td>56</td>\n",
              "      <td>2</td>\n",
              "      <td>212</td>\n",
              "      <td>-6</td>\n",
              "      <td>390</td>\n",
              "      <td>220</td>\n",
              "      <td>235</td>\n",
              "      <td>151</td>\n",
              "      <td>6225</td>\n",
              "      <td>1</td>\n",
              "      <td>0</td>\n",
              "      <td>0</td>\n",
              "      <td>0</td>\n",
              "      <td>0</td>\n",
              "      <td>0</td>\n",
              "      <td>0</td>\n",
              "      <td>0</td>\n",
              "      <td>0</td>\n",
              "      <td>0</td>\n",
              "      <td>0</td>\n",
              "      <td>0</td>\n",
              "      <td>0</td>\n",
              "      <td>0</td>\n",
              "      <td>0</td>\n",
              "      <td>0</td>\n",
              "      <td>0</td>\n",
              "      <td>0</td>\n",
              "      <td>0</td>\n",
              "      <td>0</td>\n",
              "      <td>0</td>\n",
              "      <td>0</td>\n",
              "      <td>0</td>\n",
              "      <td>0</td>\n",
              "      <td>0</td>\n",
              "      <td>0</td>\n",
              "      <td>0</td>\n",
              "      <td>0</td>\n",
              "      <td>0</td>\n",
              "      <td>0</td>\n",
              "      <td>0</td>\n",
              "      <td>0</td>\n",
              "      <td>1</td>\n",
              "      <td>0</td>\n",
              "      <td>0</td>\n",
              "      <td>0</td>\n",
              "      <td>0</td>\n",
              "      <td>0</td>\n",
              "      <td>0</td>\n",
              "      <td>0</td>\n",
              "      <td>0</td>\n",
              "      <td>0</td>\n",
              "      <td>0</td>\n",
              "      <td>0</td>\n",
              "      <td>5</td>\n",
              "    </tr>\n",
              "    <tr>\n",
              "      <th>2</th>\n",
              "      <td>2804</td>\n",
              "      <td>139</td>\n",
              "      <td>9</td>\n",
              "      <td>268</td>\n",
              "      <td>65</td>\n",
              "      <td>3180</td>\n",
              "      <td>234</td>\n",
              "      <td>238</td>\n",
              "      <td>135</td>\n",
              "      <td>6121</td>\n",
              "      <td>1</td>\n",
              "      <td>0</td>\n",
              "      <td>0</td>\n",
              "      <td>0</td>\n",
              "      <td>0</td>\n",
              "      <td>0</td>\n",
              "      <td>0</td>\n",
              "      <td>0</td>\n",
              "      <td>0</td>\n",
              "      <td>0</td>\n",
              "      <td>0</td>\n",
              "      <td>0</td>\n",
              "      <td>0</td>\n",
              "      <td>0</td>\n",
              "      <td>0</td>\n",
              "      <td>1</td>\n",
              "      <td>0</td>\n",
              "      <td>0</td>\n",
              "      <td>0</td>\n",
              "      <td>0</td>\n",
              "      <td>0</td>\n",
              "      <td>0</td>\n",
              "      <td>0</td>\n",
              "      <td>0</td>\n",
              "      <td>0</td>\n",
              "      <td>0</td>\n",
              "      <td>0</td>\n",
              "      <td>0</td>\n",
              "      <td>0</td>\n",
              "      <td>0</td>\n",
              "      <td>0</td>\n",
              "      <td>0</td>\n",
              "      <td>0</td>\n",
              "      <td>0</td>\n",
              "      <td>0</td>\n",
              "      <td>0</td>\n",
              "      <td>0</td>\n",
              "      <td>0</td>\n",
              "      <td>0</td>\n",
              "      <td>0</td>\n",
              "      <td>0</td>\n",
              "      <td>0</td>\n",
              "      <td>0</td>\n",
              "      <td>0</td>\n",
              "      <td>2</td>\n",
              "    </tr>\n",
              "    <tr>\n",
              "      <th>3</th>\n",
              "      <td>2785</td>\n",
              "      <td>155</td>\n",
              "      <td>18</td>\n",
              "      <td>242</td>\n",
              "      <td>118</td>\n",
              "      <td>3090</td>\n",
              "      <td>238</td>\n",
              "      <td>238</td>\n",
              "      <td>122</td>\n",
              "      <td>6211</td>\n",
              "      <td>1</td>\n",
              "      <td>0</td>\n",
              "      <td>0</td>\n",
              "      <td>0</td>\n",
              "      <td>0</td>\n",
              "      <td>0</td>\n",
              "      <td>0</td>\n",
              "      <td>0</td>\n",
              "      <td>0</td>\n",
              "      <td>0</td>\n",
              "      <td>0</td>\n",
              "      <td>0</td>\n",
              "      <td>0</td>\n",
              "      <td>0</td>\n",
              "      <td>0</td>\n",
              "      <td>0</td>\n",
              "      <td>0</td>\n",
              "      <td>0</td>\n",
              "      <td>0</td>\n",
              "      <td>0</td>\n",
              "      <td>0</td>\n",
              "      <td>0</td>\n",
              "      <td>0</td>\n",
              "      <td>0</td>\n",
              "      <td>0</td>\n",
              "      <td>0</td>\n",
              "      <td>0</td>\n",
              "      <td>0</td>\n",
              "      <td>0</td>\n",
              "      <td>0</td>\n",
              "      <td>0</td>\n",
              "      <td>0</td>\n",
              "      <td>0</td>\n",
              "      <td>1</td>\n",
              "      <td>0</td>\n",
              "      <td>0</td>\n",
              "      <td>0</td>\n",
              "      <td>0</td>\n",
              "      <td>0</td>\n",
              "      <td>0</td>\n",
              "      <td>0</td>\n",
              "      <td>0</td>\n",
              "      <td>0</td>\n",
              "      <td>0</td>\n",
              "      <td>2</td>\n",
              "    </tr>\n",
              "    <tr>\n",
              "      <th>4</th>\n",
              "      <td>2595</td>\n",
              "      <td>45</td>\n",
              "      <td>2</td>\n",
              "      <td>153</td>\n",
              "      <td>-1</td>\n",
              "      <td>391</td>\n",
              "      <td>220</td>\n",
              "      <td>234</td>\n",
              "      <td>150</td>\n",
              "      <td>6172</td>\n",
              "      <td>1</td>\n",
              "      <td>0</td>\n",
              "      <td>0</td>\n",
              "      <td>0</td>\n",
              "      <td>0</td>\n",
              "      <td>0</td>\n",
              "      <td>0</td>\n",
              "      <td>0</td>\n",
              "      <td>0</td>\n",
              "      <td>0</td>\n",
              "      <td>0</td>\n",
              "      <td>0</td>\n",
              "      <td>0</td>\n",
              "      <td>0</td>\n",
              "      <td>0</td>\n",
              "      <td>0</td>\n",
              "      <td>0</td>\n",
              "      <td>0</td>\n",
              "      <td>0</td>\n",
              "      <td>0</td>\n",
              "      <td>0</td>\n",
              "      <td>0</td>\n",
              "      <td>0</td>\n",
              "      <td>0</td>\n",
              "      <td>0</td>\n",
              "      <td>0</td>\n",
              "      <td>0</td>\n",
              "      <td>0</td>\n",
              "      <td>0</td>\n",
              "      <td>0</td>\n",
              "      <td>0</td>\n",
              "      <td>0</td>\n",
              "      <td>1</td>\n",
              "      <td>0</td>\n",
              "      <td>0</td>\n",
              "      <td>0</td>\n",
              "      <td>0</td>\n",
              "      <td>0</td>\n",
              "      <td>0</td>\n",
              "      <td>0</td>\n",
              "      <td>0</td>\n",
              "      <td>0</td>\n",
              "      <td>0</td>\n",
              "      <td>0</td>\n",
              "      <td>5</td>\n",
              "    </tr>\n",
              "  </tbody>\n",
              "</table>\n",
              "</div>"
            ],
            "text/plain": [
              "  Elevation Aspect Slope  ... Soil_Type39 Soil_Type40 target\n",
              "0      2596     51     3  ...           0           0      5\n",
              "1      2590     56     2  ...           0           0      5\n",
              "2      2804    139     9  ...           0           0      2\n",
              "3      2785    155    18  ...           0           0      2\n",
              "4      2595     45     2  ...           0           0      5\n",
              "\n",
              "[5 rows x 55 columns]"
            ]
          },
          "metadata": {
            "tags": []
          },
          "execution_count": 77
        }
      ]
    },
    {
      "cell_type": "code",
      "metadata": {
        "id": "vlqFikrpwUx8",
        "colab_type": "code",
        "outputId": "091b90c3-47f8-4cb3-cd33-16782f4c7327",
        "colab": {
          "base_uri": "https://localhost:8080/",
          "height": 35
        }
      },
      "source": [
        "# output- around 255 MBs\n",
        "cov_df.memory_usage(index=True).sum()"
      ],
      "execution_count": 78,
      "outputs": [
        {
          "output_type": "execute_result",
          "data": {
            "text/plain": [
              "255645408"
            ]
          },
          "metadata": {
            "tags": []
          },
          "execution_count": 78
        }
      ]
    },
    {
      "cell_type": "code",
      "metadata": {
        "id": "ixn5nlB4wypl",
        "colab_type": "code",
        "outputId": "94bcbae3-25e3-4bba-f37d-7827fdff43ae",
        "colab": {
          "base_uri": "https://localhost:8080/",
          "height": 35
        }
      },
      "source": [
        "cov_df.shape"
      ],
      "execution_count": 79,
      "outputs": [
        {
          "output_type": "execute_result",
          "data": {
            "text/plain": [
              "(581012, 55)"
            ]
          },
          "metadata": {
            "tags": []
          },
          "execution_count": 79
        }
      ]
    },
    {
      "cell_type": "code",
      "metadata": {
        "id": "qaExo741w4eJ",
        "colab_type": "code",
        "colab": {}
      },
      "source": [
        "cov_df.target.value_counts()"
      ],
      "execution_count": 0,
      "outputs": []
    },
    {
      "cell_type": "code",
      "metadata": {
        "id": "vHAOgvpTxAUK",
        "colab_type": "code",
        "outputId": "8181d917-10d8-47a9-ef0a-9cbce1f0960b",
        "colab": {
          "base_uri": "https://localhost:8080/",
          "height": 126
        }
      },
      "source": [
        "cov_df.dtypes[:5]"
      ],
      "execution_count": 80,
      "outputs": [
        {
          "output_type": "execute_result",
          "data": {
            "text/plain": [
              "Elevation                           object\n",
              "Aspect                              object\n",
              "Slope                               object\n",
              "Horizontal_Distance_To_Hydrology    object\n",
              "Vertical_Distance_To_Hydrology      object\n",
              "dtype: object"
            ]
          },
          "metadata": {
            "tags": []
          },
          "execution_count": 80
        }
      ]
    },
    {
      "cell_type": "code",
      "metadata": {
        "id": "KfXpS1ziwgvG",
        "colab_type": "code",
        "colab": {}
      },
      "source": [
        "# All the columns are object type (string). To feed into any model we need to convert into \n",
        "# numeric data. We will do it using pd.to_numeric\n",
        "# This method fails if column has non-numeric strings"
      ],
      "execution_count": 0,
      "outputs": []
    },
    {
      "cell_type": "code",
      "metadata": {
        "id": "hGaqDXaBx14m",
        "colab_type": "code",
        "colab": {}
      },
      "source": [
        "for cols in cov_df.columns:\n",
        "    cov_df[cols] = pd.to_numeric(cov_df[cols])"
      ],
      "execution_count": 0,
      "outputs": []
    },
    {
      "cell_type": "code",
      "metadata": {
        "id": "l9zi9NJlyXRX",
        "colab_type": "code",
        "outputId": "59412f56-6d02-42bc-ef1b-56807d5649b9",
        "colab": {
          "base_uri": "https://localhost:8080/",
          "height": 126
        }
      },
      "source": [
        "cov_df.dtypes[:5]"
      ],
      "execution_count": 82,
      "outputs": [
        {
          "output_type": "execute_result",
          "data": {
            "text/plain": [
              "Elevation                           float64\n",
              "Aspect                              float64\n",
              "Slope                               float64\n",
              "Horizontal_Distance_To_Hydrology    float64\n",
              "Vertical_Distance_To_Hydrology      float64\n",
              "dtype: object"
            ]
          },
          "metadata": {
            "tags": []
          },
          "execution_count": 82
        }
      ]
    },
    {
      "cell_type": "code",
      "metadata": {
        "id": "5dyIyHksyNoH",
        "colab_type": "code",
        "outputId": "fb0d425b-95e2-4da9-9911-91f5b8df8e3e",
        "colab": {
          "base_uri": "https://localhost:8080/",
          "height": 35
        }
      },
      "source": [
        "np.unique(cov_df[\"target\"])"
      ],
      "execution_count": 83,
      "outputs": [
        {
          "output_type": "execute_result",
          "data": {
            "text/plain": [
              "array([1, 2, 3, 4, 5, 6, 7])"
            ]
          },
          "metadata": {
            "tags": []
          },
          "execution_count": 83
        }
      ]
    },
    {
      "cell_type": "code",
      "metadata": {
        "id": "J1KUIY2Oy95U",
        "colab_type": "code",
        "colab": {}
      },
      "source": [
        "# These targets are from 1-7, but the normally we have indexing of target from 0.\n",
        "# So we will minus 1 from all of them"
      ],
      "execution_count": 0,
      "outputs": []
    },
    {
      "cell_type": "code",
      "metadata": {
        "id": "h5NnRC--yFFG",
        "colab_type": "code",
        "colab": {}
      },
      "source": [
        "cov_df[\"target\"] = cov_df[\"target\"] -1 "
      ],
      "execution_count": 0,
      "outputs": []
    },
    {
      "cell_type": "code",
      "metadata": {
        "id": "7OIi1xsFyR3i",
        "colab_type": "code",
        "outputId": "6f7176b8-944e-47fd-ddb3-41b1f3098a7e",
        "colab": {
          "base_uri": "https://localhost:8080/",
          "height": 35
        }
      },
      "source": [
        "np.unique(cov_df[\"target\"])"
      ],
      "execution_count": 85,
      "outputs": [
        {
          "output_type": "execute_result",
          "data": {
            "text/plain": [
              "array([0, 1, 2, 3, 4, 5, 6])"
            ]
          },
          "metadata": {
            "tags": []
          },
          "execution_count": 85
        }
      ]
    },
    {
      "cell_type": "code",
      "metadata": {
        "id": "s4aD7RKYzMzo",
        "colab_type": "code",
        "colab": {}
      },
      "source": [
        "# Parting into train and test\n",
        "train_df = cov_df.sample(frac=0.8, random_state=10)\n",
        "test_df = cov_df.drop(train_df.index)"
      ],
      "execution_count": 0,
      "outputs": []
    },
    {
      "cell_type": "code",
      "metadata": {
        "id": "tVUj6y12zgWD",
        "colab_type": "code",
        "colab": {}
      },
      "source": [
        "train_df.shape"
      ],
      "execution_count": 0,
      "outputs": []
    },
    {
      "cell_type": "code",
      "metadata": {
        "id": "vv87Yucjzhk4",
        "colab_type": "code",
        "outputId": "e04ab3e0-0e57-424a-a9fb-8ffc1189fb43",
        "colab": {
          "base_uri": "https://localhost:8080/",
          "height": 35
        }
      },
      "source": [
        "test_df.shape"
      ],
      "execution_count": 87,
      "outputs": [
        {
          "output_type": "execute_result",
          "data": {
            "text/plain": [
              "(116202, 55)"
            ]
          },
          "metadata": {
            "tags": []
          },
          "execution_count": 87
        }
      ]
    },
    {
      "cell_type": "code",
      "metadata": {
        "id": "etSUSp7azi-Z",
        "colab_type": "code",
        "outputId": "a6591dad-9bf8-460f-a8a5-c1a6bbf70b03",
        "colab": {
          "base_uri": "https://localhost:8080/",
          "height": 90
        }
      },
      "source": [
        "# Here we are converting to parquet format and to store it and also using snappy compression to compress\n",
        "train_df.to_parquet(fname = \"covtype_train.parquet\", compression=\"snappy\", index=False)\n",
        "test_df.to_parquet(fname=\"covtype_test.parquet\", compression=\"snappy\", index=False)"
      ],
      "execution_count": 88,
      "outputs": [
        {
          "output_type": "stream",
          "text": [
            "/usr/local/lib/python3.6/dist-packages/ipykernel_launcher.py:1: FutureWarning: the 'fname'' keyword is deprecated, use 'path' instead\n",
            "  \"\"\"Entry point for launching an IPython kernel.\n",
            "/usr/local/lib/python3.6/dist-packages/ipykernel_launcher.py:2: FutureWarning: the 'fname'' keyword is deprecated, use 'path' instead\n",
            "  \n"
          ],
          "name": "stderr"
        }
      ]
    },
    {
      "cell_type": "code",
      "metadata": {
        "id": "OKzl0leTz9OW",
        "colab_type": "code",
        "outputId": "420afa64-a0ef-4248-d26e-cc0753925a1a",
        "colab": {
          "base_uri": "https://localhost:8080/",
          "height": 126
        }
      },
      "source": [
        "!ls"
      ],
      "execution_count": 89,
      "outputs": [
        {
          "output_type": "stream",
          "text": [
            "covtype_test.parquet\t   spark-2.4.5-bin-hadoop2.7.tgz\n",
            "covtype_train.parquet\t   spark-2.4.5-bin-hadoop2.7.tgz.1\n",
            "cudf-0.9.2-cuda10-1.jar    xgboost4j_2.x-1.0.0-Beta5.jar\n",
            "cudf-0.9.2-cuda10-1.jar.1  xgboost4j_2.x-1.0.0-Beta5.jar.1\n",
            "sample_data\t\t   xgboost4j-spark_2.x-1.0.0-Beta5.jar\n",
            "spark-2.4.5-bin-hadoop2.7  xgboost4j-spark_2.x-1.0.0-Beta5.jar.1\n"
          ],
          "name": "stdout"
        }
      ]
    },
    {
      "cell_type": "code",
      "metadata": {
        "id": "4QW5h_riz_gs",
        "colab_type": "code",
        "colab": {}
      },
      "source": [
        "import pyarrow.parquet as pq"
      ],
      "execution_count": 0,
      "outputs": []
    },
    {
      "cell_type": "code",
      "metadata": {
        "id": "dNLxiUO413nS",
        "colab_type": "code",
        "colab": {
          "base_uri": "https://localhost:8080/",
          "height": 1000
        },
        "outputId": "f27a70e0-c0fd-4128-8544-920004650d0c"
      },
      "source": [
        "pq.read_table(\"covtype_train.parquet\")"
      ],
      "execution_count": 91,
      "outputs": [
        {
          "output_type": "execute_result",
          "data": {
            "text/plain": [
              "pyarrow.Table\n",
              "Elevation: double\n",
              "Aspect: double\n",
              "Slope: double\n",
              "Horizontal_Distance_To_Hydrology: double\n",
              "Vertical_Distance_To_Hydrology: double\n",
              "Horizontal_Distance_To_Roadways: double\n",
              "Hillshade_9am: double\n",
              "Hillshade_Noon: double\n",
              "Hillshade_3pm: double\n",
              "Horizontal_Distance_To_Fire_Points: double\n",
              "Wilderness_Area1: double\n",
              "Wilderness_Area2: double\n",
              "Wilderness_Area3: double\n",
              "Wilderness_Area4: double\n",
              "Soil_Type1: double\n",
              "Soil_Type2: double\n",
              "Soil_Type3: double\n",
              "Soil_Type4: double\n",
              "Soil_Type5: double\n",
              "Soil_Type6: double\n",
              "Soil_Type7: double\n",
              "Soil_Type8: double\n",
              "Soil_Type9: double\n",
              "Soil_Type10: double\n",
              "Soil_Type11: double\n",
              "Soil_Type12: double\n",
              "Soil_Type13: double\n",
              "Soil_Type14: double\n",
              "Soil_Type15: double\n",
              "Soil_Type16: double\n",
              "Soil_Type17: double\n",
              "Soil_Type18: double\n",
              "Soil_Type19: double\n",
              "Soil_Type20: double\n",
              "Soil_Type21: double\n",
              "Soil_Type22: double\n",
              "Soil_Type23: double\n",
              "Soil_Type24: double\n",
              "Soil_Type25: double\n",
              "Soil_Type26: double\n",
              "Soil_Type27: double\n",
              "Soil_Type28: double\n",
              "Soil_Type29: double\n",
              "Soil_Type30: double\n",
              "Soil_Type31: double\n",
              "Soil_Type32: double\n",
              "Soil_Type33: double\n",
              "Soil_Type34: double\n",
              "Soil_Type35: double\n",
              "Soil_Type36: double\n",
              "Soil_Type37: double\n",
              "Soil_Type38: double\n",
              "Soil_Type39: double\n",
              "Soil_Type40: double\n",
              "target: int64\n",
              "metadata\n",
              "--------\n",
              "OrderedDict([(b'pandas',\n",
              "              b'{\"index_columns\": [], \"column_indexes\": [], \"columns\": [{\"na'\n",
              "              b'me\": \"Elevation\", \"field_name\": \"Elevation\", \"pandas_type\": '\n",
              "              b'\"float64\", \"numpy_type\": \"float64\", \"metadata\": null}, {\"nam'\n",
              "              b'e\": \"Aspect\", \"field_name\": \"Aspect\", \"pandas_type\": \"float6'\n",
              "              b'4\", \"numpy_type\": \"float64\", \"metadata\": null}, {\"name\": \"Sl'\n",
              "              b'ope\", \"field_name\": \"Slope\", \"pandas_type\": \"float64\", \"nump'\n",
              "              b'y_type\": \"float64\", \"metadata\": null}, {\"name\": \"Horizontal_'\n",
              "              b'Distance_To_Hydrology\", \"field_name\": \"Horizontal_Distance_T'\n",
              "              b'o_Hydrology\", \"pandas_type\": \"float64\", \"numpy_type\": \"float'\n",
              "              b'64\", \"metadata\": null}, {\"name\": \"Vertical_Distance_To_Hydro'\n",
              "              b'logy\", \"field_name\": \"Vertical_Distance_To_Hydrology\", \"pand'\n",
              "              b'as_type\": \"float64\", \"numpy_type\": \"float64\", \"metadata\": nu'\n",
              "              b'll}, {\"name\": \"Horizontal_Distance_To_Roadways\", \"field_name'\n",
              "              b'\": \"Horizontal_Distance_To_Roadways\", \"pandas_type\": \"float6'\n",
              "              b'4\", \"numpy_type\": \"float64\", \"metadata\": null}, {\"name\": \"Hi'\n",
              "              b'llshade_9am\", \"field_name\": \"Hillshade_9am\", \"pandas_type\": '\n",
              "              b'\"float64\", \"numpy_type\": \"float64\", \"metadata\": null}, {\"nam'\n",
              "              b'e\": \"Hillshade_Noon\", \"field_name\": \"Hillshade_Noon\", \"panda'\n",
              "              b's_type\": \"float64\", \"numpy_type\": \"float64\", \"metadata\": nul'\n",
              "              b'l}, {\"name\": \"Hillshade_3pm\", \"field_name\": \"Hillshade_3pm\",'\n",
              "              b' \"pandas_type\": \"float64\", \"numpy_type\": \"float64\", \"metadat'\n",
              "              b'a\": null}, {\"name\": \"Horizontal_Distance_To_Fire_Points\", \"f'\n",
              "              b'ield_name\": \"Horizontal_Distance_To_Fire_Points\", \"pandas_ty'\n",
              "              b'pe\": \"float64\", \"numpy_type\": \"float64\", \"metadata\": null}, '\n",
              "              b'{\"name\": \"Wilderness_Area1\", \"field_name\": \"Wilderness_Area1'\n",
              "              b'\", \"pandas_type\": \"float64\", \"numpy_type\": \"float64\", \"metad'\n",
              "              b'ata\": null}, {\"name\": \"Wilderness_Area2\", \"field_name\": \"Wil'\n",
              "              b'derness_Area2\", \"pandas_type\": \"float64\", \"numpy_type\": \"flo'\n",
              "              b'at64\", \"metadata\": null}, {\"name\": \"Wilderness_Area3\", \"fiel'\n",
              "              b'd_name\": \"Wilderness_Area3\", \"pandas_type\": \"float64\", \"nump'\n",
              "              b'y_type\": \"float64\", \"metadata\": null}, {\"name\": \"Wilderness_'\n",
              "              b'Area4\", \"field_name\": \"Wilderness_Area4\", \"pandas_type\": \"fl'\n",
              "              b'oat64\", \"numpy_type\": \"float64\", \"metadata\": null}, {\"name\":'\n",
              "              b' \"Soil_Type1\", \"field_name\": \"Soil_Type1\", \"pandas_type\": \"f'\n",
              "              b'loat64\", \"numpy_type\": \"float64\", \"metadata\": null}, {\"name\"'\n",
              "              b': \"Soil_Type2\", \"field_name\": \"Soil_Type2\", \"pandas_type\": \"'\n",
              "              b'float64\", \"numpy_type\": \"float64\", \"metadata\": null}, {\"name'\n",
              "              b'\": \"Soil_Type3\", \"field_name\": \"Soil_Type3\", \"pandas_type\": '\n",
              "              b'\"float64\", \"numpy_type\": \"float64\", \"metadata\": null}, {\"nam'\n",
              "              b'e\": \"Soil_Type4\", \"field_name\": \"Soil_Type4\", \"pandas_type\":'\n",
              "              b' \"float64\", \"numpy_type\": \"float64\", \"metadata\": null}, {\"na'\n",
              "              b'me\": \"Soil_Type5\", \"field_name\": \"Soil_Type5\", \"pandas_type\"'\n",
              "              b': \"float64\", \"numpy_type\": \"float64\", \"metadata\": null}, {\"n'\n",
              "              b'ame\": \"Soil_Type6\", \"field_name\": \"Soil_Type6\", \"pandas_type'\n",
              "              b'\": \"float64\", \"numpy_type\": \"float64\", \"metadata\": null}, {\"'\n",
              "              b'name\": \"Soil_Type7\", \"field_name\": \"Soil_Type7\", \"pandas_typ'\n",
              "              b'e\": \"float64\", \"numpy_type\": \"float64\", \"metadata\": null}, {'\n",
              "              b'\"name\": \"Soil_Type8\", \"field_name\": \"Soil_Type8\", \"pandas_ty'\n",
              "              b'pe\": \"float64\", \"numpy_type\": \"float64\", \"metadata\": null}, '\n",
              "              b'{\"name\": \"Soil_Type9\", \"field_name\": \"Soil_Type9\", \"pandas_t'\n",
              "              b'ype\": \"float64\", \"numpy_type\": \"float64\", \"metadata\": null},'\n",
              "              b' {\"name\": \"Soil_Type10\", \"field_name\": \"Soil_Type10\", \"panda'\n",
              "              b's_type\": \"float64\", \"numpy_type\": \"float64\", \"metadata\": nul'\n",
              "              b'l}, {\"name\": \"Soil_Type11\", \"field_name\": \"Soil_Type11\", \"pa'\n",
              "              b'ndas_type\": \"float64\", \"numpy_type\": \"float64\", \"metadata\": '\n",
              "              b'null}, {\"name\": \"Soil_Type12\", \"field_name\": \"Soil_Type12\", '\n",
              "              b'\"pandas_type\": \"float64\", \"numpy_type\": \"float64\", \"metadata'\n",
              "              b'\": null}, {\"name\": \"Soil_Type13\", \"field_name\": \"Soil_Type13'\n",
              "              b'\", \"pandas_type\": \"float64\", \"numpy_type\": \"float64\", \"metad'\n",
              "              b'ata\": null}, {\"name\": \"Soil_Type14\", \"field_name\": \"Soil_Typ'\n",
              "              b'e14\", \"pandas_type\": \"float64\", \"numpy_type\": \"float64\", \"me'\n",
              "              b'tadata\": null}, {\"name\": \"Soil_Type15\", \"field_name\": \"Soil_'\n",
              "              b'Type15\", \"pandas_type\": \"float64\", \"numpy_type\": \"float64\", '\n",
              "              b'\"metadata\": null}, {\"name\": \"Soil_Type16\", \"field_name\": \"So'\n",
              "              b'il_Type16\", \"pandas_type\": \"float64\", \"numpy_type\": \"float64'\n",
              "              b'\", \"metadata\": null}, {\"name\": \"Soil_Type17\", \"field_name\": '\n",
              "              b'\"Soil_Type17\", \"pandas_type\": \"float64\", \"numpy_type\": \"floa'\n",
              "              b't64\", \"metadata\": null}, {\"name\": \"Soil_Type18\", \"field_name'\n",
              "              b'\": \"Soil_Type18\", \"pandas_type\": \"float64\", \"numpy_type\": \"f'\n",
              "              b'loat64\", \"metadata\": null}, {\"name\": \"Soil_Type19\", \"field_n'\n",
              "              b'ame\": \"Soil_Type19\", \"pandas_type\": \"float64\", \"numpy_type\":'\n",
              "              b' \"float64\", \"metadata\": null}, {\"name\": \"Soil_Type20\", \"fiel'\n",
              "              b'd_name\": \"Soil_Type20\", \"pandas_type\": \"float64\", \"numpy_typ'\n",
              "              b'e\": \"float64\", \"metadata\": null}, {\"name\": \"Soil_Type21\", \"f'\n",
              "              b'ield_name\": \"Soil_Type21\", \"pandas_type\": \"float64\", \"numpy_'\n",
              "              b'type\": \"float64\", \"metadata\": null}, {\"name\": \"Soil_Type22\",'\n",
              "              b' \"field_name\": \"Soil_Type22\", \"pandas_type\": \"float64\", \"num'\n",
              "              b'py_type\": \"float64\", \"metadata\": null}, {\"name\": \"Soil_Type2'\n",
              "              b'3\", \"field_name\": \"Soil_Type23\", \"pandas_type\": \"float64\", \"'\n",
              "              b'numpy_type\": \"float64\", \"metadata\": null}, {\"name\": \"Soil_Ty'\n",
              "              b'pe24\", \"field_name\": \"Soil_Type24\", \"pandas_type\": \"float64\"'\n",
              "              b', \"numpy_type\": \"float64\", \"metadata\": null}, {\"name\": \"Soil'\n",
              "              b'_Type25\", \"field_name\": \"Soil_Type25\", \"pandas_type\": \"float'\n",
              "              b'64\", \"numpy_type\": \"float64\", \"metadata\": null}, {\"name\": \"S'\n",
              "              b'oil_Type26\", \"field_name\": \"Soil_Type26\", \"pandas_type\": \"fl'\n",
              "              b'oat64\", \"numpy_type\": \"float64\", \"metadata\": null}, {\"name\":'\n",
              "              b' \"Soil_Type27\", \"field_name\": \"Soil_Type27\", \"pandas_type\": '\n",
              "              b'\"float64\", \"numpy_type\": \"float64\", \"metadata\": null}, {\"nam'\n",
              "              b'e\": \"Soil_Type28\", \"field_name\": \"Soil_Type28\", \"pandas_type'\n",
              "              b'\": \"float64\", \"numpy_type\": \"float64\", \"metadata\": null}, {\"'\n",
              "              b'name\": \"Soil_Type29\", \"field_name\": \"Soil_Type29\", \"pandas_t'\n",
              "              b'ype\": \"float64\", \"numpy_type\": \"float64\", \"metadata\": null},'\n",
              "              b' {\"name\": \"Soil_Type30\", \"field_name\": \"Soil_Type30\", \"panda'\n",
              "              b's_type\": \"float64\", \"numpy_type\": \"float64\", \"metadata\": nul'\n",
              "              b'l}, {\"name\": \"Soil_Type31\", \"field_name\": \"Soil_Type31\", \"pa'\n",
              "              b'ndas_type\": \"float64\", \"numpy_type\": \"float64\", \"metadata\": '\n",
              "              b'null}, {\"name\": \"Soil_Type32\", \"field_name\": \"Soil_Type32\", '\n",
              "              b'\"pandas_type\": \"float64\", \"numpy_type\": \"float64\", \"metadata'\n",
              "              b'\": null}, {\"name\": \"Soil_Type33\", \"field_name\": \"Soil_Type33'\n",
              "              b'\", \"pandas_type\": \"float64\", \"numpy_type\": \"float64\", \"metad'\n",
              "              b'ata\": null}, {\"name\": \"Soil_Type34\", \"field_name\": \"Soil_Typ'\n",
              "              b'e34\", \"pandas_type\": \"float64\", \"numpy_type\": \"float64\", \"me'\n",
              "              b'tadata\": null}, {\"name\": \"Soil_Type35\", \"field_name\": \"Soil_'\n",
              "              b'Type35\", \"pandas_type\": \"float64\", \"numpy_type\": \"float64\", '\n",
              "              b'\"metadata\": null}, {\"name\": \"Soil_Type36\", \"field_name\": \"So'\n",
              "              b'il_Type36\", \"pandas_type\": \"float64\", \"numpy_type\": \"float64'\n",
              "              b'\", \"metadata\": null}, {\"name\": \"Soil_Type37\", \"field_name\": '\n",
              "              b'\"Soil_Type37\", \"pandas_type\": \"float64\", \"numpy_type\": \"floa'\n",
              "              b't64\", \"metadata\": null}, {\"name\": \"Soil_Type38\", \"field_name'\n",
              "              b'\": \"Soil_Type38\", \"pandas_type\": \"float64\", \"numpy_type\": \"f'\n",
              "              b'loat64\", \"metadata\": null}, {\"name\": \"Soil_Type39\", \"field_n'\n",
              "              b'ame\": \"Soil_Type39\", \"pandas_type\": \"float64\", \"numpy_type\":'\n",
              "              b' \"float64\", \"metadata\": null}, {\"name\": \"Soil_Type40\", \"fiel'\n",
              "              b'd_name\": \"Soil_Type40\", \"pandas_type\": \"float64\", \"numpy_typ'\n",
              "              b'e\": \"float64\", \"metadata\": null}, {\"name\": \"target\", \"field_'\n",
              "              b'name\": \"target\", \"pandas_type\": \"int64\", \"numpy_type\": \"int6'\n",
              "              b'4\", \"metadata\": null}], \"creator\": {\"library\": \"pyarrow\", \"v'\n",
              "              b'ersion\": \"0.14.1\"}, \"pandas_version\": \"1.0.3\"}')])"
            ]
          },
          "metadata": {
            "tags": []
          },
          "execution_count": 91
        }
      ]
    },
    {
      "cell_type": "code",
      "metadata": {
        "id": "FsmI8h5C19Ku",
        "colab_type": "code",
        "outputId": "9ccfc9ee-8a61-4fdd-cf16-164c26ad2c22",
        "colab": {
          "base_uri": "https://localhost:8080/",
          "height": 340
        }
      },
      "source": [
        "# Reading data into GPU memory\n",
        "train_data = GpuDataReader(spark).format(\"parquet\").load(\"covtype_train.parquet\")\n",
        "test_data = GpuDataReader(spark).format(\"parquet\").load(\"covtype_test.parquet\")"
      ],
      "execution_count": 92,
      "outputs": [
        {
          "output_type": "error",
          "ename": "TypeError",
          "evalue": "ignored",
          "traceback": [
            "\u001b[0;31m---------------------------------------------------------------------------\u001b[0m",
            "\u001b[0;31mTypeError\u001b[0m                                 Traceback (most recent call last)",
            "\u001b[0;32m<ipython-input-92-9a23459033f2>\u001b[0m in \u001b[0;36m<module>\u001b[0;34m()\u001b[0m\n\u001b[0;32m----> 1\u001b[0;31m \u001b[0mtrain_data\u001b[0m \u001b[0;34m=\u001b[0m \u001b[0mGpuDataReader\u001b[0m\u001b[0;34m(\u001b[0m\u001b[0mspark\u001b[0m\u001b[0;34m)\u001b[0m\u001b[0;34m.\u001b[0m\u001b[0mformat\u001b[0m\u001b[0;34m(\u001b[0m\u001b[0;34m\"parquet\"\u001b[0m\u001b[0;34m)\u001b[0m\u001b[0;34m.\u001b[0m\u001b[0mload\u001b[0m\u001b[0;34m(\u001b[0m\u001b[0;34m\"covtype_train.parquet\"\u001b[0m\u001b[0;34m)\u001b[0m\u001b[0;34m\u001b[0m\u001b[0;34m\u001b[0m\u001b[0m\n\u001b[0m\u001b[1;32m      2\u001b[0m \u001b[0mtest_data\u001b[0m \u001b[0;34m=\u001b[0m \u001b[0mGpuDataReader\u001b[0m\u001b[0;34m(\u001b[0m\u001b[0mspark\u001b[0m\u001b[0;34m)\u001b[0m\u001b[0;34m.\u001b[0m\u001b[0mformat\u001b[0m\u001b[0;34m(\u001b[0m\u001b[0;34m\"parquet\"\u001b[0m\u001b[0;34m)\u001b[0m\u001b[0;34m.\u001b[0m\u001b[0mload\u001b[0m\u001b[0;34m(\u001b[0m\u001b[0;34m\"covtype_test.parquet\"\u001b[0m\u001b[0;34m)\u001b[0m\u001b[0;34m\u001b[0m\u001b[0;34m\u001b[0m\u001b[0m\n",
            "\u001b[0;32m/tmp/spark-a060e9af-bf84-4ee8-bc34-d5800a0ffc6c/userFiles-f967e36b-397a-4fc0-a5a0-4055782716b6/xgboost4j-spark_2.x-1.0.0-Beta5.jar/sparkxgb/rapids.py\u001b[0m in \u001b[0;36m__init__\u001b[0;34m(self, spark_session)\u001b[0m\n\u001b[1;32m     55\u001b[0m         self._java_obj = self._new_java_obj(\n\u001b[1;32m     56\u001b[0m             \u001b[0;34m'ml.dmlc.xgboost4j.scala.spark.rapids.GpuDataReader'\u001b[0m\u001b[0;34m,\u001b[0m\u001b[0;34m\u001b[0m\u001b[0;34m\u001b[0m\u001b[0m\n\u001b[0;32m---> 57\u001b[0;31m             spark_session._jsparkSession)\n\u001b[0m\u001b[1;32m     58\u001b[0m         \u001b[0mself\u001b[0m\u001b[0;34m.\u001b[0m\u001b[0m_spark_session\u001b[0m \u001b[0;34m=\u001b[0m \u001b[0mspark_session\u001b[0m\u001b[0;34m\u001b[0m\u001b[0;34m\u001b[0m\u001b[0m\n\u001b[1;32m     59\u001b[0m \u001b[0;34m\u001b[0m\u001b[0m\n",
            "\u001b[0;32m/content/spark-2.4.5-bin-hadoop2.7/python/pyspark/ml/wrapper.py\u001b[0m in \u001b[0;36m_new_java_obj\u001b[0;34m(java_class, *args)\u001b[0m\n\u001b[1;32m     65\u001b[0m             \u001b[0mjava_obj\u001b[0m \u001b[0;34m=\u001b[0m \u001b[0mgetattr\u001b[0m\u001b[0;34m(\u001b[0m\u001b[0mjava_obj\u001b[0m\u001b[0;34m,\u001b[0m \u001b[0mname\u001b[0m\u001b[0;34m)\u001b[0m\u001b[0;34m\u001b[0m\u001b[0;34m\u001b[0m\u001b[0m\n\u001b[1;32m     66\u001b[0m         \u001b[0mjava_args\u001b[0m \u001b[0;34m=\u001b[0m \u001b[0;34m[\u001b[0m\u001b[0m_py2java\u001b[0m\u001b[0;34m(\u001b[0m\u001b[0msc\u001b[0m\u001b[0;34m,\u001b[0m \u001b[0marg\u001b[0m\u001b[0;34m)\u001b[0m \u001b[0;32mfor\u001b[0m \u001b[0marg\u001b[0m \u001b[0;32min\u001b[0m \u001b[0margs\u001b[0m\u001b[0;34m]\u001b[0m\u001b[0;34m\u001b[0m\u001b[0;34m\u001b[0m\u001b[0m\n\u001b[0;32m---> 67\u001b[0;31m         \u001b[0;32mreturn\u001b[0m \u001b[0mjava_obj\u001b[0m\u001b[0;34m(\u001b[0m\u001b[0;34m*\u001b[0m\u001b[0mjava_args\u001b[0m\u001b[0;34m)\u001b[0m\u001b[0;34m\u001b[0m\u001b[0;34m\u001b[0m\u001b[0m\n\u001b[0m\u001b[1;32m     68\u001b[0m \u001b[0;34m\u001b[0m\u001b[0m\n\u001b[1;32m     69\u001b[0m     \u001b[0;34m@\u001b[0m\u001b[0mstaticmethod\u001b[0m\u001b[0;34m\u001b[0m\u001b[0;34m\u001b[0m\u001b[0m\n",
            "\u001b[0;31mTypeError\u001b[0m: 'JavaPackage' object is not callable"
          ]
        }
      ]
    },
    {
      "cell_type": "code",
      "metadata": {
        "id": "VoArIWmS4VGh",
        "colab_type": "code",
        "colab": {}
      },
      "source": [
        "# I am getting this error due to package installation error. Cell number 68 was in video but cell 69 was not. \n",
        "# There was some error coming in cell 70 due to which i had to comment cell 68 and use cell 69\n",
        "# As suggested by a stackOverflow answer. However now this is giving me error. I can assume that its because i\n",
        "# commented cell 68 and didnt export JAR files  \n",
        "\n",
        "# I am not trying to solve this package issue now because thats not whats important to me now. Il just\n",
        "# watch the video and type the commands below without executing the commands which will throw error due to package issue \n",
        "# so that in future when i need to do all this, using Apache Spark with XGboost and GPU,\n",
        "# and i fix package issue then i can run below commands without watching video again."
      ],
      "execution_count": 0,
      "outputs": []
    },
    {
      "cell_type": "code",
      "metadata": {
        "id": "icEXXzwv4RGo",
        "colab_type": "code",
        "colab": {}
      },
      "source": [
        "train_data.schema"
      ],
      "execution_count": 0,
      "outputs": []
    },
    {
      "cell_type": "code",
      "metadata": {
        "id": "UNC2yAV_4TQT",
        "colab_type": "code",
        "colab": {}
      },
      "source": [
        "pq_file = pq.read_table(\"covtype_train.parquet\")"
      ],
      "execution_count": 0,
      "outputs": []
    },
    {
      "cell_type": "code",
      "metadata": {
        "id": "uW2nt9W92SQp",
        "colab_type": "code",
        "colab": {}
      },
      "source": [
        "label = \"target\"\n",
        "features = [x for x in pq_file.column_names if x != label]"
      ],
      "execution_count": 0,
      "outputs": []
    },
    {
      "cell_type": "code",
      "metadata": {
        "id": "FK8xQ4m15uZx",
        "colab_type": "code",
        "colab": {
          "base_uri": "https://localhost:8080/",
          "height": 999
        },
        "outputId": "4b1d4c35-c573-41c3-c1f1-dc5996fdffe2"
      },
      "source": [
        "features"
      ],
      "execution_count": 97,
      "outputs": [
        {
          "output_type": "execute_result",
          "data": {
            "text/plain": [
              "['Elevation',\n",
              " 'Aspect',\n",
              " 'Slope',\n",
              " 'Horizontal_Distance_To_Hydrology',\n",
              " 'Vertical_Distance_To_Hydrology',\n",
              " 'Horizontal_Distance_To_Roadways',\n",
              " 'Hillshade_9am',\n",
              " 'Hillshade_Noon',\n",
              " 'Hillshade_3pm',\n",
              " 'Horizontal_Distance_To_Fire_Points',\n",
              " 'Wilderness_Area1',\n",
              " 'Wilderness_Area2',\n",
              " 'Wilderness_Area3',\n",
              " 'Wilderness_Area4',\n",
              " 'Soil_Type1',\n",
              " 'Soil_Type2',\n",
              " 'Soil_Type3',\n",
              " 'Soil_Type4',\n",
              " 'Soil_Type5',\n",
              " 'Soil_Type6',\n",
              " 'Soil_Type7',\n",
              " 'Soil_Type8',\n",
              " 'Soil_Type9',\n",
              " 'Soil_Type10',\n",
              " 'Soil_Type11',\n",
              " 'Soil_Type12',\n",
              " 'Soil_Type13',\n",
              " 'Soil_Type14',\n",
              " 'Soil_Type15',\n",
              " 'Soil_Type16',\n",
              " 'Soil_Type17',\n",
              " 'Soil_Type18',\n",
              " 'Soil_Type19',\n",
              " 'Soil_Type20',\n",
              " 'Soil_Type21',\n",
              " 'Soil_Type22',\n",
              " 'Soil_Type23',\n",
              " 'Soil_Type24',\n",
              " 'Soil_Type25',\n",
              " 'Soil_Type26',\n",
              " 'Soil_Type27',\n",
              " 'Soil_Type28',\n",
              " 'Soil_Type29',\n",
              " 'Soil_Type30',\n",
              " 'Soil_Type31',\n",
              " 'Soil_Type32',\n",
              " 'Soil_Type33',\n",
              " 'Soil_Type34',\n",
              " 'Soil_Type35',\n",
              " 'Soil_Type36',\n",
              " 'Soil_Type37',\n",
              " 'Soil_Type38',\n",
              " 'Soil_Type39',\n",
              " 'Soil_Type40']"
            ]
          },
          "metadata": {
            "tags": []
          },
          "execution_count": 97
        }
      ]
    },
    {
      "cell_type": "code",
      "metadata": {
        "id": "t6zy8eS24HZ5",
        "colab_type": "code",
        "colab": {}
      },
      "source": [
        "import time"
      ],
      "execution_count": 0,
      "outputs": []
    },
    {
      "cell_type": "code",
      "metadata": {
        "id": "PPejIFe06A5K",
        "colab_type": "code",
        "colab": {}
      },
      "source": [
        "params = {\"eta\": 0.1,\n",
        "          \"gamma\": 0.1,\n",
        "          \"missing\": 0,\n",
        "          \"treeMethod\": \"gpu_hist\",\n",
        "          \"maxDepth\": 8,\n",
        "          \"growPolicy\": \"depthwise\",\n",
        "          \"lambda_\":1.0,\n",
        "          \"subsample\":1.0,\n",
        "          \"numRound\": 1000,\n",
        "          \"numWorkers\":1,\n",
        "          \"verbosity\":1\n",
        "          }\n",
        "\n",
        "classifier = XGBoostClassifier(**params).setLabelCol(label).setFeatureCols(features)"
      ],
      "execution_count": 0,
      "outputs": []
    },
    {
      "cell_type": "code",
      "metadata": {
        "id": "ve_F2JFp68J-",
        "colab_type": "code",
        "colab": {}
      },
      "source": [
        "start_time = time.time()\n",
        "model = classifier.fit(train_data)\n",
        "end_time = time.time()\n",
        "print(f\"time taken: {end_time - start_time}\")"
      ],
      "execution_count": 0,
      "outputs": []
    },
    {
      "cell_type": "code",
      "metadata": {
        "id": "2e6uw0X-66GA",
        "colab_type": "code",
        "colab": {}
      },
      "source": [
        "model.write().overwrite().save(\"/content/model/\")"
      ],
      "execution_count": 0,
      "outputs": []
    },
    {
      "cell_type": "code",
      "metadata": {
        "id": "q1mcLwue7vfE",
        "colab_type": "code",
        "colab": {}
      },
      "source": [
        "loaded_model = XGBoostClassificationModel().load(\"/content/model/\")"
      ],
      "execution_count": 0,
      "outputs": []
    },
    {
      "cell_type": "code",
      "metadata": {
        "id": "SBIZPO9g8Ag6",
        "colab_type": "code",
        "colab": {}
      },
      "source": [
        "result = loaded_model.transform(test_data)"
      ],
      "execution_count": 0,
      "outputs": []
    },
    {
      "cell_type": "code",
      "metadata": {
        "id": "bCgTUMcQ8HDb",
        "colab_type": "code",
        "colab": {}
      },
      "source": [
        "result.show()"
      ],
      "execution_count": 0,
      "outputs": []
    },
    {
      "cell_type": "code",
      "metadata": {
        "id": "aXMCR5oi8Ivy",
        "colab_type": "code",
        "colab": {}
      },
      "source": [
        "MulticlassClassificationEvaluator().setLabelColumn(label).evaluate(result)"
      ],
      "execution_count": 0,
      "outputs": []
    }
  ]
}