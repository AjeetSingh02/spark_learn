{
  "nbformat": 4,
  "nbformat_minor": 0,
  "metadata": {
    "colab": {
      "name": "ApacheSparkTransformationAndActions.ipynb",
      "provenance": [],
      "collapsed_sections": [
        "IuHTBxi4nJpm",
        "cidR1x9VnP_H",
        "_qJ_zrRnikTA",
        "2v9OfujfnfAI",
        "6BX_Oqb3F_Zv"
      ]
    },
    "kernelspec": {
      "name": "python3",
      "display_name": "Python 3"
    }
  },
  "cells": [
    {
      "cell_type": "markdown",
      "metadata": {
        "id": "IuHTBxi4nJpm",
        "colab_type": "text"
      },
      "source": [
        "# Download and Installation"
      ]
    },
    {
      "cell_type": "code",
      "metadata": {
        "id": "z2kJaQdPNOc7",
        "colab_type": "code",
        "colab": {}
      },
      "source": [
        "import pandas as pd"
      ],
      "execution_count": 0,
      "outputs": []
    },
    {
      "cell_type": "code",
      "metadata": {
        "id": "gUMucU9hJPDQ",
        "colab_type": "code",
        "colab": {}
      },
      "source": [
        "!apt-get install openjdk-8-jdk-headless -qq > /dev/null\n",
        "!wget -q https://downloads.apache.org/spark/spark-2.4.5/spark-2.4.5-bin-hadoop2.7.tgz\n",
        "!tar xf spark-2.4.5-bin-hadoop2.7.tgz\n",
        "!pip install -q findspark"
      ],
      "execution_count": 0,
      "outputs": []
    },
    {
      "cell_type": "code",
      "metadata": {
        "id": "rra97k5CJiQ2",
        "colab_type": "code",
        "colab": {}
      },
      "source": [
        "import os\n",
        "os.environ[\"JAVA_HOME\"] = \"/usr/lib/jvm/java-8-openjdk-amd64\"\n",
        "os.environ[\"SPARK_HOME\"] = \"/content/spark-2.4.5-bin-hadoop2.7\""
      ],
      "execution_count": 0,
      "outputs": []
    },
    {
      "cell_type": "code",
      "metadata": {
        "id": "oFTvnmCvJigO",
        "colab_type": "code",
        "colab": {}
      },
      "source": [
        "import findspark\n",
        "findspark.init()   # Will search for Spark and set in the system path"
      ],
      "execution_count": 0,
      "outputs": []
    },
    {
      "cell_type": "code",
      "metadata": {
        "id": "qiXBU0n2Jir2",
        "colab_type": "code",
        "colab": {}
      },
      "source": [
        "# to work with spark we need a spark context\n",
        "from pyspark.sql import SparkSession\n",
        "\n",
        "# Here we are telling that SparkSession.builder.master is local since we dont have distributed environment\n",
        "# Both driver and executer node will be local colab environment\n",
        "spark = SparkSession.builder.master(\"local[*]\").getOrCreate()\n",
        "\n",
        "# Here we are providing other configurations which we usually provide during Spark Summit\n",
        "spark.conf.set(\"spark.executor.memory\", \"4g\")   # How much executer memory is allocated\n",
        "spark.conf.set(\"spark.driver.memory\", \"4g\")   # How much driver memory is allocated\n",
        "spark.conf.set(\"spark.memory.fraction\", \"0.9\")   # What memory fraction to allocate"
      ],
      "execution_count": 0,
      "outputs": []
    },
    {
      "cell_type": "code",
      "metadata": {
        "id": "UqaEHhQGJi2-",
        "colab_type": "code",
        "colab": {}
      },
      "source": [
        "import sys, tempfile, urllib\n",
        "from pyspark.sql.functions import *"
      ],
      "execution_count": 0,
      "outputs": []
    },
    {
      "cell_type": "code",
      "metadata": {
        "id": "yaeMrBI_JjCK",
        "colab_type": "code",
        "colab": {}
      },
      "source": [
        "BASE_DIR = \"/tmp\"\n",
        "CORONA_DATA_FILE = os.path.join(BASE_DIR, \"corona_data.csv\")\n",
        "TWITTER_DATA_FILE = os.path.join(BASE_DIR, \"twitter_data.csv\")"
      ],
      "execution_count": 0,
      "outputs": []
    },
    {
      "cell_type": "code",
      "metadata": {
        "id": "_-T-dq-TJjWY",
        "colab_type": "code",
        "colab": {}
      },
      "source": [
        "corona_data = urllib.request.urlretrieve(\"https://raw.githubusercontent.com/srivatsan88/YouTubeLI/master/dataset/coronavirus/corona_dataset_latest.csv\", CORONA_DATA_FILE)"
      ],
      "execution_count": 0,
      "outputs": []
    },
    {
      "cell_type": "code",
      "metadata": {
        "id": "syN0HmlpODIT",
        "colab_type": "code",
        "colab": {}
      },
      "source": [
        "twitter_data = urllib.request.urlretrieve(\"https://raw.githubusercontent.com/srivatsan88/YouTubeLI/master/dataset/coronavirus/tweets.csv\", TWITTER_DATA_FILE)"
      ],
      "execution_count": 0,
      "outputs": []
    },
    {
      "cell_type": "code",
      "metadata": {
        "id": "PcRpmYWab4Hr",
        "colab_type": "code",
        "outputId": "2cc09399-2509-4ea9-9b40-478bc4c4b591",
        "colab": {
          "base_uri": "https://localhost:8080/",
          "height": 119
        }
      },
      "source": [
        "! ls /tmp"
      ],
      "execution_count": 12,
      "outputs": [
        {
          "output_type": "stream",
          "text": [
            "blockmgr-4a9a81a3-767c-4370-a37b-9449e4963d15\n",
            "corona_data.csv\n",
            "hsperfdata_root\n",
            "spark-31e4db0a-8c1f-4037-9827-0bc227cdef93\n",
            "spark-60b0bc4b-bcd0-4ecb-83ba-93f7b7850a18\n",
            "twitter_data.csv\n"
          ],
          "name": "stdout"
        }
      ]
    },
    {
      "cell_type": "code",
      "metadata": {
        "id": "1MbfzDNGb8-G",
        "colab_type": "code",
        "colab": {}
      },
      "source": [
        "corona_df = spark.read.option(\"inferSchema\", \"true\").csv(CORONA_DATA_FILE, header=True)"
      ],
      "execution_count": 0,
      "outputs": []
    },
    {
      "cell_type": "code",
      "metadata": {
        "id": "gYRFIhEyciYt",
        "colab_type": "code",
        "outputId": "a6ee1bf5-c216-49c9-dd51-adb0d0c201c2",
        "colab": {
          "base_uri": "https://localhost:8080/",
          "height": 204
        }
      },
      "source": [
        "corona_df.show(5)"
      ],
      "execution_count": 14,
      "outputs": [
        {
          "output_type": "stream",
          "text": [
            "+---+-----+---------+-------+--------+-------------------+---------+-----+---------+-------------+----+\n",
            "|_c0|State|  Country|    Lat|    Long|               Date|Confirmed|Death|Recovered|state_cleaned|City|\n",
            "+---+-----+---------+-------+--------+-------------------+---------+-----+---------+-------------+----+\n",
            "|  0| null| Thailand|   15.0|   101.0|2020-01-22 00:00:00|        2|    0|        0|      Bangkok|null|\n",
            "|  1| null|    Japan|   36.0|   138.0|2020-01-22 00:00:00|        2|    0|        0|      Hiraide|null|\n",
            "|  2| null|Singapore| 1.2833|103.8333|2020-01-22 00:00:00|        0|    0|        0|    Singapore|null|\n",
            "|  3| null|    Nepal|28.1667|   84.25|2020-01-22 00:00:00|        0|    0|        0|    Kathmandu|null|\n",
            "|  4| null| Malaysia|    2.5|   112.5|2020-01-22 00:00:00|        0|    0|        0|      Sarawak|null|\n",
            "+---+-----+---------+-------+--------+-------------------+---------+-----+---------+-------------+----+\n",
            "only showing top 5 rows\n",
            "\n"
          ],
          "name": "stdout"
        }
      ]
    },
    {
      "cell_type": "code",
      "metadata": {
        "id": "tPLOQuUZcps6",
        "colab_type": "code",
        "outputId": "fecb9cab-9d9f-4917-f0d4-6119d5ee5486",
        "colab": {
          "base_uri": "https://localhost:8080/",
          "height": 34
        }
      },
      "source": [
        "corona_df.count()"
      ],
      "execution_count": 15,
      "outputs": [
        {
          "output_type": "execute_result",
          "data": {
            "text/plain": [
              "28143"
            ]
          },
          "metadata": {
            "tags": []
          },
          "execution_count": 15
        }
      ]
    },
    {
      "cell_type": "code",
      "metadata": {
        "id": "7U0T32F7csbx",
        "colab_type": "code",
        "colab": {}
      },
      "source": [
        "twitter_df = spark.read.option(\"inferSchema\", \"true\").csv(TWITTER_DATA_FILE, header=True)"
      ],
      "execution_count": 0,
      "outputs": []
    },
    {
      "cell_type": "code",
      "metadata": {
        "id": "_KK8QATSc5hL",
        "colab_type": "code",
        "outputId": "f92301cc-83ad-4be1-c40f-55c688a2c54d",
        "colab": {
          "base_uri": "https://localhost:8080/",
          "height": 204
        }
      },
      "source": [
        "twitter_df.show(5)"
      ],
      "execution_count": 17,
      "outputs": [
        {
          "output_type": "stream",
          "text": [
            "+---+----+--------------------+--------------------+-----------------+--------------------+--------------------+--------------------+\n",
            "|_c0| geo|                text|                user|         location|            entities|           sentiment|             country|\n",
            "+---+----+--------------------+--------------------+-----------------+--------------------+--------------------+--------------------+\n",
            "|  0|null|What is God sayin...|          petodinice|            Lagos|[('about #', 'CAR...|{'neg': 0.0, 'neu...|             Nigeria|\n",
            "|  1|null|\"BREAKING: \"\"this...| but i took the t...|             -… \"|     JerryfranksonJF|      Abuja, Nigeria|\"[(\"\"Arsenal's Mi...|\n",
            "|  2|null| #Coronavirus tes...|              cek422|Pennsylvania, USA|                  []|{'neg': 0.173, 'n...|                 USA|\n",
            "|  3|null| Get ready for ma...|        InfectiousDz|              NYC|[('World', 'ORG')...|{'neg': 0.085, 'n...|                 USA|\n",
            "|  4|null| The #coronavirus...|          vic_gibson|             null|                ['']|{'neg': 0.0, 'neu...|                null|\n",
            "+---+----+--------------------+--------------------+-----------------+--------------------+--------------------+--------------------+\n",
            "only showing top 5 rows\n",
            "\n"
          ],
          "name": "stdout"
        }
      ]
    },
    {
      "cell_type": "code",
      "metadata": {
        "id": "ExweI74Kc7wa",
        "colab_type": "code",
        "outputId": "a027af60-a7fd-4cba-ac84-c14548ca4795",
        "colab": {
          "base_uri": "https://localhost:8080/",
          "height": 34
        }
      },
      "source": [
        "twitter_df.count()"
      ],
      "execution_count": 18,
      "outputs": [
        {
          "output_type": "execute_result",
          "data": {
            "text/plain": [
              "1000"
            ]
          },
          "metadata": {
            "tags": []
          },
          "execution_count": 18
        }
      ]
    },
    {
      "cell_type": "markdown",
      "metadata": {
        "id": "cidR1x9VnP_H",
        "colab_type": "text"
      },
      "source": [
        "# Theory"
      ]
    },
    {
      "cell_type": "markdown",
      "metadata": {
        "id": "FhTac7sBjEV4",
        "colab_type": "text"
      },
      "source": [
        "**RDD and DataFrame**\n",
        "\n",
        "Natively Spark works with RDD (Resilient Distributed Dataset). RDD is the base foundation of Spark.\n",
        "But to make Spark user friendly, Spark new versions provided simpler interface similar to pandas DF and thus we have dataframes. But at the backend RDD functions only are executed when we run some functions of this simpler interface."
      ]
    },
    {
      "cell_type": "markdown",
      "metadata": {
        "id": "J9GclOKxigTQ",
        "colab_type": "text"
      },
      "source": [
        "**Transformation**\n",
        "\n",
        "* Transformation is how you want to transform your input dataframe to an output dataframe.\n",
        "\n",
        "* Spark Transformation is a function that produces new dataframe from the existing dataframe. It takes dataframe as input and produces one or more dataframe as output. Each time it creates new dataframe when we apply any transformation. Thus, the input dataframe, cannot be changed since dataframe are immutable in nature.\n",
        "\n",
        "* Applying transformation build an RDD lineage, with the entire parent RDDs of the final RDD(s). RDD lineage, also known as RDD operator graph or RDD dependency graph. It is a logical execution plan i.e., it is **Directed Acyclic Graph (DAG)** of the entire parent RDDs of RDD.\n",
        "\n",
        " \n",
        "* Transformations are lazy in nature i.e., they get execute when we call an action. They are not executed immediately. Two most basic type of transformations is a map(), filter().\n",
        "After the transformation, the resultant RDD is always different from its parent RDD. It can be smaller (e.g. filter, count, distinct, sample), bigger (e.g. flatMap(), union(), Cartesian()) or the same size (e.g. map).\n",
        "\n",
        "\n",
        "**Actions**\n",
        "\n",
        "* Transformations create RDDs from each other, but when we want to work with the actual dataset, at that point Action is performed. When the Action is triggered after the result, new RDD is not formed like transformation. Thus, Actions are Spark RDD operations that give non-RDD values. The values of action are stored to drivers or to the external storage system. It brings laziness of RDD into motion.\n",
        "\n",
        "*  An action is one of the ways of sending data from Executer to the driver. Executors are agents that are responsible for executing a task. While the driver is a JVM process that coordinates workers and execution of the task."
      ]
    },
    {
      "cell_type": "markdown",
      "metadata": {
        "id": "_qJ_zrRnikTA",
        "colab_type": "text"
      },
      "source": [
        "# Hands-on Basics"
      ]
    },
    {
      "cell_type": "code",
      "metadata": {
        "id": "Z8YMbuflnd9-",
        "colab_type": "code",
        "outputId": "345bd879-1d00-4c4d-d9bb-273cd2ca4d0f",
        "colab": {
          "base_uri": "https://localhost:8080/",
          "height": 204
        }
      },
      "source": [
        "twitter_df.show(5)"
      ],
      "execution_count": 19,
      "outputs": [
        {
          "output_type": "stream",
          "text": [
            "+---+----+--------------------+--------------------+-----------------+--------------------+--------------------+--------------------+\n",
            "|_c0| geo|                text|                user|         location|            entities|           sentiment|             country|\n",
            "+---+----+--------------------+--------------------+-----------------+--------------------+--------------------+--------------------+\n",
            "|  0|null|What is God sayin...|          petodinice|            Lagos|[('about #', 'CAR...|{'neg': 0.0, 'neu...|             Nigeria|\n",
            "|  1|null|\"BREAKING: \"\"this...| but i took the t...|             -… \"|     JerryfranksonJF|      Abuja, Nigeria|\"[(\"\"Arsenal's Mi...|\n",
            "|  2|null| #Coronavirus tes...|              cek422|Pennsylvania, USA|                  []|{'neg': 0.173, 'n...|                 USA|\n",
            "|  3|null| Get ready for ma...|        InfectiousDz|              NYC|[('World', 'ORG')...|{'neg': 0.085, 'n...|                 USA|\n",
            "|  4|null| The #coronavirus...|          vic_gibson|             null|                ['']|{'neg': 0.0, 'neu...|                null|\n",
            "+---+----+--------------------+--------------------+-----------------+--------------------+--------------------+--------------------+\n",
            "only showing top 5 rows\n",
            "\n"
          ],
          "name": "stdout"
        }
      ]
    },
    {
      "cell_type": "code",
      "metadata": {
        "id": "GEtta_MQnoFH",
        "colab_type": "code",
        "outputId": "29d2dbf3-4801-411a-e740-1b827b87ceee",
        "colab": {
          "base_uri": "https://localhost:8080/",
          "height": 204
        }
      },
      "source": [
        "corona_df.show(5)"
      ],
      "execution_count": 20,
      "outputs": [
        {
          "output_type": "stream",
          "text": [
            "+---+-----+---------+-------+--------+-------------------+---------+-----+---------+-------------+----+\n",
            "|_c0|State|  Country|    Lat|    Long|               Date|Confirmed|Death|Recovered|state_cleaned|City|\n",
            "+---+-----+---------+-------+--------+-------------------+---------+-----+---------+-------------+----+\n",
            "|  0| null| Thailand|   15.0|   101.0|2020-01-22 00:00:00|        2|    0|        0|      Bangkok|null|\n",
            "|  1| null|    Japan|   36.0|   138.0|2020-01-22 00:00:00|        2|    0|        0|      Hiraide|null|\n",
            "|  2| null|Singapore| 1.2833|103.8333|2020-01-22 00:00:00|        0|    0|        0|    Singapore|null|\n",
            "|  3| null|    Nepal|28.1667|   84.25|2020-01-22 00:00:00|        0|    0|        0|    Kathmandu|null|\n",
            "|  4| null| Malaysia|    2.5|   112.5|2020-01-22 00:00:00|        0|    0|        0|      Sarawak|null|\n",
            "+---+-----+---------+-------+--------+-------------------+---------+-----+---------+-------------+----+\n",
            "only showing top 5 rows\n",
            "\n"
          ],
          "name": "stdout"
        }
      ]
    },
    {
      "cell_type": "code",
      "metadata": {
        "id": "LwLP5aEMnr1I",
        "colab_type": "code",
        "outputId": "989c6af2-e03c-46fe-e640-383b62e0ae02",
        "colab": {
          "base_uri": "https://localhost:8080/",
          "height": 34
        }
      },
      "source": [
        "# This is an transformation. And as you can see it created a new DataFrame\n",
        "twitter_df.filter(\"country='USA'\")"
      ],
      "execution_count": 21,
      "outputs": [
        {
          "output_type": "execute_result",
          "data": {
            "text/plain": [
              "DataFrame[_c0: int, geo: string, text: string, user: string, location: string, entities: string, sentiment: string, country: string]"
            ]
          },
          "metadata": {
            "tags": []
          },
          "execution_count": 21
        }
      ]
    },
    {
      "cell_type": "code",
      "metadata": {
        "id": "_Y0Y6A61pCRC",
        "colab_type": "code",
        "outputId": "63863aab-37b4-4f5e-a4e4-2a2612175352",
        "colab": {
          "base_uri": "https://localhost:8080/",
          "height": 204
        }
      },
      "source": [
        "# This is an action which will be applied to the result of transformation\n",
        "twitter_df.filter(\"country='USA'\").show(5)"
      ],
      "execution_count": 22,
      "outputs": [
        {
          "output_type": "stream",
          "text": [
            "+---+----+--------------------+--------------+--------------------+--------------------+--------------------+-------+\n",
            "|_c0| geo|                text|          user|            location|            entities|           sentiment|country|\n",
            "+---+----+--------------------+--------------+--------------------+--------------------+--------------------+-------+\n",
            "|  2|null| #Coronavirus tes...|        cek422|   Pennsylvania, USA|                  []|{'neg': 0.173, 'n...|    USA|\n",
            "|  3|null| Get ready for ma...|  InfectiousDz|                 NYC|[('World', 'ORG')...|{'neg': 0.085, 'n...|    USA|\n",
            "|  5|null| COVID-19 update ...|StewartNgilana|Durban | Port Eli...|[('Italy', 'GPE')...|{'neg': 0.178, 'n...|    USA|\n",
            "|  6|null| It’s painful to ...|     BWheatnyc|             Florida|                  []|{'neg': 0.098, 'n...|    USA|\n",
            "|  8|null| Questions about ...|   straightj23|        Columbus, OH|[('NAfME', 'CARDI...|{'neg': 0.0, 'neu...|    USA|\n",
            "+---+----+--------------------+--------------+--------------------+--------------------+--------------------+-------+\n",
            "only showing top 5 rows\n",
            "\n"
          ],
          "name": "stdout"
        }
      ]
    },
    {
      "cell_type": "code",
      "metadata": {
        "id": "PIfK8MpmyCLz",
        "colab_type": "code",
        "outputId": "dcee9ba0-a1ed-4816-a60e-c31e33695c90",
        "colab": {
          "base_uri": "https://localhost:8080/",
          "height": 204
        }
      },
      "source": [
        "# Give records where country is USA and lacation starts with word NEW\n",
        "\n",
        "twitter_df.filter(\"country = 'USA' and location like '%New%'\").show(5)"
      ],
      "execution_count": 23,
      "outputs": [
        {
          "output_type": "stream",
          "text": [
            "+---+----+--------------------+---------------+--------------------+--------------------+--------------------+-------+\n",
            "|_c0| geo|                text|           user|            location|            entities|           sentiment|country|\n",
            "+---+----+--------------------+---------------+--------------------+--------------------+--------------------+-------+\n",
            "| 31|null| I ordered Alex J...|       rcgillan|       New York, USA|[('Alex Jones', '...|{'neg': 0.109, 'n...|    USA|\n",
            "| 49|null| This week we are...|  JamesWithers3|  New York, New York|[('This week', 'D...|{'neg': 0.0, 'neu...|    USA|\n",
            "| 62|null|Fear will kill #C...| RobertPPurcell|norther New Jerse...|                ['']|{'neg': 0.798, 'n...|    USA|\n",
            "|228|null|This is a very co...|baskingntheGlow|       New York City|[('hourly', 'TIME')]|{'neg': 0.12, 'ne...|    USA|\n",
            "|238|null|I’m reposting thi...|   Veronicaromm|     New Jersey, USA|[('English', 'LAN...|{'neg': 0.0, 'neu...|    USA|\n",
            "+---+----+--------------------+---------------+--------------------+--------------------+--------------------+-------+\n",
            "only showing top 5 rows\n",
            "\n"
          ],
          "name": "stdout"
        }
      ]
    },
    {
      "cell_type": "markdown",
      "metadata": {
        "id": "H1n3tF3aneNI",
        "colab_type": "text"
      },
      "source": [
        "**HOW PLAN IS MADE TO EXECUTE TRANSFORMATION**"
      ]
    },
    {
      "cell_type": "code",
      "metadata": {
        "id": "MhS5BYKEneZI",
        "colab_type": "code",
        "colab": {}
      },
      "source": [
        "tw_filter_df = twitter_df.filter(\"country = 'USA'\")"
      ],
      "execution_count": 0,
      "outputs": []
    },
    {
      "cell_type": "code",
      "metadata": {
        "id": "jJeJkQ0U0FfF",
        "colab_type": "code",
        "outputId": "8e5ad408-752d-4d4c-9104-5aafe1a03271",
        "colab": {
          "base_uri": "https://localhost:8080/",
          "height": 105
        }
      },
      "source": [
        "tw_filter_df.explain()"
      ],
      "execution_count": 25,
      "outputs": [
        {
          "output_type": "stream",
          "text": [
            "== Physical Plan ==\n",
            "*(1) Project [_c0#103, geo#104, text#105, user#106, location#107, entities#108, sentiment#109, country#110]\n",
            "+- *(1) Filter (isnotnull(country#110) && (country#110 = USA))\n",
            "   +- *(1) FileScan csv [_c0#103,geo#104,text#105,user#106,location#107,entities#108,sentiment#109,country#110] Batched: false, Format: CSV, Location: InMemoryFileIndex[file:/tmp/twitter_data.csv], PartitionFilters: [], PushedFilters: [IsNotNull(country), EqualTo(country,USA)], ReadSchema: struct<_c0:int,geo:string,text:string,user:string,location:string,entities:string,sentiment:strin...\n"
          ],
          "name": "stdout"
        }
      ]
    },
    {
      "cell_type": "markdown",
      "metadata": {
        "id": "JbyYhHIJnejd",
        "colab_type": "text"
      },
      "source": [
        "Read this plan from bottom and go up. It shows how Spark is going to execute particular transformation.\n",
        "\n",
        "* First step is scan CSV at the given location and other details like Schema\n",
        "* Second we have Filter transformation applied\n",
        "* Lastly it shows how to Project the filter results"
      ]
    },
    {
      "cell_type": "code",
      "metadata": {
        "id": "NYfOrdZrnetZ",
        "colab_type": "code",
        "outputId": "4e816493-7aeb-4e65-c758-8a54f3fa02d8",
        "colab": {
          "base_uri": "https://localhost:8080/",
          "height": 54
        }
      },
      "source": [
        "# Action first() will give first record from the dataframe. The output will be a row object. You can take it and extract values\n",
        "tw_filter_df.first()"
      ],
      "execution_count": 26,
      "outputs": [
        {
          "output_type": "execute_result",
          "data": {
            "text/plain": [
              "Row(_c0=2, geo=None, text=' #Coronavirus testing must be made free to the public if we are going to understand the scope of this crisis. Anything le…', user='cek422', location='Pennsylvania, USA', entities='[]', sentiment=\"{'neg': 0.173, 'neu': 0.71, 'pos': 0.117, 'compound': -0.3767}\", country='USA')"
            ]
          },
          "metadata": {
            "tags": []
          },
          "execution_count": 26
        }
      ]
    },
    {
      "cell_type": "code",
      "metadata": {
        "id": "Y8ORzZhNne3H",
        "colab_type": "code",
        "outputId": "dcfae7df-b8fb-48ee-f1f7-bec949512c74",
        "colab": {
          "base_uri": "https://localhost:8080/",
          "height": 122
        }
      },
      "source": [
        "# This Action will show 5 records\n",
        "tw_filter_df.take(5)"
      ],
      "execution_count": 27,
      "outputs": [
        {
          "output_type": "execute_result",
          "data": {
            "text/plain": [
              "[Row(_c0=2, geo=None, text=' #Coronavirus testing must be made free to the public if we are going to understand the scope of this crisis. Anything le…', user='cek422', location='Pennsylvania, USA', entities='[]', sentiment=\"{'neg': 0.173, 'neu': 0.71, 'pos': 0.117, 'compound': -0.3767}\", country='USA'),\n",
              " Row(_c0=3, geo=None, text=' Get ready for mass event crowd cancellations across the World starting this weekend: cricket in #Australia in empty st…', user='InfectiousDz', location='NYC', entities=\"[('World', 'ORG'), ('this weekend', 'DATE'), '']\", sentiment=\"{'neg': 0.085, 'neu': 0.798, 'pos': 0.117, 'compound': 0.1779}\", country='USA'),\n",
              " Row(_c0=5, geo=None, text=\" COVID-19 update as of this morning:1. Death toll in Italy passes 1,0002. Arsenal's head coach Arteta tests positive3. US…\", user='StewartNgilana', location='Durban | Port Elizabeth', entities=\"[('Italy', 'GPE'), ('1,0002', 'CARDINAL'), ('Arsenal', 'ORG'), ('Arteta', 'ORG'), ('US', 'GPE')]\", sentiment=\"{'neg': 0.178, 'neu': 0.822, 'pos': 0.0, 'compound': -0.5994}\", country='USA'),\n",
              " Row(_c0=6, geo=None, text=\" It’s painful to say, but as an ER doc who talked to\\xa0 about healthcare, I believe he's uniquely unqualified to…\", user='BWheatnyc', location='Florida', entities='[]', sentiment=\"{'neg': 0.098, 'neu': 0.902, 'pos': 0.0, 'compound': -0.2382}\", country='USA'),\n",
              " Row(_c0=8, geo=None, text=' Questions about COVID-19? See this resource and info page from NAfME for music educators, including music instrument hygiene: ht…', user='straightj23', location='Columbus, OH', entities=\"[('NAfME', 'CARDINAL')]\", sentiment=\"{'neg': 0.0, 'neu': 1.0, 'pos': 0.0, 'compound': 0.0}\", country='USA')]"
            ]
          },
          "metadata": {
            "tags": []
          },
          "execution_count": 27
        }
      ]
    },
    {
      "cell_type": "markdown",
      "metadata": {
        "id": "2v9OfujfnfAI",
        "colab_type": "text"
      },
      "source": [
        "# Narrow and Wide transformation Theory"
      ]
    },
    {
      "cell_type": "markdown",
      "metadata": {
        "id": "3jERerlFC7hN",
        "colab_type": "text"
      },
      "source": [
        "**How RDDs are represented**\n",
        "\n",
        "RDDs are made up of 4 parts:\n",
        "\n",
        "* **Partitions**: Atomic pieces of the dataset. One or many per compute node.\n",
        "* **Dependencies**: Models relationship between this RDD and its partitions with the RDD(s) it was derived from. (Note that the dependencies maybe modeled per partition as shown below)\n",
        "* A **function** for computing the dataset based on its parent RDDs.\n",
        "* **Metadata** about it partitioning scheme and data placement."
      ]
    },
    {
      "cell_type": "markdown",
      "metadata": {
        "id": "d1lU1XteDaUs",
        "colab_type": "text"
      },
      "source": [
        "![alt text](https://drive.google.com/uc?id=1zT_K8iXNq2ha6o55YAS-2N2V4L8ANbfB)\n",
        "\n",
        "[Image Source](https://github.com/rohgar/scala-spark-4/wiki/Wide-vs-Narrow-Dependencies)"
      ]
    },
    {
      "cell_type": "markdown",
      "metadata": {
        "id": "TSpPtH1cE1P8",
        "colab_type": "text"
      },
      "source": [
        "![alt text](https://drive.google.com/uc?id=10DpIcHssJkIMBbKK0Dn6hJsd5qkptLvo)\n",
        "\n",
        "[Image Source](https://github.com/rohgar/scala-spark-4/wiki/Wide-vs-Narrow-Dependencies)"
      ]
    },
    {
      "cell_type": "markdown",
      "metadata": {
        "id": "f60fRT2dnfIs",
        "colab_type": "text"
      },
      "source": [
        "Transformations cause shuffles, and can have 2 kinds of dependencies:\n",
        "\n"
      ]
    },
    {
      "cell_type": "markdown",
      "metadata": {
        "id": "HKTYhfvEGK4y",
        "colab_type": "text"
      },
      "source": [
        "**Narrow dependencies**: Each partition of the parent RDD is used by at most one partition of the child RDD.\n",
        "\n",
        "`[parent RDD partition] ---> [child RDD partition]`\n",
        "\n",
        "Fast! No shuffle necessary. Optimizations like pipelining possible. Thus transformations which have narrow dependencies are fast.\n"
      ]
    },
    {
      "cell_type": "markdown",
      "metadata": {
        "id": "xQw2dPSTGCGM",
        "colab_type": "text"
      },
      "source": [
        "**Wide dependencies**: Each partition of the parent RDD may be used by multiple child partitions"
      ]
    },
    {
      "cell_type": "code",
      "metadata": {
        "id": "Tjsg9KVinfSX",
        "colab_type": "code",
        "colab": {
          "base_uri": "https://localhost:8080/",
          "height": 129
        },
        "outputId": "18bacd72-52e6-4be1-9ff5-230dc83548f9"
      },
      "source": [
        "                       ---> [child RDD partition 1]\n",
        "[parent RDD partition] ---> [child RDD partition 2]\n",
        "                       ---> [child RDD partition 3]"
      ],
      "execution_count": 27,
      "outputs": [
        {
          "output_type": "error",
          "ename": "SyntaxError",
          "evalue": "ignored",
          "traceback": [
            "\u001b[0;36m  File \u001b[0;32m\"<ipython-input-28-baae1796ad4b>\"\u001b[0;36m, line \u001b[0;32m1\u001b[0m\n\u001b[0;31m    ---> [child RDD partition 1]\u001b[0m\n\u001b[0m       ^\u001b[0m\n\u001b[0;31mSyntaxError\u001b[0m\u001b[0;31m:\u001b[0m invalid syntax\n"
          ]
        }
      ]
    },
    {
      "cell_type": "markdown",
      "metadata": {
        "id": "UlehVNAzF-6m",
        "colab_type": "text"
      },
      "source": [
        "Slow! Shuffle necessary for all or some data over the network. Thus transformations which have narrow dependencies are slow."
      ]
    },
    {
      "cell_type": "markdown",
      "metadata": {
        "id": "h5_eZy5tF_Oq",
        "colab_type": "text"
      },
      "source": [
        "**Narrow dependencies Vs. Wide dependencies**\n",
        "\n",
        "![alt text](https://drive.google.com/uc?id=1PlxquvMiUIZlNtXLpDhgrZOprAyZX4HV)\n",
        "\n",
        "[Image Source](https://github.com/rohgar/scala-spark-4/wiki/Wide-vs-Narrow-Dependencies)"
      ]
    },
    {
      "cell_type": "markdown",
      "metadata": {
        "id": "6BX_Oqb3F_Zv",
        "colab_type": "text"
      },
      "source": [
        "# RDD Examples"
      ]
    },
    {
      "cell_type": "markdown",
      "metadata": {
        "id": "QswYn8e9F_lI",
        "colab_type": "text"
      },
      "source": [
        "We Will see some **transformation with RDDs**. Though we will never use RDDS as we have Dataframe interface."
      ]
    },
    {
      "cell_type": "code",
      "metadata": {
        "id": "tY4oqbeIXYuG",
        "colab_type": "code",
        "colab": {
          "base_uri": "https://localhost:8080/",
          "height": 68
        },
        "outputId": "d4c1766c-856a-40e5-c2b4-22d76fd25790"
      },
      "source": [
        "x = spark.sparkContext.parallelize([1,4,8])         # When we do parallelize, we are telling spark to distribute the data in the cluster\n",
        "y = x.flatMap(lambda x: (x, x*x))\n",
        "print(x.collect())\n",
        "print(y.collect())"
      ],
      "execution_count": 28,
      "outputs": [
        {
          "output_type": "stream",
          "text": [
            "ERROR! Session/line number was not unique in database. History logging moved to new session 59\n",
            "[1, 4, 8]\n",
            "[1, 1, 4, 16, 8, 64]\n"
          ],
          "name": "stdout"
        }
      ]
    },
    {
      "cell_type": "code",
      "metadata": {
        "id": "NeHAszE8Yi0J",
        "colab_type": "code",
        "colab": {
          "base_uri": "https://localhost:8080/",
          "height": 51
        },
        "outputId": "3f3f447f-f5f2-4559-ad31-302e35be26a2"
      },
      "source": [
        "x = spark.sparkContext.parallelize([1,4,8])         # When we do parallelize, we are telling spark to distribute the data in the cluster\n",
        "y = x.map(lambda x: (x, x*x))\n",
        "print(x.collect())\n",
        "print(y.collect())"
      ],
      "execution_count": 29,
      "outputs": [
        {
          "output_type": "stream",
          "text": [
            "[1, 4, 8]\n",
            "[(1, 1), (4, 16), (8, 64)]\n"
          ],
          "name": "stdout"
        }
      ]
    },
    {
      "cell_type": "markdown",
      "metadata": {
        "id": "NgK0UhvjYqFy",
        "colab_type": "text"
      },
      "source": [
        "There is the difference between the map and flatMap function.\n",
        "Flatmap flattens the whole output removing all the internal lists\n",
        "and tuples. Whereas map will keep the internal things."
      ]
    },
    {
      "cell_type": "markdown",
      "metadata": {
        "id": "WsJWR451ZSHz",
        "colab_type": "text"
      },
      "source": [
        "# More hands-on"
      ]
    },
    {
      "cell_type": "code",
      "metadata": {
        "id": "YqwLpf_UZbB-",
        "colab_type": "code",
        "colab": {
          "base_uri": "https://localhost:8080/",
          "height": 136
        },
        "outputId": "d94e8d4e-63d3-4050-ea51-9c823ba3a3fe"
      },
      "source": [
        "twitter_df.show(1)"
      ],
      "execution_count": 33,
      "outputs": [
        {
          "output_type": "stream",
          "text": [
            "+---+----+--------------------+----------+--------+--------------------+--------------------+-------+\n",
            "|_c0| geo|                text|      user|location|            entities|           sentiment|country|\n",
            "+---+----+--------------------+----------+--------+--------------------+--------------------+-------+\n",
            "|  0|null|What is God sayin...|petodinice|   Lagos|[('about #', 'CAR...|{'neg': 0.0, 'neu...|Nigeria|\n",
            "+---+----+--------------------+----------+--------+--------------------+--------------------+-------+\n",
            "only showing top 1 row\n",
            "\n"
          ],
          "name": "stdout"
        }
      ]
    },
    {
      "cell_type": "code",
      "metadata": {
        "id": "sZI_vjmDZnqN",
        "colab_type": "code",
        "colab": {
          "base_uri": "https://localhost:8080/",
          "height": 136
        },
        "outputId": "13d21cbe-1718-4900-b88c-becaece2d8ec"
      },
      "source": [
        "corona_df.show(1)"
      ],
      "execution_count": 34,
      "outputs": [
        {
          "output_type": "stream",
          "text": [
            "+---+-----+--------+----+-----+-------------------+---------+-----+---------+-------------+----+\n",
            "|_c0|State| Country| Lat| Long|               Date|Confirmed|Death|Recovered|state_cleaned|City|\n",
            "+---+-----+--------+----+-----+-------------------+---------+-----+---------+-------------+----+\n",
            "|  0| null|Thailand|15.0|101.0|2020-01-22 00:00:00|        2|    0|        0|      Bangkok|null|\n",
            "+---+-----+--------+----+-----+-------------------+---------+-----+---------+-------------+----+\n",
            "only showing top 1 row\n",
            "\n"
          ],
          "name": "stdout"
        }
      ]
    },
    {
      "cell_type": "code",
      "metadata": {
        "id": "07Ch-Ih1ZXec",
        "colab_type": "code",
        "colab": {
          "base_uri": "https://localhost:8080/",
          "height": 51
        },
        "outputId": "c52f3532-e53b-4c8e-e2dd-b263852a84a3"
      },
      "source": [
        "twitter_df.select(\"text\").take(2)"
      ],
      "execution_count": 37,
      "outputs": [
        {
          "output_type": "execute_result",
          "data": {
            "text/plain": [
              "[Row(text='What is God saying to us about #coronavirus ?'),\n",
              " Row(text='\"BREAKING: \"\"this is disappointing')]"
            ]
          },
          "metadata": {
            "tags": []
          },
          "execution_count": 37
        }
      ]
    },
    {
      "cell_type": "code",
      "metadata": {
        "id": "Rbp_nKD6Z0AS",
        "colab_type": "code",
        "colab": {
          "base_uri": "https://localhost:8080/",
          "height": 153
        },
        "outputId": "93facd65-8bb3-4fde-e44f-688e26427e18"
      },
      "source": [
        "twitter_df.select(\"text\").show(2)"
      ],
      "execution_count": 38,
      "outputs": [
        {
          "output_type": "stream",
          "text": [
            "+--------------------+\n",
            "|                text|\n",
            "+--------------------+\n",
            "|What is God sayin...|\n",
            "|\"BREAKING: \"\"this...|\n",
            "+--------------------+\n",
            "only showing top 2 rows\n",
            "\n"
          ],
          "name": "stdout"
        }
      ]
    },
    {
      "cell_type": "code",
      "metadata": {
        "id": "96IESQZlZ1yh",
        "colab_type": "code",
        "colab": {
          "base_uri": "https://localhost:8080/",
          "height": 153
        },
        "outputId": "0d564751-4f01-4989-ffe3-8c806a528b16"
      },
      "source": [
        "twitter_df.select(\"text\", \"user\").show(2)"
      ],
      "execution_count": 40,
      "outputs": [
        {
          "output_type": "stream",
          "text": [
            "+--------------------+--------------------+\n",
            "|                text|                user|\n",
            "+--------------------+--------------------+\n",
            "|What is God sayin...|          petodinice|\n",
            "|\"BREAKING: \"\"this...| but i took the t...|\n",
            "+--------------------+--------------------+\n",
            "only showing top 2 rows\n",
            "\n"
          ],
          "name": "stdout"
        }
      ]
    },
    {
      "cell_type": "code",
      "metadata": {
        "id": "umsPmuAqZ6mj",
        "colab_type": "code",
        "colab": {
          "base_uri": "https://localhost:8080/",
          "height": 442
        },
        "outputId": "13cf5b67-90d5-4630-8e0a-5f1350c24ef0"
      },
      "source": [
        "# Here we have same RDD map and flatMap using dataframe interface\n",
        "# here line means a row. We are taking each row, then going to the \"text\" column\n",
        "# of that row and performing the split on the resultant cells\n",
        "twitter_df.rdd.map(lambda line: line.text.split(\" \")).take(3)"
      ],
      "execution_count": 52,
      "outputs": [
        {
          "output_type": "execute_result",
          "data": {
            "text/plain": [
              "[['What', 'is', 'God', 'saying', 'to', 'us', 'about', '#coronavirus', '?'],\n",
              " ['\"BREAKING:', '\"\"this', 'is', 'disappointing'],\n",
              " ['',\n",
              "  '#Coronavirus',\n",
              "  'testing',\n",
              "  'must',\n",
              "  'be',\n",
              "  'made',\n",
              "  'free',\n",
              "  'to',\n",
              "  'the',\n",
              "  'public',\n",
              "  'if',\n",
              "  'we',\n",
              "  'are',\n",
              "  'going',\n",
              "  'to',\n",
              "  'understand',\n",
              "  'the',\n",
              "  'scope',\n",
              "  'of',\n",
              "  'this',\n",
              "  'crisis.',\n",
              "  'Anything',\n",
              "  'le…']]"
            ]
          },
          "metadata": {
            "tags": []
          },
          "execution_count": 52
        }
      ]
    },
    {
      "cell_type": "code",
      "metadata": {
        "id": "-JV51ygBaOyQ",
        "colab_type": "code",
        "colab": {
          "base_uri": "https://localhost:8080/",
          "height": 1000
        },
        "outputId": "0e737bcd-c56f-47eb-aeb1-88447fe011e5"
      },
      "source": [
        "# As expected this will flatten all the internal lists into a huge list\n",
        "twitter_df.rdd.flatMap(lambda line: line.text.split(\" \")).take(100)"
      ],
      "execution_count": 48,
      "outputs": [
        {
          "output_type": "execute_result",
          "data": {
            "text/plain": [
              "['What',\n",
              " 'is',\n",
              " 'God',\n",
              " 'saying',\n",
              " 'to',\n",
              " 'us',\n",
              " 'about',\n",
              " '#coronavirus',\n",
              " '?',\n",
              " '\"BREAKING:',\n",
              " '\"\"this',\n",
              " 'is',\n",
              " 'disappointing',\n",
              " '',\n",
              " '#Coronavirus',\n",
              " 'testing',\n",
              " 'must',\n",
              " 'be',\n",
              " 'made',\n",
              " 'free',\n",
              " 'to',\n",
              " 'the',\n",
              " 'public',\n",
              " 'if',\n",
              " 'we',\n",
              " 'are',\n",
              " 'going',\n",
              " 'to',\n",
              " 'understand',\n",
              " 'the',\n",
              " 'scope',\n",
              " 'of',\n",
              " 'this',\n",
              " 'crisis.',\n",
              " 'Anything',\n",
              " 'le…',\n",
              " '',\n",
              " 'Get',\n",
              " 'ready',\n",
              " 'for',\n",
              " 'mass',\n",
              " 'event',\n",
              " 'crowd',\n",
              " 'cancellations',\n",
              " 'across',\n",
              " 'the',\n",
              " 'World',\n",
              " 'starting',\n",
              " 'this',\n",
              " 'weekend:',\n",
              " 'cricket',\n",
              " 'in',\n",
              " '#Australia',\n",
              " 'in',\n",
              " 'empty',\n",
              " 'st…',\n",
              " '',\n",
              " 'The',\n",
              " '#coronavirus',\n",
              " 'pandemic',\n",
              " 'is',\n",
              " 'revealing',\n",
              " 'just',\n",
              " 'how',\n",
              " 'closely',\n",
              " 'we',\n",
              " 'are',\n",
              " 'all',\n",
              " 'bound',\n",
              " 'together...[A',\n",
              " 'thread]',\n",
              " '',\n",
              " '',\n",
              " 'COVID-19',\n",
              " 'update',\n",
              " 'as',\n",
              " 'of',\n",
              " 'this',\n",
              " 'morning:1.',\n",
              " 'Death',\n",
              " 'toll',\n",
              " 'in',\n",
              " 'Italy',\n",
              " 'passes',\n",
              " '1,0002.',\n",
              " \"Arsenal's\",\n",
              " 'head',\n",
              " 'coach',\n",
              " 'Arteta',\n",
              " 'tests',\n",
              " 'positive3.',\n",
              " 'US…',\n",
              " '',\n",
              " 'It’s',\n",
              " 'painful',\n",
              " 'to',\n",
              " 'say,',\n",
              " 'but',\n",
              " 'as',\n",
              " 'an']"
            ]
          },
          "metadata": {
            "tags": []
          },
          "execution_count": 48
        }
      ]
    },
    {
      "cell_type": "code",
      "metadata": {
        "id": "nGMqx4jMbyBG",
        "colab_type": "code",
        "colab": {
          "base_uri": "https://localhost:8080/",
          "height": 153
        },
        "outputId": "b936a1da-cc9b-443c-c964-2c1f11f6e243"
      },
      "source": [
        "corona_df.show(2)"
      ],
      "execution_count": 53,
      "outputs": [
        {
          "output_type": "stream",
          "text": [
            "+---+-----+--------+----+-----+-------------------+---------+-----+---------+-------------+----+\n",
            "|_c0|State| Country| Lat| Long|               Date|Confirmed|Death|Recovered|state_cleaned|City|\n",
            "+---+-----+--------+----+-----+-------------------+---------+-----+---------+-------------+----+\n",
            "|  0| null|Thailand|15.0|101.0|2020-01-22 00:00:00|        2|    0|        0|      Bangkok|null|\n",
            "|  1| null|   Japan|36.0|138.0|2020-01-22 00:00:00|        2|    0|        0|      Hiraide|null|\n",
            "+---+-----+--------+----+-----+-------------------+---------+-----+---------+-------------+----+\n",
            "only showing top 2 rows\n",
            "\n"
          ],
          "name": "stdout"
        }
      ]
    },
    {
      "cell_type": "code",
      "metadata": {
        "id": "YDsId9n-bya2",
        "colab_type": "code",
        "colab": {
          "base_uri": "https://localhost:8080/",
          "height": 459
        },
        "outputId": "1c611f66-9b90-47d0-cfce-8dd2f87be12c"
      },
      "source": [
        "corona_df.filter(\"Country='US'\").sort(col(\"Date\"), ascending=False).show()"
      ],
      "execution_count": 62,
      "outputs": [
        {
          "output_type": "stream",
          "text": [
            "+-----+----------------+-------+------------------+---------+-------------------+---------+-----+---------+----------------+----------------+\n",
            "|  _c0|           State|Country|               Lat|     Long|               Date|Confirmed|Death|Recovered|   state_cleaned|            City|\n",
            "+-----+----------------+-------+------------------+---------+-------------------+---------+-----+---------+----------------+----------------+\n",
            "|27764|      Washington|     US|           47.4009|-121.4905|2020-03-20 00:00:00|     1524|   83|        0|      Washington|      Washington|\n",
            "|27784|         Arizona|     US|           33.7298|-111.4312|2020-03-20 00:00:00|       78|    0|        0|         Arizona|         Arizona|\n",
            "|27765|        New York|     US|           42.1657| -74.9481|2020-03-20 00:00:00|     8310|   42|        0|        New York|        New York|\n",
            "|27766|      California|     US|           36.1162|-119.6816|2020-03-20 00:00:00|     1177|   23|        0|      California|      California|\n",
            "|27767|   Massachusetts|     US|           42.2302| -71.5301|2020-03-20 00:00:00|      413|    1|        0|   Massachusetts|   Massachusetts|\n",
            "|27768|Diamond Princess|     US|           35.4437|  139.638|2020-03-20 00:00:00|       49|    0|        0|Diamond Princess|Diamond Princess|\n",
            "|27769|  Grand Princess|     US|           37.6489|-122.6655|2020-03-20 00:00:00|       23|    0|        0|  Grand Princess|  Grand Princess|\n",
            "|27770|         Georgia|     US|           33.0406| -83.6431|2020-03-20 00:00:00|      420|   13|        0|         Georgia|         Georgia|\n",
            "|27771|        Colorado|     US|           39.0598|-105.3111|2020-03-20 00:00:00|      363|    4|        0|        Colorado|        Colorado|\n",
            "|27772|         Florida|     US|           27.7663| -81.6868|2020-03-20 00:00:00|      563|   10|        0|         Florida|         Florida|\n",
            "|27773|      New Jersey|     US|           40.2989|  -74.521|2020-03-20 00:00:00|      890|   11|        0|      New Jersey|      New Jersey|\n",
            "|27774|          Oregon|     US|44.571999999999996|-122.0709|2020-03-20 00:00:00|      114|    3|        0|          Oregon|          Oregon|\n",
            "|27775|           Texas|     US|           31.0545| -97.5635|2020-03-20 00:00:00|      394|    5|        0|           Texas|           Texas|\n",
            "|27776|        Illinois|     US|           40.3495| -88.9861|2020-03-20 00:00:00|      585|    5|        0|        Illinois|        Illinois|\n",
            "|27777|    Pennsylvania|     US|           40.5908| -77.2098|2020-03-20 00:00:00|      303|    1|        0|    Pennsylvania|    Pennsylvania|\n",
            "|27778|            Iowa|     US|           42.0115| -93.2105|2020-03-20 00:00:00|       45|    0|        0|            Iowa|            Iowa|\n",
            "|27779|        Maryland|     US|           39.0639| -76.8021|2020-03-20 00:00:00|      149|    1|        0|        Maryland|        Maryland|\n",
            "|27780|  North Carolina|     US|           35.6301| -79.8064|2020-03-20 00:00:00|      172|    0|        0|  North Carolina|  North Carolina|\n",
            "|27781|  South Carolina|     US|           33.8569|  -80.945|2020-03-20 00:00:00|      126|    1|        0|  South Carolina|  South Carolina|\n",
            "|27782|       Tennessee|     US|           35.7478| -86.6923|2020-03-20 00:00:00|      233|    0|        0|       Tennessee|       Tennessee|\n",
            "+-----+----------------+-------+------------------+---------+-------------------+---------+-----+---------+----------------+----------------+\n",
            "only showing top 20 rows\n",
            "\n"
          ],
          "name": "stdout"
        }
      ]
    },
    {
      "cell_type": "code",
      "metadata": {
        "id": "AQxkKHkTbymy",
        "colab_type": "code",
        "colab": {
          "base_uri": "https://localhost:8080/",
          "height": 459
        },
        "outputId": "0ec2ae89-2dc2-4742-f8c3-d090a2471d64"
      },
      "source": [
        "# orderBy and sort are same. But are quite expensive. They both are wide Transformation\n",
        "# Data has to be shuffled in this.\n",
        "corona_df.filter(\"Country='US'\").orderBy(col(\"Date\"), ascending=False).show()"
      ],
      "execution_count": 63,
      "outputs": [
        {
          "output_type": "stream",
          "text": [
            "+-----+----------------+-------+------------------+---------+-------------------+---------+-----+---------+----------------+----------------+\n",
            "|  _c0|           State|Country|               Lat|     Long|               Date|Confirmed|Death|Recovered|   state_cleaned|            City|\n",
            "+-----+----------------+-------+------------------+---------+-------------------+---------+-----+---------+----------------+----------------+\n",
            "|27764|      Washington|     US|           47.4009|-121.4905|2020-03-20 00:00:00|     1524|   83|        0|      Washington|      Washington|\n",
            "|27784|         Arizona|     US|           33.7298|-111.4312|2020-03-20 00:00:00|       78|    0|        0|         Arizona|         Arizona|\n",
            "|27765|        New York|     US|           42.1657| -74.9481|2020-03-20 00:00:00|     8310|   42|        0|        New York|        New York|\n",
            "|27766|      California|     US|           36.1162|-119.6816|2020-03-20 00:00:00|     1177|   23|        0|      California|      California|\n",
            "|27767|   Massachusetts|     US|           42.2302| -71.5301|2020-03-20 00:00:00|      413|    1|        0|   Massachusetts|   Massachusetts|\n",
            "|27768|Diamond Princess|     US|           35.4437|  139.638|2020-03-20 00:00:00|       49|    0|        0|Diamond Princess|Diamond Princess|\n",
            "|27769|  Grand Princess|     US|           37.6489|-122.6655|2020-03-20 00:00:00|       23|    0|        0|  Grand Princess|  Grand Princess|\n",
            "|27770|         Georgia|     US|           33.0406| -83.6431|2020-03-20 00:00:00|      420|   13|        0|         Georgia|         Georgia|\n",
            "|27771|        Colorado|     US|           39.0598|-105.3111|2020-03-20 00:00:00|      363|    4|        0|        Colorado|        Colorado|\n",
            "|27772|         Florida|     US|           27.7663| -81.6868|2020-03-20 00:00:00|      563|   10|        0|         Florida|         Florida|\n",
            "|27773|      New Jersey|     US|           40.2989|  -74.521|2020-03-20 00:00:00|      890|   11|        0|      New Jersey|      New Jersey|\n",
            "|27774|          Oregon|     US|44.571999999999996|-122.0709|2020-03-20 00:00:00|      114|    3|        0|          Oregon|          Oregon|\n",
            "|27775|           Texas|     US|           31.0545| -97.5635|2020-03-20 00:00:00|      394|    5|        0|           Texas|           Texas|\n",
            "|27776|        Illinois|     US|           40.3495| -88.9861|2020-03-20 00:00:00|      585|    5|        0|        Illinois|        Illinois|\n",
            "|27777|    Pennsylvania|     US|           40.5908| -77.2098|2020-03-20 00:00:00|      303|    1|        0|    Pennsylvania|    Pennsylvania|\n",
            "|27778|            Iowa|     US|           42.0115| -93.2105|2020-03-20 00:00:00|       45|    0|        0|            Iowa|            Iowa|\n",
            "|27779|        Maryland|     US|           39.0639| -76.8021|2020-03-20 00:00:00|      149|    1|        0|        Maryland|        Maryland|\n",
            "|27780|  North Carolina|     US|           35.6301| -79.8064|2020-03-20 00:00:00|      172|    0|        0|  North Carolina|  North Carolina|\n",
            "|27781|  South Carolina|     US|           33.8569|  -80.945|2020-03-20 00:00:00|      126|    1|        0|  South Carolina|  South Carolina|\n",
            "|27782|       Tennessee|     US|           35.7478| -86.6923|2020-03-20 00:00:00|      233|    0|        0|       Tennessee|       Tennessee|\n",
            "+-----+----------------+-------+------------------+---------+-------------------+---------+-----+---------+----------------+----------------+\n",
            "only showing top 20 rows\n",
            "\n"
          ],
          "name": "stdout"
        }
      ]
    },
    {
      "cell_type": "code",
      "metadata": {
        "id": "g2Lkz_YyeEgn",
        "colab_type": "code",
        "colab": {
          "base_uri": "https://localhost:8080/",
          "height": 459
        },
        "outputId": "d78bfaa6-00a4-4970-8895-431bcae1fb65"
      },
      "source": [
        "# Look at the Confirmed column to see the affect of ordering\n",
        "corona_df.filter(\"Country='US'\").orderBy([col(\"Date\"), col(\"Confirmed\")], ascending=False).show()"
      ],
      "execution_count": 66,
      "outputs": [
        {
          "output_type": "stream",
          "text": [
            "+-----+--------------+-------+-------+---------+-------------------+---------+-----+---------+--------------+--------------+\n",
            "|  _c0|         State|Country|    Lat|     Long|               Date|Confirmed|Death|Recovered| state_cleaned|          City|\n",
            "+-----+--------------+-------+-------+---------+-------------------+---------+-----+---------+--------------+--------------+\n",
            "|27765|      New York|     US|42.1657| -74.9481|2020-03-20 00:00:00|     8310|   42|        0|      New York|      New York|\n",
            "|27764|    Washington|     US|47.4009|-121.4905|2020-03-20 00:00:00|     1524|   83|        0|    Washington|    Washington|\n",
            "|27766|    California|     US|36.1162|-119.6816|2020-03-20 00:00:00|     1177|   23|        0|    California|    California|\n",
            "|27773|    New Jersey|     US|40.2989|  -74.521|2020-03-20 00:00:00|      890|   11|        0|    New Jersey|    New Jersey|\n",
            "|27776|      Illinois|     US|40.3495| -88.9861|2020-03-20 00:00:00|      585|    5|        0|      Illinois|      Illinois|\n",
            "|27772|       Florida|     US|27.7663| -81.6868|2020-03-20 00:00:00|      563|   10|        0|       Florida|       Florida|\n",
            "|27812|      Michigan|     US|43.3266| -84.5361|2020-03-20 00:00:00|      552|    3|        0|      Michigan|      Michigan|\n",
            "|27804|     Louisiana|     US|31.1695| -91.8678|2020-03-20 00:00:00|      538|   14|        0|     Louisiana|     Louisiana|\n",
            "|27770|       Georgia|     US|33.0406| -83.6431|2020-03-20 00:00:00|      420|   13|        0|       Georgia|       Georgia|\n",
            "|27767| Massachusetts|     US|42.2302| -71.5301|2020-03-20 00:00:00|      413|    1|        0| Massachusetts| Massachusetts|\n",
            "|27775|         Texas|     US|31.0545| -97.5635|2020-03-20 00:00:00|      394|    5|        0|         Texas|         Texas|\n",
            "|27771|      Colorado|     US|39.0598|-105.3111|2020-03-20 00:00:00|      363|    4|        0|      Colorado|      Colorado|\n",
            "|27777|  Pennsylvania|     US|40.5908| -77.2098|2020-03-20 00:00:00|      303|    1|        0|  Pennsylvania|  Pennsylvania|\n",
            "|27782|     Tennessee|     US|35.7478| -86.6923|2020-03-20 00:00:00|      233|    0|        0|     Tennessee|     Tennessee|\n",
            "|27794|     Wisconsin|     US|44.2685| -89.6165|2020-03-20 00:00:00|      207|    3|        0|     Wisconsin|     Wisconsin|\n",
            "|27795|   Connecticut|     US|41.5978| -72.7554|2020-03-20 00:00:00|      194|    3|        0|   Connecticut|   Connecticut|\n",
            "|27792|          Ohio|     US|40.3888| -82.7649|2020-03-20 00:00:00|      173|    2|        0|          Ohio|          Ohio|\n",
            "|27780|North Carolina|     US|35.6301| -79.8064|2020-03-20 00:00:00|      172|    0|        0|North Carolina|North Carolina|\n",
            "|27779|      Maryland|     US|39.0639| -76.8021|2020-03-20 00:00:00|      149|    1|        0|      Maryland|      Maryland|\n",
            "|27781|South Carolina|     US|33.8569|  -80.945|2020-03-20 00:00:00|      126|    1|        0|South Carolina|South Carolina|\n",
            "+-----+--------------+-------+-------+---------+-------------------+---------+-----+---------+--------------+--------------+\n",
            "only showing top 20 rows\n",
            "\n"
          ],
          "name": "stdout"
        }
      ]
    },
    {
      "cell_type": "code",
      "metadata": {
        "id": "rLSG4AKkdY-F",
        "colab_type": "code",
        "colab": {
          "base_uri": "https://localhost:8080/",
          "height": 459
        },
        "outputId": "34bfff77-a1d9-4c9d-9d46-f1f6acb25611"
      },
      "source": [
        "# If we have partitioned our data smartly and we know that all of our USA records are in one partition\n",
        "# only then we can use sortWithinPartition. The usage of this function will be that it will be faster\n",
        "# as there will be no shuffling between partitions.\n",
        "corona_df.filter(\"Country='US'\").sortWithinPartitions([col(\"Date\"), col(\"Confirmed\")], ascending=False).show()"
      ],
      "execution_count": 65,
      "outputs": [
        {
          "output_type": "stream",
          "text": [
            "+-----+----------------+-------+------------------+---------+-------------------+---------+-----+---------+----------------+----------------+\n",
            "|  _c0|           State|Country|               Lat|     Long|               Date|Confirmed|Death|Recovered|   state_cleaned|            City|\n",
            "+-----+----------------+-------+------------------+---------+-------------------+---------+-----+---------+----------------+----------------+\n",
            "|27764|      Washington|     US|           47.4009|-121.4905|2020-03-20 00:00:00|     1524|   83|        0|      Washington|      Washington|\n",
            "|27765|        New York|     US|           42.1657| -74.9481|2020-03-20 00:00:00|     8310|   42|        0|        New York|        New York|\n",
            "|27766|      California|     US|           36.1162|-119.6816|2020-03-20 00:00:00|     1177|   23|        0|      California|      California|\n",
            "|27767|   Massachusetts|     US|           42.2302| -71.5301|2020-03-20 00:00:00|      413|    1|        0|   Massachusetts|   Massachusetts|\n",
            "|27768|Diamond Princess|     US|           35.4437|  139.638|2020-03-20 00:00:00|       49|    0|        0|Diamond Princess|Diamond Princess|\n",
            "|27769|  Grand Princess|     US|           37.6489|-122.6655|2020-03-20 00:00:00|       23|    0|        0|  Grand Princess|  Grand Princess|\n",
            "|27770|         Georgia|     US|           33.0406| -83.6431|2020-03-20 00:00:00|      420|   13|        0|         Georgia|         Georgia|\n",
            "|27771|        Colorado|     US|           39.0598|-105.3111|2020-03-20 00:00:00|      363|    4|        0|        Colorado|        Colorado|\n",
            "|27772|         Florida|     US|           27.7663| -81.6868|2020-03-20 00:00:00|      563|   10|        0|         Florida|         Florida|\n",
            "|27773|      New Jersey|     US|           40.2989|  -74.521|2020-03-20 00:00:00|      890|   11|        0|      New Jersey|      New Jersey|\n",
            "|27774|          Oregon|     US|44.571999999999996|-122.0709|2020-03-20 00:00:00|      114|    3|        0|          Oregon|          Oregon|\n",
            "|27775|           Texas|     US|           31.0545| -97.5635|2020-03-20 00:00:00|      394|    5|        0|           Texas|           Texas|\n",
            "|27776|        Illinois|     US|           40.3495| -88.9861|2020-03-20 00:00:00|      585|    5|        0|        Illinois|        Illinois|\n",
            "|27777|    Pennsylvania|     US|           40.5908| -77.2098|2020-03-20 00:00:00|      303|    1|        0|    Pennsylvania|    Pennsylvania|\n",
            "|27778|            Iowa|     US|           42.0115| -93.2105|2020-03-20 00:00:00|       45|    0|        0|            Iowa|            Iowa|\n",
            "|27779|        Maryland|     US|           39.0639| -76.8021|2020-03-20 00:00:00|      149|    1|        0|        Maryland|        Maryland|\n",
            "|27780|  North Carolina|     US|           35.6301| -79.8064|2020-03-20 00:00:00|      172|    0|        0|  North Carolina|  North Carolina|\n",
            "|27781|  South Carolina|     US|           33.8569|  -80.945|2020-03-20 00:00:00|      126|    1|        0|  South Carolina|  South Carolina|\n",
            "|27782|       Tennessee|     US|           35.7478| -86.6923|2020-03-20 00:00:00|      233|    0|        0|       Tennessee|       Tennessee|\n",
            "|27783|        Virginia|     US|           37.7693|   -78.17|2020-03-20 00:00:00|      122|    2|        0|        Virginia|        Virginia|\n",
            "+-----+----------------+-------+------------------+---------+-------------------+---------+-----+---------+----------------+----------------+\n",
            "only showing top 20 rows\n",
            "\n"
          ],
          "name": "stdout"
        }
      ]
    },
    {
      "cell_type": "code",
      "metadata": {
        "id": "FP2qKExjby9u",
        "colab_type": "code",
        "colab": {
          "base_uri": "https://localhost:8080/",
          "height": 238
        },
        "outputId": "f169a287-0f1b-4684-f661-18edadea4d12"
      },
      "source": [
        "corona_df.printSchema()"
      ],
      "execution_count": 69,
      "outputs": [
        {
          "output_type": "stream",
          "text": [
            "root\n",
            " |-- _c0: integer (nullable = true)\n",
            " |-- State: string (nullable = true)\n",
            " |-- Country: string (nullable = true)\n",
            " |-- Lat: double (nullable = true)\n",
            " |-- Long: double (nullable = true)\n",
            " |-- Date: timestamp (nullable = true)\n",
            " |-- Confirmed: integer (nullable = true)\n",
            " |-- Death: integer (nullable = true)\n",
            " |-- Recovered: integer (nullable = true)\n",
            " |-- state_cleaned: string (nullable = true)\n",
            " |-- City: string (nullable = true)\n",
            "\n"
          ],
          "name": "stdout"
        }
      ]
    },
    {
      "cell_type": "code",
      "metadata": {
        "id": "ZExR7hG_byyS",
        "colab_type": "code",
        "colab": {
          "base_uri": "https://localhost:8080/",
          "height": 187
        },
        "outputId": "c6c62710-b3b0-4fa9-ce9a-3f8f610f4bc1"
      },
      "source": [
        "corona_df.describe().show()"
      ],
      "execution_count": 67,
      "outputs": [
        {
          "output_type": "stream",
          "text": [
            "+-------+-----------------+---------+-----------+------------------+------------------+------------------+------------------+------------------+-------------+-----------+\n",
            "|summary|              _c0|    State|    Country|               Lat|              Long|         Confirmed|             Death|         Recovered|state_cleaned|       City|\n",
            "+-------+-----------------+---------+-----------+------------------+------------------+------------------+------------------+------------------+-------------+-----------+\n",
            "|  count|            28143|    19116|      28143|             28143|             28143|             28143|             28143|             28143|        28143|      14573|\n",
            "|   mean|          14071.0|     null|       null|30.965553459118834|-34.57031257861667|161.88245744945456| 5.494368048893153| 60.17290267562094|         null|       null|\n",
            "| stddev|8124.328649186959|     null|       null|19.365472826597646| 80.78375872452575| 2519.847217725942|109.29475709869875|1346.6597829124426|         null|       null|\n",
            "|    min|                0|Adams, IN|Afghanistan|          -41.4545|         -157.8584|                 0|                 0|                 0|    Abu Dhabi|      Adams|\n",
            "|    max|            28142| Zhejiang|   Zimbabwe|           71.7069|           178.065|             67800|              4032|             58382|     erdészet|Yolo County|\n",
            "+-------+-----------------+---------+-----------+------------------+------------------+------------------+------------------+------------------+-------------+-----------+\n",
            "\n"
          ],
          "name": "stdout"
        }
      ]
    },
    {
      "cell_type": "code",
      "metadata": {
        "id": "rIn6lmBfehOk",
        "colab_type": "code",
        "colab": {
          "base_uri": "https://localhost:8080/",
          "height": 459
        },
        "outputId": "eb8df9e9-4b20-42e1-8c73-293dbcf5d5b5"
      },
      "source": [
        "corona_df.filter(\"Confirmed > 1000\").sort(col(\"Confirmed\"), ascending=False).show()"
      ],
      "execution_count": 71,
      "outputs": [
        {
          "output_type": "stream",
          "text": [
            "+-----+-----+-------+-------+--------+-------------------+---------+-----+---------+-------------+----+\n",
            "|  _c0|State|Country|    Lat|    Long|               Date|Confirmed|Death|Recovered|state_cleaned|City|\n",
            "+-----+-----+-------+-------+--------+-------------------+---------+-----+---------+-------------+----+\n",
            "|27820|Hubei|  China|30.9756|112.2707|2020-03-20 00:00:00|    67800| 3133|    58382|        Hubei|null|\n",
            "|27343|Hubei|  China|30.9756|112.2707|2020-03-19 00:00:00|    67800| 3130|    57682|        Hubei|null|\n",
            "|26866|Hubei|  China|30.9756|112.2707|2020-03-18 00:00:00|    67800| 3122|    56927|        Hubei|null|\n",
            "|26389|Hubei|  China|30.9756|112.2707|2020-03-17 00:00:00|    67799| 3111|    56003|        Hubei|null|\n",
            "|25912|Hubei|  China|30.9756|112.2707|2020-03-16 00:00:00|    67798| 3099|    55142|        Hubei|null|\n",
            "|25435|Hubei|  China|30.9756|112.2707|2020-03-15 00:00:00|    67794| 3085|    54288|        Hubei|null|\n",
            "|24958|Hubei|  China|30.9756|112.2707|2020-03-14 00:00:00|    67790| 3075|    52960|        Hubei|null|\n",
            "|24481|Hubei|  China|30.9756|112.2707|2020-03-13 00:00:00|    67786| 3062|    51553|        Hubei|null|\n",
            "|24004|Hubei|  China|30.9756|112.2707|2020-03-12 00:00:00|    67781| 3056|    50318|        Hubei|null|\n",
            "|23527|Hubei|  China|30.9756|112.2707|2020-03-11 00:00:00|    67773| 3046|    49134|        Hubei|null|\n",
            "|23050|Hubei|  China|30.9756|112.2707|2020-03-10 00:00:00|    67760| 3024|    47743|        Hubei|null|\n",
            "|22573|Hubei|  China|30.9756|112.2707|2020-03-09 00:00:00|    67743| 3008|    46488|        Hubei|null|\n",
            "|22096|Hubei|  China|30.9756|112.2707|2020-03-08 00:00:00|    67707| 2986|    45235|        Hubei|null|\n",
            "|21619|Hubei|  China|30.9756|112.2707|2020-03-07 00:00:00|    67666| 2959|    43500|        Hubei|null|\n",
            "|21142|Hubei|  China|30.9756|112.2707|2020-03-06 00:00:00|    67592| 2931|    42033|        Hubei|null|\n",
            "|20665|Hubei|  China|30.9756|112.2707|2020-03-05 00:00:00|    67466| 2902|    40592|        Hubei|null|\n",
            "|20188|Hubei|  China|30.9756|112.2707|2020-03-04 00:00:00|    67332| 2871|    38557|        Hubei|null|\n",
            "|19711|Hubei|  China|30.9756|112.2707|2020-03-03 00:00:00|    67217| 2835|    36208|        Hubei|null|\n",
            "|19234|Hubei|  China|30.9756|112.2707|2020-03-02 00:00:00|    67103| 2803|    33934|        Hubei|null|\n",
            "|18757|Hubei|  China|30.9756|112.2707|2020-03-01 00:00:00|    66907| 2761|    31536|        Hubei|null|\n",
            "+-----+-----+-------+-------+--------+-------------------+---------+-----+---------+-------------+----+\n",
            "only showing top 20 rows\n",
            "\n"
          ],
          "name": "stdout"
        }
      ]
    },
    {
      "cell_type": "code",
      "metadata": {
        "id": "QWkRKUMkbzI8",
        "colab_type": "code",
        "colab": {
          "base_uri": "https://localhost:8080/",
          "height": 34
        },
        "outputId": "6ad9fed1-b7c3-481f-ddd5-d8438f707f99"
      },
      "source": [
        "# Doesnt give exact quantiles \n",
        "corona_df.filter(\"Confirmed > 1000\").approxQuantile(\"Confirmed\", [0.25, 0.5, 0.75, 0.9, 0.95], relativeError=0.3)"
      ],
      "execution_count": 110,
      "outputs": [
        {
          "output_type": "execute_result",
          "data": {
            "text/plain": [
              "[1001.0, 1273.0, 67800.0, 67800.0, 67800.0]"
            ]
          },
          "metadata": {
            "tags": []
          },
          "execution_count": 110
        }
      ]
    },
    {
      "cell_type": "code",
      "metadata": {
        "id": "vpDLHMM3huWF",
        "colab_type": "code",
        "colab": {
          "base_uri": "https://localhost:8080/",
          "height": 34
        },
        "outputId": "ffe7d157-1cf8-4091-84a5-e931865d0e0b"
      },
      "source": [
        "corona_df.agg({\"Date\":\"max\"}).collect()"
      ],
      "execution_count": 80,
      "outputs": [
        {
          "output_type": "execute_result",
          "data": {
            "text/plain": [
              "[Row(max(Date)=datetime.datetime(2020, 3, 20, 0, 0))]"
            ]
          },
          "metadata": {
            "tags": []
          },
          "execution_count": 80
        }
      ]
    },
    {
      "cell_type": "code",
      "metadata": {
        "id": "ueR4Qdmphxow",
        "colab_type": "code",
        "colab": {
          "base_uri": "https://localhost:8080/",
          "height": 34
        },
        "outputId": "9e09238b-2cc6-46de-c021-2ee939230c6d"
      },
      "source": [
        "corona_df.agg({\"Date\":\"max\", \"Date\":\"min\"}).collect()"
      ],
      "execution_count": 81,
      "outputs": [
        {
          "output_type": "execute_result",
          "data": {
            "text/plain": [
              "[Row(min(Date)=datetime.datetime(2020, 1, 22, 0, 0))]"
            ]
          },
          "metadata": {
            "tags": []
          },
          "execution_count": 81
        }
      ]
    },
    {
      "cell_type": "code",
      "metadata": {
        "id": "9eXRwRhgh8ZC",
        "colab_type": "code",
        "colab": {
          "base_uri": "https://localhost:8080/",
          "height": 34
        },
        "outputId": "4d690d0e-710f-414c-c1c6-6c38710e3ecb"
      },
      "source": [
        "corona_df.agg({\"Date\":\"max\", \"Date\":\"min\", \"long\":\"min\"}).collect()"
      ],
      "execution_count": 84,
      "outputs": [
        {
          "output_type": "execute_result",
          "data": {
            "text/plain": [
              "[Row(min(Date)=datetime.datetime(2020, 1, 22, 0, 0), min(long)=-157.8584)]"
            ]
          },
          "metadata": {
            "tags": []
          },
          "execution_count": 84
        }
      ]
    },
    {
      "cell_type": "code",
      "metadata": {
        "id": "n6MrxacdhJoZ",
        "colab_type": "code",
        "colab": {
          "base_uri": "https://localhost:8080/",
          "height": 34
        },
        "outputId": "59b041af-5f19-479a-8e9b-085c8beb78b5"
      },
      "source": [
        "corona_df.agg({\"Date\":\"max\", \"Date\":\"min\", \"long\":\"min\", \"long\":\"max\"}).collect()"
      ],
      "execution_count": 88,
      "outputs": [
        {
          "output_type": "execute_result",
          "data": {
            "text/plain": [
              "[Row(min(Date)=datetime.datetime(2020, 1, 22, 0, 0), max(long)=178.065)]"
            ]
          },
          "metadata": {
            "tags": []
          },
          "execution_count": 88
        }
      ]
    },
    {
      "cell_type": "code",
      "metadata": {
        "id": "5RWeqNk4hUgm",
        "colab_type": "code",
        "colab": {}
      },
      "source": [
        "max_date = corona_df.agg({\"Date\":\"max\"})"
      ],
      "execution_count": 0,
      "outputs": []
    },
    {
      "cell_type": "code",
      "metadata": {
        "id": "DBGR-160bzUx",
        "colab_type": "code",
        "colab": {
          "base_uri": "https://localhost:8080/",
          "height": 119
        },
        "outputId": "53b4713f-457b-467c-e34c-33dd5ddee006"
      },
      "source": [
        "max_date.show()"
      ],
      "execution_count": 86,
      "outputs": [
        {
          "output_type": "stream",
          "text": [
            "+-------------------+\n",
            "|          max(Date)|\n",
            "+-------------------+\n",
            "|2020-03-20 00:00:00|\n",
            "+-------------------+\n",
            "\n"
          ],
          "name": "stdout"
        }
      ]
    },
    {
      "cell_type": "code",
      "metadata": {
        "id": "cSmR8-O0iVPN",
        "colab_type": "code",
        "colab": {
          "base_uri": "https://localhost:8080/",
          "height": 459
        },
        "outputId": "e48628f8-a192-4d89-dbcf-34829bfe214d"
      },
      "source": [
        "# Other way to do same Agg function\n",
        "\n",
        "import pyspark.sql.functions as F\n",
        "corona_df.groupBy(\"country\", \"state_cleaned\").agg(F.max(\"Date\")).show()"
      ],
      "execution_count": 90,
      "outputs": [
        {
          "output_type": "stream",
          "text": [
            "+--------------+--------------------+-------------------+\n",
            "|       country|       state_cleaned|          max(Date)|\n",
            "+--------------+--------------------+-------------------+\n",
            "|      Cameroon|             Yaounde|2020-03-20 00:00:00|\n",
            "|        Cyprus|             Nicosia|2020-03-20 00:00:00|\n",
            "|            US|            Michigan|2020-03-20 00:00:00|\n",
            "|         China|             Qinghai|2020-03-20 00:00:00|\n",
            "|      Portugal|              Lisbon|2020-03-20 00:00:00|\n",
            "|            US|            Colorado|2020-03-20 00:00:00|\n",
            "|United Kingdom|      Cayman Islands|2020-03-20 00:00:00|\n",
            "|            US|            Missouri|2020-03-20 00:00:00|\n",
            "|         China|              Hainan|2020-03-20 00:00:00|\n",
            "|     Australia|Australian Capita...|2020-03-20 00:00:00|\n",
            "|            US|                Guam|2020-03-20 00:00:00|\n",
            "|        France|             Reunion|2020-03-20 00:00:00|\n",
            "|      Colombia|        Cundinamarca|2020-03-20 00:00:00|\n",
            "|          Cuba|              Havana|2020-03-20 00:00:00|\n",
            "|     Mauritius|          Port Louis|2020-03-20 00:00:00|\n",
            "|       Ukraine|                Kiev|2020-03-20 00:00:00|\n",
            "|   Switzerland|                Bern|2020-03-20 00:00:00|\n",
            "|         Benin|          Porto-Novo|2020-03-20 00:00:00|\n",
            "|         Malta|               Mgarr|2020-03-20 00:00:00|\n",
            "|United Kingdom|         Isle of Man|2020-03-20 00:00:00|\n",
            "+--------------+--------------------+-------------------+\n",
            "only showing top 20 rows\n",
            "\n"
          ],
          "name": "stdout"
        }
      ]
    },
    {
      "cell_type": "code",
      "metadata": {
        "id": "MJPbIc3ciwWH",
        "colab_type": "code",
        "colab": {
          "base_uri": "https://localhost:8080/",
          "height": 459
        },
        "outputId": "14938f54-9542-4c52-8e43-8f204b463a4d"
      },
      "source": [
        "# First groupBY \"country\" and \"State_cleaned\" followed by getting the max of \n",
        "# \"Date\" for each group using aggregate function max. \n",
        "# Then joining the resultant data with original data on \"Country\", \"State_cleaned\", \"Date\"\n",
        "# using inner join\n",
        "\n",
        "# Alias \"Date\" is used because without it \"max(Date)\" was column name\n",
        "corona_df.join(corona_df.groupBy(\"country\", \"state_cleaned\").agg(F.max(\"Date\").alias(\"Date\")), on = [\"Country\", \"State_cleaned\", \"Date\"], how=\"inner\").show()"
      ],
      "execution_count": 100,
      "outputs": [
        {
          "output_type": "stream",
          "text": [
            "+--------------------+--------------------+-------------------+-----+----------------+--------+---------+---------+-----+---------+----+\n",
            "|             Country|       state_cleaned|               Date|  _c0|           State|     Lat|     Long|Confirmed|Death|Recovered|City|\n",
            "+--------------------+--------------------+-------------------+-----+----------------+--------+---------+---------+-----+---------+----+\n",
            "|            Thailand|             Bangkok|2020-03-20 00:00:00|27666|            null|    15.0|    101.0|      322|    1|       42|null|\n",
            "|               Japan|             Hiraide|2020-03-20 00:00:00|27667|            null|    36.0|    138.0|      963|   33|      191|null|\n",
            "|           Singapore|           Singapore|2020-03-20 00:00:00|27668|            null|  1.2833| 103.8333|      385|    0|      124|null|\n",
            "|               Nepal|           Kathmandu|2020-03-20 00:00:00|27669|            null| 28.1667|    84.25|        1|    0|        1|null|\n",
            "|            Malaysia|             Sarawak|2020-03-20 00:00:00|27670|            null|     2.5|    112.5|     1030|    3|       87|null|\n",
            "|              Canada|    British Columbia|2020-03-20 00:00:00|27671|British Columbia| 49.2827|-123.1207|      271|    8|        4|null|\n",
            "|           Australia|     New South Wales|2020-03-20 00:00:00|27672| New South Wales|-33.8688| 151.2093|      353|    6|        4|null|\n",
            "|           Australia|            Victoria|2020-03-20 00:00:00|27673|        Victoria|-37.8136| 144.9631|      121|    0|        8|null|\n",
            "|           Australia|          Queensland|2020-03-20 00:00:00|27674|      Queensland|-28.0167|    153.4|      184|    0|        8|null|\n",
            "|            Cambodia|          Phnom Penh|2020-03-20 00:00:00|27675|            null|   11.55| 104.9167|       51|    0|        1|null|\n",
            "|           Sri Lanka|Sri Jayawardenapu...|2020-03-20 00:00:00|27676|            null|     7.0|     81.0|       73|    0|        3|null|\n",
            "|             Germany|              Berlin|2020-03-20 00:00:00|27677|            null|    51.0|      9.0|    19848|   67|      180|null|\n",
            "|             Finland|            Helsinki|2020-03-20 00:00:00|27678|            null|    64.0|     26.0|      450|    0|       10|null|\n",
            "|United Arab Emirates|           Abu Dhabi|2020-03-20 00:00:00|27679|            null|    24.0|     54.0|      140|    2|       31|null|\n",
            "|         Philippines|              Manila|2020-03-20 00:00:00|27680|            null|    13.0|    122.0|      230|   18|        8|null|\n",
            "|               India|           New Delhi|2020-03-20 00:00:00|27681|            null|    21.0|     78.0|      244|    5|       20|null|\n",
            "|               Italy|                Rome|2020-03-20 00:00:00|27682|            null|    43.0|     12.0|    47021| 4032|     4440|null|\n",
            "|              Sweden|           Stockholm|2020-03-20 00:00:00|27683|            null|    63.0|     16.0|     1639|   16|       16|null|\n",
            "|               Spain|              Toledo|2020-03-20 00:00:00|27684|            null|    40.0|     -4.0|    20410| 1043|     1588|null|\n",
            "|           Australia|     South Australia|2020-03-20 00:00:00|27685| South Australia|-34.9285| 138.6007|       50|    0|        3|null|\n",
            "+--------------------+--------------------+-------------------+-----+----------------+--------+---------+---------+-----+---------+----+\n",
            "only showing top 20 rows\n",
            "\n"
          ],
          "name": "stdout"
        }
      ]
    },
    {
      "cell_type": "code",
      "metadata": {
        "id": "D7UAFlkjkMYb",
        "colab_type": "code",
        "colab": {
          "base_uri": "https://localhost:8080/",
          "height": 289
        },
        "outputId": "4e4c8e70-36d0-4619-90d9-1152751bd60c"
      },
      "source": [
        "# Adding a sorting to above DF\n",
        "\n",
        "#This will give state and country with maximum confirmed cases \n",
        "corona_df.join(corona_df.groupBy(\"country\", \"state_cleaned\").agg(F.max(\"Date\").alias(\"Date\")), on = [\"Country\", \"State_cleaned\", \"Date\"], how=\"inner\").sort(\"confirmed\", ascending=False).show(10)"
      ],
      "execution_count": 113,
      "outputs": [
        {
          "output_type": "stream",
          "text": [
            "+--------------+----------------+-------------------+-----+--------------+-------+-------------------+---------+-----+---------+--------+\n",
            "|       Country|   state_cleaned|               Date|  _c0|         State|    Lat|               Long|Confirmed|Death|Recovered|    City|\n",
            "+--------------+----------------+-------------------+-----+--------------+-------+-------------------+---------+-----+---------+--------+\n",
            "|         China|           Hubei|2020-03-20 00:00:00|27820|         Hubei|30.9756|           112.2707|    67800| 3133|    58382|    null|\n",
            "|         Italy|            Rome|2020-03-20 00:00:00|27682|          null|   43.0|               12.0|    47021| 4032|     4440|    null|\n",
            "|         Spain|          Toledo|2020-03-20 00:00:00|27684|          null|   40.0|               -4.0|    20410| 1043|     1588|    null|\n",
            "|       Germany|          Berlin|2020-03-20 00:00:00|27677|          null|   51.0|                9.0|    19848|   67|      180|    null|\n",
            "|          Iran|          Tehran|2020-03-20 00:00:00|27821|          null|   32.0|               53.0|    19644| 1433|     6745|    null|\n",
            "|        France|          France|2020-03-20 00:00:00|27823|        France|46.2276|             2.2137|    12612|  450|       12|    null|\n",
            "|  Korea, South|Gyeongsangbuk-do|2020-03-20 00:00:00|27822|          null|   36.0|              128.0|     8652|   94|     1540|    null|\n",
            "|            US|        New York|2020-03-20 00:00:00|27765|      New York|42.1657|           -74.9481|     8310|   42|        0|New York|\n",
            "|   Switzerland|            Bern|2020-03-20 00:00:00|27697|          null|46.8182|             8.2275|     5294|   54|       15|    null|\n",
            "|United Kingdom|  United Kingdom|2020-03-20 00:00:00|28069|United Kingdom|55.3781|-3.4360000000000004|     3983|  177|       65|    null|\n",
            "+--------------+----------------+-------------------+-----+--------------+-------+-------------------+---------+-----+---------+--------+\n",
            "only showing top 10 rows\n",
            "\n"
          ],
          "name": "stdout"
        }
      ]
    },
    {
      "cell_type": "code",
      "metadata": {
        "id": "DXbm7q8aju5V",
        "colab_type": "code",
        "colab": {}
      },
      "source": [
        "from pyspark.sql.window import Window\n",
        "from pyspark.sql.functions import row_number"
      ],
      "execution_count": 0,
      "outputs": []
    },
    {
      "cell_type": "code",
      "metadata": {
        "id": "jgHLVuExpeOD",
        "colab_type": "code",
        "colab": {
          "base_uri": "https://localhost:8080/",
          "height": 459
        },
        "outputId": "60cfeafb-16fe-4506-fb12-557cfc957ed6"
      },
      "source": [
        "# Here we are first partitioning the data into logical partitions using Window()\n",
        "# function. Here partitions are made by county and state_cleaned columns.\n",
        "# Then we are orderingby date in descending order\n",
        "\n",
        "ws = Window().partitionBy(\"Country\", \"State_cleaned\").orderBy(col(\"Date\").desc())\n",
        "\n",
        "\n",
        "# Here we are creating a new column with the withColumn function\n",
        "# The new column will behave like an index starting from 1\n",
        "corona_df.withColumn(\"row_num\", row_number().over(ws)).show()\n",
        "\n",
        "# The resultant of these two lines of code will be the same dataframe\n",
        "# except all the records of one country and one state will be together\n",
        "# and in one particular order\n",
        "\n",
        "# This is substitute of traditional groupBY and join where first you\n",
        "# first group by country and state _cleaned followed by joining the rest of\n",
        "# the dataset."
      ],
      "execution_count": 142,
      "outputs": [
        {
          "output_type": "stream",
          "text": [
            "+-----+-----+--------+------------------+-------+-------------------+---------+-----+---------+-------------+----+-------+\n",
            "|  _c0|State| Country|               Lat|   Long|               Date|Confirmed|Death|Recovered|state_cleaned|City|row_num|\n",
            "+-----+-----+--------+------------------+-------+-------------------+---------+-----+---------+-------------+----+-------+\n",
            "|27745| null|Cameroon|3.8480000000000003|11.5021|2020-03-20 00:00:00|       20|    0|        0|      Yaounde|null|      1|\n",
            "|27268| null|Cameroon|3.8480000000000003|11.5021|2020-03-19 00:00:00|       13|    0|        0|      Yaounde|null|      2|\n",
            "|26791| null|Cameroon|3.8480000000000003|11.5021|2020-03-18 00:00:00|       10|    0|        0|      Yaounde|null|      3|\n",
            "|26314| null|Cameroon|3.8480000000000003|11.5021|2020-03-17 00:00:00|       10|    0|        0|      Yaounde|null|      4|\n",
            "|25837| null|Cameroon|3.8480000000000003|11.5021|2020-03-16 00:00:00|        4|    0|        0|      Yaounde|null|      5|\n",
            "|25360| null|Cameroon|3.8480000000000003|11.5021|2020-03-15 00:00:00|        2|    0|        0|      Yaounde|null|      6|\n",
            "|24883| null|Cameroon|3.8480000000000003|11.5021|2020-03-14 00:00:00|        2|    0|        0|      Yaounde|null|      7|\n",
            "|24406| null|Cameroon|3.8480000000000003|11.5021|2020-03-13 00:00:00|        2|    0|        0|      Yaounde|null|      8|\n",
            "|23929| null|Cameroon|3.8480000000000003|11.5021|2020-03-12 00:00:00|        2|    0|        0|      Yaounde|null|      9|\n",
            "|23452| null|Cameroon|3.8480000000000003|11.5021|2020-03-11 00:00:00|        2|    0|        0|      Yaounde|null|     10|\n",
            "|22975| null|Cameroon|3.8480000000000003|11.5021|2020-03-10 00:00:00|        2|    0|        0|      Yaounde|null|     11|\n",
            "|22498| null|Cameroon|3.8480000000000003|11.5021|2020-03-09 00:00:00|        2|    0|        0|      Yaounde|null|     12|\n",
            "|22021| null|Cameroon|3.8480000000000003|11.5021|2020-03-08 00:00:00|        2|    0|        0|      Yaounde|null|     13|\n",
            "|21544| null|Cameroon|3.8480000000000003|11.5021|2020-03-07 00:00:00|        1|    0|        0|      Yaounde|null|     14|\n",
            "|21067| null|Cameroon|3.8480000000000003|11.5021|2020-03-06 00:00:00|        1|    0|        0|      Yaounde|null|     15|\n",
            "|20590| null|Cameroon|3.8480000000000003|11.5021|2020-03-05 00:00:00|        0|    0|        0|      Yaounde|null|     16|\n",
            "|20113| null|Cameroon|3.8480000000000003|11.5021|2020-03-04 00:00:00|        0|    0|        0|      Yaounde|null|     17|\n",
            "|19636| null|Cameroon|3.8480000000000003|11.5021|2020-03-03 00:00:00|        0|    0|        0|      Yaounde|null|     18|\n",
            "|19159| null|Cameroon|3.8480000000000003|11.5021|2020-03-02 00:00:00|        0|    0|        0|      Yaounde|null|     19|\n",
            "|18682| null|Cameroon|3.8480000000000003|11.5021|2020-03-01 00:00:00|        0|    0|        0|      Yaounde|null|     20|\n",
            "+-----+-----+--------+------------------+-------+-------------------+---------+-----+---------+-------------+----+-------+\n",
            "only showing top 20 rows\n",
            "\n"
          ],
          "name": "stdout"
        }
      ]
    },
    {
      "cell_type": "code",
      "metadata": {
        "id": "J1MraD4z2WAP",
        "colab_type": "code",
        "colab": {
          "base_uri": "https://localhost:8080/",
          "height": 459
        },
        "outputId": "35a49a05-17f6-483e-901f-ac6c7214783c"
      },
      "source": [
        "# Give only those records where row_number == 1.\n",
        "# Which means latest record from each state country pair, given the records are in descending order of date.\n",
        "corona_df.withColumn(\"row_num\", row_number().over(ws)).where(col(\"row_num\") == 1).show()"
      ],
      "execution_count": 146,
      "outputs": [
        {
          "output_type": "stream",
          "text": [
            "+-----+--------------------+--------------+------------------+---------+-------------------+---------+-----+---------+--------------------+--------+-------+\n",
            "|  _c0|               State|       Country|               Lat|     Long|               Date|Confirmed|Death|Recovered|       state_cleaned|    City|row_num|\n",
            "+-----+--------------------+--------------+------------------+---------+-------------------+---------+-----+---------+--------------------+--------+-------+\n",
            "|27745|                null|      Cameroon|3.8480000000000003|  11.5021|2020-03-20 00:00:00|       20|    0|        0|             Yaounde|    null|      1|\n",
            "|27859|             Qinghai|         China|           35.7452|  95.9956|2020-03-20 00:00:00|       18|    0|       18|             Qinghai|    null|      1|\n",
            "|27762|                null|        Cyprus|           35.1264|  33.4299|2020-03-20 00:00:00|       67|    0|        0|             Nicosia|    null|      1|\n",
            "|27812|            Michigan|            US|           43.3266| -84.5361|2020-03-20 00:00:00|      552|    3|        0|            Michigan|Michigan|      1|\n",
            "|27725|                null|      Portugal|           39.3999|  -8.2245|2020-03-20 00:00:00|     1020|    6|        5|              Lisbon|    null|      1|\n",
            "|27771|            Colorado|            US|           39.0598|-105.3111|2020-03-20 00:00:00|      363|    4|        0|            Colorado|Colorado|      1|\n",
            "|28115|      Cayman Islands|United Kingdom|           19.3133| -81.2546|2020-03-20 00:00:00|        3|    1|        0|      Cayman Islands|    null|      1|\n",
            "|27844|              Hainan|         China|           19.1959| 109.7453|2020-03-20 00:00:00|      168|    6|      161|              Hainan|    null|      1|\n",
            "|27805|            Missouri|            US|           38.4561| -92.2884|2020-03-20 00:00:00|       53|    2|        0|            Missouri|Missouri|      1|\n",
            "|28068|Australian Capita...|     Australia|          -35.4735| 149.0124|2020-03-20 00:00:00|        6|    0|        0|Australian Capita...|    null|      1|\n",
            "|28097|                Guam|            US|           13.4443| 144.7937|2020-03-20 00:00:00|       14|    0|        0|                Guam|    Guam|      1|\n",
            "|28116|             Reunion|        France|          -21.1351|  55.2471|2020-03-20 00:00:00|       28|    0|        0|             Reunion|    null|      1|\n",
            "|27746|                null|      Colombia|            4.5709| -74.2973|2020-03-20 00:00:00|      128|    0|        1|        Cundinamarca|    null|      1|\n",
            "|28066|                null|          Cuba|              22.0|    -80.0|2020-03-20 00:00:00|       16|    1|        0|              Havana|    null|      1|\n",
            "|28120|                null|     Mauritius|             -20.2|     57.5|2020-03-20 00:00:00|       12|    0|        0|          Port Louis|    null|      1|\n",
            "|27735|                null|       Ukraine|           48.3794|  31.1656|2020-03-20 00:00:00|       29|    3|        0|                Kiev|    null|      1|\n",
            "|28109|                null|         Benin|            9.3077|   2.3158|2020-03-20 00:00:00|        2|    0|        0|          Porto-Novo|    null|      1|\n",
            "|27697|                null|   Switzerland|           46.8182|   8.2275|2020-03-20 00:00:00|     5294|   54|       15|                Bern|    null|      1|\n",
            "|27752|                null|         Malta|           35.9375|  14.3754|2020-03-20 00:00:00|       64|    0|        2|               Mgarr|    null|      1|\n",
            "|28141|         Isle of Man|United Kingdom|           54.2361|  -4.5481|2020-03-20 00:00:00|        1|    0|        0|         Isle of Man|    null|      1|\n",
            "+-----+--------------------+--------------+------------------+---------+-------------------+---------+-----+---------+--------------------+--------+-------+\n",
            "only showing top 20 rows\n",
            "\n"
          ],
          "name": "stdout"
        }
      ]
    },
    {
      "cell_type": "code",
      "metadata": {
        "id": "CsAv-yeE2vPD",
        "colab_type": "code",
        "colab": {}
      },
      "source": [
        "# All the countries with maximum date\n",
        "corona_max_df = corona_df.join(corona_df.groupBy(\"country\", \"state_cleaned\").agg(F.max(\"Date\").alias(\"Date\")), on = [\"Country\", \"state_cleaned\", \"date\"], how=\"inner\")"
      ],
      "execution_count": 0,
      "outputs": []
    },
    {
      "cell_type": "code",
      "metadata": {
        "id": "m4WRwwzg2R2j",
        "colab_type": "code",
        "colab": {
          "base_uri": "https://localhost:8080/",
          "height": 459
        },
        "outputId": "0d3d1ead-aa1f-467b-c7ae-0388dfb6cbff"
      },
      "source": [
        "corona_max_df.show()"
      ],
      "execution_count": 149,
      "outputs": [
        {
          "output_type": "stream",
          "text": [
            "+--------------------+--------------------+-------------------+-----+----------------+--------+---------+---------+-----+---------+----+\n",
            "|             Country|       state_cleaned|               Date|  _c0|           State|     Lat|     Long|Confirmed|Death|Recovered|City|\n",
            "+--------------------+--------------------+-------------------+-----+----------------+--------+---------+---------+-----+---------+----+\n",
            "|            Thailand|             Bangkok|2020-03-20 00:00:00|27666|            null|    15.0|    101.0|      322|    1|       42|null|\n",
            "|               Japan|             Hiraide|2020-03-20 00:00:00|27667|            null|    36.0|    138.0|      963|   33|      191|null|\n",
            "|           Singapore|           Singapore|2020-03-20 00:00:00|27668|            null|  1.2833| 103.8333|      385|    0|      124|null|\n",
            "|               Nepal|           Kathmandu|2020-03-20 00:00:00|27669|            null| 28.1667|    84.25|        1|    0|        1|null|\n",
            "|            Malaysia|             Sarawak|2020-03-20 00:00:00|27670|            null|     2.5|    112.5|     1030|    3|       87|null|\n",
            "|              Canada|    British Columbia|2020-03-20 00:00:00|27671|British Columbia| 49.2827|-123.1207|      271|    8|        4|null|\n",
            "|           Australia|     New South Wales|2020-03-20 00:00:00|27672| New South Wales|-33.8688| 151.2093|      353|    6|        4|null|\n",
            "|           Australia|            Victoria|2020-03-20 00:00:00|27673|        Victoria|-37.8136| 144.9631|      121|    0|        8|null|\n",
            "|           Australia|          Queensland|2020-03-20 00:00:00|27674|      Queensland|-28.0167|    153.4|      184|    0|        8|null|\n",
            "|            Cambodia|          Phnom Penh|2020-03-20 00:00:00|27675|            null|   11.55| 104.9167|       51|    0|        1|null|\n",
            "|           Sri Lanka|Sri Jayawardenapu...|2020-03-20 00:00:00|27676|            null|     7.0|     81.0|       73|    0|        3|null|\n",
            "|             Germany|              Berlin|2020-03-20 00:00:00|27677|            null|    51.0|      9.0|    19848|   67|      180|null|\n",
            "|             Finland|            Helsinki|2020-03-20 00:00:00|27678|            null|    64.0|     26.0|      450|    0|       10|null|\n",
            "|United Arab Emirates|           Abu Dhabi|2020-03-20 00:00:00|27679|            null|    24.0|     54.0|      140|    2|       31|null|\n",
            "|         Philippines|              Manila|2020-03-20 00:00:00|27680|            null|    13.0|    122.0|      230|   18|        8|null|\n",
            "|               India|           New Delhi|2020-03-20 00:00:00|27681|            null|    21.0|     78.0|      244|    5|       20|null|\n",
            "|               Italy|                Rome|2020-03-20 00:00:00|27682|            null|    43.0|     12.0|    47021| 4032|     4440|null|\n",
            "|              Sweden|           Stockholm|2020-03-20 00:00:00|27683|            null|    63.0|     16.0|     1639|   16|       16|null|\n",
            "|               Spain|              Toledo|2020-03-20 00:00:00|27684|            null|    40.0|     -4.0|    20410| 1043|     1588|null|\n",
            "|           Australia|     South Australia|2020-03-20 00:00:00|27685| South Australia|-34.9285| 138.6007|       50|    0|        3|null|\n",
            "+--------------------+--------------------+-------------------+-----+----------------+--------+---------+---------+-----+---------+----+\n",
            "only showing top 20 rows\n",
            "\n"
          ],
          "name": "stdout"
        }
      ]
    },
    {
      "cell_type": "code",
      "metadata": {
        "id": "1tTOmUNNbzsF",
        "colab_type": "code",
        "colab": {
          "base_uri": "https://localhost:8080/",
          "height": 479
        },
        "outputId": "e40bf413-733f-4948-b75d-ba2077df3716"
      },
      "source": [
        "# Number of cases in country with respect to date\n",
        "corona_df.groupBy(\"country\").pivot(\"Date\").agg(F.sum(\"Confirmed\")).show()"
      ],
      "execution_count": 122,
      "outputs": [
        {
          "output_type": "stream",
          "text": [
            "+-----------+-------------------+-------------------+-------------------+-------------------+-------------------+-------------------+-------------------+-------------------+-------------------+-------------------+-------------------+-------------------+-------------------+-------------------+-------------------+-------------------+-------------------+-------------------+-------------------+-------------------+-------------------+-------------------+-------------------+-------------------+-------------------+-------------------+-------------------+-------------------+-------------------+-------------------+-------------------+-------------------+-------------------+-------------------+-------------------+-------------------+-------------------+-------------------+-------------------+-------------------+-------------------+-------------------+-------------------+-------------------+-------------------+-------------------+-------------------+-------------------+-------------------+-------------------+-------------------+-------------------+-------------------+-------------------+-------------------+-------------------+-------------------+-------------------+-------------------+\n",
            "|    country|2020-01-22 00:00:00|2020-01-23 00:00:00|2020-01-24 00:00:00|2020-01-25 00:00:00|2020-01-26 00:00:00|2020-01-27 00:00:00|2020-01-28 00:00:00|2020-01-29 00:00:00|2020-01-30 00:00:00|2020-01-31 00:00:00|2020-02-01 00:00:00|2020-02-02 00:00:00|2020-02-03 00:00:00|2020-02-04 00:00:00|2020-02-05 00:00:00|2020-02-06 00:00:00|2020-02-07 00:00:00|2020-02-08 00:00:00|2020-02-09 00:00:00|2020-02-10 00:00:00|2020-02-11 00:00:00|2020-02-12 00:00:00|2020-02-13 00:00:00|2020-02-14 00:00:00|2020-02-15 00:00:00|2020-02-16 00:00:00|2020-02-17 00:00:00|2020-02-18 00:00:00|2020-02-19 00:00:00|2020-02-20 00:00:00|2020-02-21 00:00:00|2020-02-22 00:00:00|2020-02-23 00:00:00|2020-02-24 00:00:00|2020-02-25 00:00:00|2020-02-26 00:00:00|2020-02-27 00:00:00|2020-02-28 00:00:00|2020-02-29 00:00:00|2020-03-01 00:00:00|2020-03-02 00:00:00|2020-03-03 00:00:00|2020-03-04 00:00:00|2020-03-05 00:00:00|2020-03-06 00:00:00|2020-03-07 00:00:00|2020-03-08 00:00:00|2020-03-09 00:00:00|2020-03-10 00:00:00|2020-03-11 00:00:00|2020-03-12 00:00:00|2020-03-13 00:00:00|2020-03-14 00:00:00|2020-03-15 00:00:00|2020-03-16 00:00:00|2020-03-17 00:00:00|2020-03-18 00:00:00|2020-03-19 00:00:00|2020-03-20 00:00:00|\n",
            "+-----------+-------------------+-------------------+-------------------+-------------------+-------------------+-------------------+-------------------+-------------------+-------------------+-------------------+-------------------+-------------------+-------------------+-------------------+-------------------+-------------------+-------------------+-------------------+-------------------+-------------------+-------------------+-------------------+-------------------+-------------------+-------------------+-------------------+-------------------+-------------------+-------------------+-------------------+-------------------+-------------------+-------------------+-------------------+-------------------+-------------------+-------------------+-------------------+-------------------+-------------------+-------------------+-------------------+-------------------+-------------------+-------------------+-------------------+-------------------+-------------------+-------------------+-------------------+-------------------+-------------------+-------------------+-------------------+-------------------+-------------------+-------------------+-------------------+-------------------+\n",
            "|       Chad|                  0|                  0|                  0|                  0|                  0|                  0|                  0|                  0|                  0|                  0|                  0|                  0|                  0|                  0|                  0|                  0|                  0|                  0|                  0|                  0|                  0|                  0|                  0|                  0|                  0|                  0|                  0|                  0|                  0|                  0|                  0|                  0|                  0|                  0|                  0|                  0|                  0|                  0|                  0|                  0|                  0|                  0|                  0|                  0|                  0|                  0|                  0|                  0|                  0|                  0|                  0|                  0|                  0|                  0|                  0|                  0|                  0|                  1|                  1|\n",
            "|     Russia|                  0|                  0|                  0|                  0|                  0|                  0|                  0|                  0|                  0|                  2|                  2|                  2|                  2|                  2|                  2|                  2|                  2|                  2|                  2|                  2|                  2|                  2|                  2|                  2|                  2|                  2|                  2|                  2|                  2|                  2|                  2|                  2|                  2|                  2|                  2|                  2|                  2|                  2|                  2|                  2|                  3|                  3|                  3|                  4|                 13|                 13|                 17|                 17|                 20|                 20|                 28|                 45|                 59|                 63|                 90|                114|                147|                199|                253|\n",
            "|   Paraguay|                  0|                  0|                  0|                  0|                  0|                  0|                  0|                  0|                  0|                  0|                  0|                  0|                  0|                  0|                  0|                  0|                  0|                  0|                  0|                  0|                  0|                  0|                  0|                  0|                  0|                  0|                  0|                  0|                  0|                  0|                  0|                  0|                  0|                  0|                  0|                  0|                  0|                  0|                  0|                  0|                  0|                  0|                  0|                  0|                  0|                  0|                  1|                  1|                  1|                  5|                  5|                  6|                  6|                  6|                  8|                  9|                 11|                 11|                 13|\n",
            "|    Senegal|                  0|                  0|                  0|                  0|                  0|                  0|                  0|                  0|                  0|                  0|                  0|                  0|                  0|                  0|                  0|                  0|                  0|                  0|                  0|                  0|                  0|                  0|                  0|                  0|                  0|                  0|                  0|                  0|                  0|                  0|                  0|                  0|                  0|                  0|                  0|                  0|                  0|                  0|                  0|                  0|                  1|                  2|                  4|                  4|                  4|                  4|                  4|                  4|                  4|                  4|                  4|                 10|                 10|                 24|                 24|                 26|                 31|                 31|                 38|\n",
            "|     Sweden|                  0|                  0|                  0|                  0|                  0|                  0|                  0|                  0|                  0|                  1|                  1|                  1|                  1|                  1|                  1|                  1|                  1|                  1|                  1|                  1|                  1|                  1|                  1|                  1|                  1|                  1|                  1|                  1|                  1|                  1|                  1|                  1|                  1|                  1|                  1|                  2|                  7|                  7|                 12|                 14|                 15|                 21|                 35|                 94|                101|                161|                203|                248|                355|                500|                599|                814|                961|               1022|               1103|               1190|               1279|               1439|               1639|\n",
            "| Cabo Verde|                  0|                  0|                  0|                  0|                  0|                  0|                  0|                  0|                  0|                  0|                  0|                  0|                  0|                  0|                  0|                  0|                  0|                  0|                  0|                  0|                  0|                  0|                  0|                  0|                  0|                  0|                  0|                  0|                  0|                  0|                  0|                  0|                  0|                  0|                  0|                  0|                  0|                  0|                  0|                  0|                  0|                  0|                  0|                  0|                  0|                  0|                  0|                  0|                  0|                  0|                  0|                  0|                  0|                  0|                  0|                  0|                  0|                  0|                  1|\n",
            "|     Guyana|                  0|                  0|                  0|                  0|                  0|                  0|                  0|                  0|                  0|                  0|                  0|                  0|                  0|                  0|                  0|                  0|                  0|                  0|                  0|                  0|                  0|                  0|                  0|                  0|                  0|                  0|                  0|                  0|                  0|                  0|                  0|                  0|                  0|                  0|                  0|                  0|                  0|                  0|                  0|                  0|                  0|                  0|                  0|                  0|                  0|                  0|                  0|                  0|                  0|                  0|                  1|                  1|                  1|                  4|                  4|                  7|                  7|                  7|                  7|\n",
            "|Philippines|                  0|                  0|                  0|                  0|                  0|                  0|                  0|                  0|                  1|                  1|                  1|                  2|                  2|                  2|                  2|                  2|                  3|                  3|                  3|                  3|                  3|                  3|                  3|                  3|                  3|                  3|                  3|                  3|                  3|                  3|                  3|                  3|                  3|                  3|                  3|                  3|                  3|                  3|                  3|                  3|                  3|                  3|                  3|                  3|                  5|                  6|                 10|                 20|                 33|                 49|                 52|                 64|                111|                140|                142|                187|                202|                217|                230|\n",
            "|   Djibouti|                  0|                  0|                  0|                  0|                  0|                  0|                  0|                  0|                  0|                  0|                  0|                  0|                  0|                  0|                  0|                  0|                  0|                  0|                  0|                  0|                  0|                  0|                  0|                  0|                  0|                  0|                  0|                  0|                  0|                  0|                  0|                  0|                  0|                  0|                  0|                  0|                  0|                  0|                  0|                  0|                  0|                  0|                  0|                  0|                  0|                  0|                  0|                  0|                  0|                  0|                  0|                  0|                  0|                  0|                  0|                  0|                  1|                  1|                  1|\n",
            "|   Malaysia|                  0|                  0|                  0|                  3|                  4|                  4|                  4|                  7|                  8|                  8|                  8|                  8|                  8|                 10|                 12|                 12|                 12|                 16|                 16|                 18|                 18|                 18|                 19|                 19|                 22|                 22|                 22|                 22|                 22|                 22|                 22|                 22|                 22|                 22|                 22|                 22|                 23|                 23|                 25|                 29|                 29|                 36|                 50|                 50|                 83|                 93|                 99|                117|                129|                149|                149|                197|                238|                428|                566|                673|                790|                900|               1030|\n",
            "|  Singapore|                  0|                  1|                  3|                  3|                  4|                  5|                  7|                  7|                 10|                 13|                 16|                 18|                 18|                 24|                 28|                 28|                 30|                 33|                 40|                 45|                 47|                 50|                 58|                 67|                 72|                 75|                 77|                 81|                 84|                 84|                 85|                 85|                 89|                 89|                 91|                 93|                 93|                 93|                102|                106|                108|                110|                110|                117|                130|                138|                150|                150|                160|                178|                178|                200|                212|                226|                243|                266|                313|                345|                385|\n",
            "|       Fiji|                  0|                  0|                  0|                  0|                  0|                  0|                  0|                  0|                  0|                  0|                  0|                  0|                  0|                  0|                  0|                  0|                  0|                  0|                  0|                  0|                  0|                  0|                  0|                  0|                  0|                  0|                  0|                  0|                  0|                  0|                  0|                  0|                  0|                  0|                  0|                  0|                  0|                  0|                  0|                  0|                  0|                  0|                  0|                  0|                  0|                  0|                  0|                  0|                  0|                  0|                  0|                  0|                  0|                  0|                  0|                  0|                  0|                  1|                  1|\n",
            "|     Turkey|                  0|                  0|                  0|                  0|                  0|                  0|                  0|                  0|                  0|                  0|                  0|                  0|                  0|                  0|                  0|                  0|                  0|                  0|                  0|                  0|                  0|                  0|                  0|                  0|                  0|                  0|                  0|                  0|                  0|                  0|                  0|                  0|                  0|                  0|                  0|                  0|                  0|                  0|                  0|                  0|                  0|                  0|                  0|                  0|                  0|                  0|                  0|                  0|                  0|                  1|                  1|                  5|                  5|                  6|                 18|                 47|                 98|                192|                359|\n",
            "|       Iraq|                  0|                  0|                  0|                  0|                  0|                  0|                  0|                  0|                  0|                  0|                  0|                  0|                  0|                  0|                  0|                  0|                  0|                  0|                  0|                  0|                  0|                  0|                  0|                  0|                  0|                  0|                  0|                  0|                  0|                  0|                  0|                  0|                  0|                  1|                  1|                  5|                  7|                  7|                 13|                 19|                 26|                 32|                 35|                 35|                 40|                 54|                 60|                 60|                 71|                 71|                 71|                101|                110|                116|                124|                154|                164|                192|                208|\n",
            "|    Germany|                  0|                  0|                  0|                  0|                  0|                  1|                  4|                  4|                  4|                  5|                  8|                 10|                 12|                 12|                 12|                 12|                 13|                 13|                 14|                 14|                 16|                 16|                 16|                 16|                 16|                 16|                 16|                 16|                 16|                 16|                 16|                 16|                 16|                 16|                 17|                 27|                 46|                 48|                 79|                130|                159|                196|                262|                482|                670|                799|               1040|               1176|               1457|               1908|               2078|               3675|               4585|               5795|               7272|               9257|              12327|              15320|              19848|\n",
            "|   Cambodia|                  0|                  0|                  0|                  0|                  0|                  1|                  1|                  1|                  1|                  1|                  1|                  1|                  1|                  1|                  1|                  1|                  1|                  1|                  1|                  1|                  1|                  1|                  1|                  1|                  1|                  1|                  1|                  1|                  1|                  1|                  1|                  1|                  1|                  1|                  1|                  1|                  1|                  1|                  1|                  1|                  1|                  1|                  1|                  1|                  1|                  1|                  2|                  2|                  2|                  3|                  3|                  5|                  7|                  7|                  7|                 33|                 35|                 37|                 51|\n",
            "|Afghanistan|                  0|                  0|                  0|                  0|                  0|                  0|                  0|                  0|                  0|                  0|                  0|                  0|                  0|                  0|                  0|                  0|                  0|                  0|                  0|                  0|                  0|                  0|                  0|                  0|                  0|                  0|                  0|                  0|                  0|                  0|                  0|                  0|                  0|                  1|                  1|                  1|                  1|                  1|                  1|                  1|                  1|                  1|                  1|                  1|                  1|                  1|                  4|                  4|                  5|                  7|                  7|                  7|                 11|                 16|                 21|                 22|                 22|                 22|                 24|\n",
            "|     Jordan|                  0|                  0|                  0|                  0|                  0|                  0|                  0|                  0|                  0|                  0|                  0|                  0|                  0|                  0|                  0|                  0|                  0|                  0|                  0|                  0|                  0|                  0|                  0|                  0|                  0|                  0|                  0|                  0|                  0|                  0|                  0|                  0|                  0|                  0|                  0|                  0|                  0|                  0|                  0|                  0|                  0|                  1|                  1|                  1|                  1|                  1|                  1|                  1|                  1|                  1|                  1|                  1|                  1|                  8|                 17|                 34|                 52|                 69|                 85|\n",
            "|     Rwanda|                  0|                  0|                  0|                  0|                  0|                  0|                  0|                  0|                  0|                  0|                  0|                  0|                  0|                  0|                  0|                  0|                  0|                  0|                  0|                  0|                  0|                  0|                  0|                  0|                  0|                  0|                  0|                  0|                  0|                  0|                  0|                  0|                  0|                  0|                  0|                  0|                  0|                  0|                  0|                  0|                  0|                  0|                  0|                  0|                  0|                  0|                  0|                  0|                  0|                  0|                  0|                  0|                  1|                  1|                  5|                  7|                  8|                  8|                 17|\n",
            "|   Maldives|                  0|                  0|                  0|                  0|                  0|                  0|                  0|                  0|                  0|                  0|                  0|                  0|                  0|                  0|                  0|                  0|                  0|                  0|                  0|                  0|                  0|                  0|                  0|                  0|                  0|                  0|                  0|                  0|                  0|                  0|                  0|                  0|                  0|                  0|                  0|                  0|                  0|                  0|                  0|                  0|                  0|                  0|                  0|                  0|                  0|                  0|                  4|                  4|                  6|                  8|                  8|                  9|                 10|                 13|                 13|                 13|                 13|                 13|                 13|\n",
            "+-----------+-------------------+-------------------+-------------------+-------------------+-------------------+-------------------+-------------------+-------------------+-------------------+-------------------+-------------------+-------------------+-------------------+-------------------+-------------------+-------------------+-------------------+-------------------+-------------------+-------------------+-------------------+-------------------+-------------------+-------------------+-------------------+-------------------+-------------------+-------------------+-------------------+-------------------+-------------------+-------------------+-------------------+-------------------+-------------------+-------------------+-------------------+-------------------+-------------------+-------------------+-------------------+-------------------+-------------------+-------------------+-------------------+-------------------+-------------------+-------------------+-------------------+-------------------+-------------------+-------------------+-------------------+-------------------+-------------------+-------------------+-------------------+-------------------+-------------------+\n",
            "only showing top 20 rows\n",
            "\n"
          ],
          "name": "stdout"
        }
      ]
    },
    {
      "cell_type": "code",
      "metadata": {
        "id": "1frbTUDTbz3S",
        "colab_type": "code",
        "colab": {
          "base_uri": "https://localhost:8080/",
          "height": 479
        },
        "outputId": "04e3e4b4-950d-4804-e393-379b52ef19c9"
      },
      "source": [
        "# Crosstab is geerally used to see relation between categorical variables\n",
        "# How occurance of one variable is affected by another\n",
        "# here the values will be 1 or 0 based on record of that state present on that \n",
        "# date or not\n",
        "corona_df.filter(\"country='US'\").crosstab(\"State\", \"Date\").show()"
      ],
      "execution_count": 123,
      "outputs": [
        {
          "output_type": "stream",
          "text": [
            "+-------------------+---------------------+---------------------+---------------------+---------------------+---------------------+---------------------+---------------------+---------------------+---------------------+---------------------+---------------------+---------------------+---------------------+---------------------+---------------------+---------------------+---------------------+---------------------+---------------------+---------------------+---------------------+---------------------+---------------------+---------------------+---------------------+---------------------+---------------------+---------------------+---------------------+---------------------+---------------------+---------------------+---------------------+---------------------+---------------------+---------------------+---------------------+---------------------+---------------------+---------------------+---------------------+---------------------+---------------------+---------------------+---------------------+---------------------+---------------------+---------------------+---------------------+---------------------+---------------------+---------------------+---------------------+---------------------+---------------------+---------------------+---------------------+---------------------+---------------------+\n",
            "|         State_Date|2020-01-22 00:00:00.0|2020-01-23 00:00:00.0|2020-01-24 00:00:00.0|2020-01-25 00:00:00.0|2020-01-26 00:00:00.0|2020-01-27 00:00:00.0|2020-01-28 00:00:00.0|2020-01-29 00:00:00.0|2020-01-30 00:00:00.0|2020-01-31 00:00:00.0|2020-02-01 00:00:00.0|2020-02-02 00:00:00.0|2020-02-03 00:00:00.0|2020-02-04 00:00:00.0|2020-02-05 00:00:00.0|2020-02-06 00:00:00.0|2020-02-07 00:00:00.0|2020-02-08 00:00:00.0|2020-02-09 00:00:00.0|2020-02-10 00:00:00.0|2020-02-11 00:00:00.0|2020-02-12 00:00:00.0|2020-02-13 00:00:00.0|2020-02-14 00:00:00.0|2020-02-15 00:00:00.0|2020-02-16 00:00:00.0|2020-02-17 00:00:00.0|2020-02-18 00:00:00.0|2020-02-19 00:00:00.0|2020-02-20 00:00:00.0|2020-02-21 00:00:00.0|2020-02-22 00:00:00.0|2020-02-23 00:00:00.0|2020-02-24 00:00:00.0|2020-02-25 00:00:00.0|2020-02-26 00:00:00.0|2020-02-27 00:00:00.0|2020-02-28 00:00:00.0|2020-02-29 00:00:00.0|2020-03-01 00:00:00.0|2020-03-02 00:00:00.0|2020-03-03 00:00:00.0|2020-03-04 00:00:00.0|2020-03-05 00:00:00.0|2020-03-06 00:00:00.0|2020-03-07 00:00:00.0|2020-03-08 00:00:00.0|2020-03-09 00:00:00.0|2020-03-10 00:00:00.0|2020-03-11 00:00:00.0|2020-03-12 00:00:00.0|2020-03-13 00:00:00.0|2020-03-14 00:00:00.0|2020-03-15 00:00:00.0|2020-03-16 00:00:00.0|2020-03-17 00:00:00.0|2020-03-18 00:00:00.0|2020-03-19 00:00:00.0|2020-03-20 00:00:00.0|\n",
            "+-------------------+---------------------+---------------------+---------------------+---------------------+---------------------+---------------------+---------------------+---------------------+---------------------+---------------------+---------------------+---------------------+---------------------+---------------------+---------------------+---------------------+---------------------+---------------------+---------------------+---------------------+---------------------+---------------------+---------------------+---------------------+---------------------+---------------------+---------------------+---------------------+---------------------+---------------------+---------------------+---------------------+---------------------+---------------------+---------------------+---------------------+---------------------+---------------------+---------------------+---------------------+---------------------+---------------------+---------------------+---------------------+---------------------+---------------------+---------------------+---------------------+---------------------+---------------------+---------------------+---------------------+---------------------+---------------------+---------------------+---------------------+---------------------+---------------------+---------------------+\n",
            "|         New Mexico|                    1|                    1|                    1|                    1|                    1|                    1|                    1|                    1|                    1|                    1|                    1|                    1|                    1|                    1|                    1|                    1|                    1|                    1|                    1|                    1|                    1|                    1|                    1|                    1|                    1|                    1|                    1|                    1|                    1|                    1|                    1|                    1|                    1|                    1|                    1|                    1|                    1|                    1|                    1|                    1|                    1|                    1|                    1|                    1|                    1|                    1|                    1|                    1|                    1|                    1|                    1|                    1|                    1|                    1|                    1|                    1|                    1|                    1|                    1|\n",
            "|   Clark County, NV|                    1|                    1|                    1|                    1|                    1|                    1|                    1|                    1|                    1|                    1|                    1|                    1|                    1|                    1|                    1|                    1|                    1|                    1|                    1|                    1|                    1|                    1|                    1|                    1|                    1|                    1|                    1|                    1|                    1|                    1|                    1|                    1|                    1|                    1|                    1|                    1|                    1|                    1|                    1|                    1|                    1|                    1|                    1|                    1|                    1|                    1|                    1|                    1|                    1|                    1|                    1|                    1|                    1|                    1|                    1|                    1|                    1|                    1|                    1|\n",
            "|         Summit, UT|                    1|                    1|                    1|                    1|                    1|                    1|                    1|                    1|                    1|                    1|                    1|                    1|                    1|                    1|                    1|                    1|                    1|                    1|                    1|                    1|                    1|                    1|                    1|                    1|                    1|                    1|                    1|                    1|                    1|                    1|                    1|                    1|                    1|                    1|                    1|                    1|                    1|                    1|                    1|                    1|                    1|                    1|                    1|                    1|                    1|                    1|                    1|                    1|                    1|                    1|                    1|                    1|                    1|                    1|                    1|                    1|                    1|                    1|                    1|\n",
            "|     Montgomery, TX|                    1|                    1|                    1|                    1|                    1|                    1|                    1|                    1|                    1|                    1|                    1|                    1|                    1|                    1|                    1|                    1|                    1|                    1|                    1|                    1|                    1|                    1|                    1|                    1|                    1|                    1|                    1|                    1|                    1|                    1|                    1|                    1|                    1|                    1|                    1|                    1|                    1|                    1|                    1|                    1|                    1|                    1|                    1|                    1|                    1|                    1|                    1|                    1|                    1|                    1|                    1|                    1|                    1|                    1|                    1|                    1|                    1|                    1|                    1|\n",
            "|           Dane, WI|                    1|                    1|                    1|                    1|                    1|                    1|                    1|                    1|                    1|                    1|                    1|                    1|                    1|                    1|                    1|                    1|                    1|                    1|                    1|                    1|                    1|                    1|                    1|                    1|                    1|                    1|                    1|                    1|                    1|                    1|                    1|                    1|                    1|                    1|                    1|                    1|                    1|                    1|                    1|                    1|                    1|                    1|                    1|                    1|                    1|                    1|                    1|                    1|                    1|                    1|                    1|                    1|                    1|                    1|                    1|                    1|                    1|                    1|                    1|\n",
            "|Prince George's, MD|                    1|                    1|                    1|                    1|                    1|                    1|                    1|                    1|                    1|                    1|                    1|                    1|                    1|                    1|                    1|                    1|                    1|                    1|                    1|                    1|                    1|                    1|                    1|                    1|                    1|                    1|                    1|                    1|                    1|                    1|                    1|                    1|                    1|                    1|                    1|                    1|                    1|                    1|                    1|                    1|                    1|                    1|                    1|                    1|                    1|                    1|                    1|                    1|                    1|                    1|                    1|                    1|                    1|                    1|                    1|                    1|                    1|                    1|                    1|\n",
            "|Maricopa County, AZ|                    1|                    1|                    1|                    1|                    1|                    1|                    1|                    1|                    1|                    1|                    1|                    1|                    1|                    1|                    1|                    1|                    1|                    1|                    1|                    1|                    1|                    1|                    1|                    1|                    1|                    1|                    1|                    1|                    1|                    1|                    1|                    1|                    1|                    1|                    1|                    1|                    1|                    1|                    1|                    1|                    1|                    1|                    1|                    1|                    1|                    1|                    1|                    1|                    1|                    1|                    1|                    1|                    1|                    1|                    1|                    1|                    1|                    1|                    1|\n",
            "|  Harris County, TX|                    1|                    1|                    1|                    1|                    1|                    1|                    1|                    1|                    1|                    1|                    1|                    1|                    1|                    1|                    1|                    1|                    1|                    1|                    1|                    1|                    1|                    1|                    1|                    1|                    1|                    1|                    1|                    1|                    1|                    1|                    1|                    1|                    1|                    1|                    1|                    1|                    1|                    1|                    1|                    1|                    1|                    1|                    1|                    1|                    1|                    1|                    1|                    1|                    1|                    1|                    1|                    1|                    1|                    1|                    1|                    1|                    1|                    1|                    1|\n",
            "|     New Castle, DE|                    1|                    1|                    1|                    1|                    1|                    1|                    1|                    1|                    1|                    1|                    1|                    1|                    1|                    1|                    1|                    1|                    1|                    1|                    1|                    1|                    1|                    1|                    1|                    1|                    1|                    1|                    1|                    1|                    1|                    1|                    1|                    1|                    1|                    1|                    1|                    1|                    1|                    1|                    1|                    1|                    1|                    1|                    1|                    1|                    1|                    1|                    1|                    1|                    1|                    1|                    1|                    1|                    1|                    1|                    1|                    1|                    1|                    1|                    1|\n",
            "|      Deschutes, OR|                    1|                    1|                    1|                    1|                    1|                    1|                    1|                    1|                    1|                    1|                    1|                    1|                    1|                    1|                    1|                    1|                    1|                    1|                    1|                    1|                    1|                    1|                    1|                    1|                    1|                    1|                    1|                    1|                    1|                    1|                    1|                    1|                    1|                    1|                    1|                    1|                    1|                    1|                    1|                    1|                    1|                    1|                    1|                    1|                    1|                    1|                    1|                    1|                    1|                    1|                    1|                    1|                    1|                    1|                    1|                    1|                    1|                    1|                    1|\n",
            "|        Connecticut|                    1|                    1|                    1|                    1|                    1|                    1|                    1|                    1|                    1|                    1|                    1|                    1|                    1|                    1|                    1|                    1|                    1|                    1|                    1|                    1|                    1|                    1|                    1|                    1|                    1|                    1|                    1|                    1|                    1|                    1|                    1|                    1|                    1|                    1|                    1|                    1|                    1|                    1|                    1|                    1|                    1|                    1|                    1|                    1|                    1|                    1|                    1|                    1|                    1|                    1|                    1|                    1|                    1|                    1|                    1|                    1|                    1|                    1|                    1|\n",
            "|          Gregg, TX|                    1|                    1|                    1|                    1|                    1|                    1|                    1|                    1|                    1|                    1|                    1|                    1|                    1|                    1|                    1|                    1|                    1|                    1|                    1|                    1|                    1|                    1|                    1|                    1|                    1|                    1|                    1|                    1|                    1|                    1|                    1|                    1|                    1|                    1|                    1|                    1|                    1|                    1|                    1|                    1|                    1|                    1|                    1|                    1|                    1|                    1|                    1|                    1|                    1|                    1|                    1|                    1|                    1|                    1|                    1|                    1|                    1|                    1|                    1|\n",
            "|    Wake County, NC|                    1|                    1|                    1|                    1|                    1|                    1|                    1|                    1|                    1|                    1|                    1|                    1|                    1|                    1|                    1|                    1|                    1|                    1|                    1|                    1|                    1|                    1|                    1|                    1|                    1|                    1|                    1|                    1|                    1|                    1|                    1|                    1|                    1|                    1|                    1|                    1|                    1|                    1|                    1|                    1|                    1|                    1|                    1|                    1|                    1|                    1|                    1|                    1|                    1|                    1|                    1|                    1|                    1|                    1|                    1|                    1|                    1|                    1|                    1|\n",
            "|          Boone, IN|                    1|                    1|                    1|                    1|                    1|                    1|                    1|                    1|                    1|                    1|                    1|                    1|                    1|                    1|                    1|                    1|                    1|                    1|                    1|                    1|                    1|                    1|                    1|                    1|                    1|                    1|                    1|                    1|                    1|                    1|                    1|                    1|                    1|                    1|                    1|                    1|                    1|                    1|                    1|                    1|                    1|                    1|                    1|                    1|                    1|                    1|                    1|                    1|                    1|                    1|                    1|                    1|                    1|                    1|                    1|                    1|                    1|                    1|                    1|\n",
            "|         Beadle, SD|                    1|                    1|                    1|                    1|                    1|                    1|                    1|                    1|                    1|                    1|                    1|                    1|                    1|                    1|                    1|                    1|                    1|                    1|                    1|                    1|                    1|                    1|                    1|                    1|                    1|                    1|                    1|                    1|                    1|                    1|                    1|                    1|                    1|                    1|                    1|                    1|                    1|                    1|                    1|                    1|                    1|                    1|                    1|                    1|                    1|                    1|                    1|                    1|                    1|                    1|                    1|                    1|                    1|                    1|                    1|                    1|                    1|                    1|                    1|\n",
            "| Johnson County, IA|                    1|                    1|                    1|                    1|                    1|                    1|                    1|                    1|                    1|                    1|                    1|                    1|                    1|                    1|                    1|                    1|                    1|                    1|                    1|                    1|                    1|                    1|                    1|                    1|                    1|                    1|                    1|                    1|                    1|                    1|                    1|                    1|                    1|                    1|                    1|                    1|                    1|                    1|                    1|                    1|                    1|                    1|                    1|                    1|                    1|                    1|                    1|                    1|                    1|                    1|                    1|                    1|                    1|                    1|                    1|                    1|                    1|                    1|                    1|\n",
            "|   Tulsa County, OK|                    1|                    1|                    1|                    1|                    1|                    1|                    1|                    1|                    1|                    1|                    1|                    1|                    1|                    1|                    1|                    1|                    1|                    1|                    1|                    1|                    1|                    1|                    1|                    1|                    1|                    1|                    1|                    1|                    1|                    1|                    1|                    1|                    1|                    1|                    1|                    1|                    1|                    1|                    1|                    1|                    1|                    1|                    1|                    1|                    1|                    1|                    1|                    1|                    1|                    1|                    1|                    1|                    1|                    1|                    1|                    1|                    1|                    1|                    1|\n",
            "|         California|                    1|                    1|                    1|                    1|                    1|                    1|                    1|                    1|                    1|                    1|                    1|                    1|                    1|                    1|                    1|                    1|                    1|                    1|                    1|                    1|                    1|                    1|                    1|                    1|                    1|                    1|                    1|                    1|                    1|                    1|                    1|                    1|                    1|                    1|                    1|                    1|                    1|                    1|                    1|                    1|                    1|                    1|                    1|                    1|                    1|                    1|                    1|                    1|                    1|                    1|                    1|                    1|                    1|                    1|                    1|                    1|                    1|                    1|                    1|\n",
            "|  Collin County, TX|                    1|                    1|                    1|                    1|                    1|                    1|                    1|                    1|                    1|                    1|                    1|                    1|                    1|                    1|                    1|                    1|                    1|                    1|                    1|                    1|                    1|                    1|                    1|                    1|                    1|                    1|                    1|                    1|                    1|                    1|                    1|                    1|                    1|                    1|                    1|                    1|                    1|                    1|                    1|                    1|                    1|                    1|                    1|                    1|                    1|                    1|                    1|                    1|                    1|                    1|                    1|                    1|                    1|                    1|                    1|                    1|                    1|                    1|                    1|\n",
            "|       Charlton, GA|                    1|                    1|                    1|                    1|                    1|                    1|                    1|                    1|                    1|                    1|                    1|                    1|                    1|                    1|                    1|                    1|                    1|                    1|                    1|                    1|                    1|                    1|                    1|                    1|                    1|                    1|                    1|                    1|                    1|                    1|                    1|                    1|                    1|                    1|                    1|                    1|                    1|                    1|                    1|                    1|                    1|                    1|                    1|                    1|                    1|                    1|                    1|                    1|                    1|                    1|                    1|                    1|                    1|                    1|                    1|                    1|                    1|                    1|                    1|\n",
            "+-------------------+---------------------+---------------------+---------------------+---------------------+---------------------+---------------------+---------------------+---------------------+---------------------+---------------------+---------------------+---------------------+---------------------+---------------------+---------------------+---------------------+---------------------+---------------------+---------------------+---------------------+---------------------+---------------------+---------------------+---------------------+---------------------+---------------------+---------------------+---------------------+---------------------+---------------------+---------------------+---------------------+---------------------+---------------------+---------------------+---------------------+---------------------+---------------------+---------------------+---------------------+---------------------+---------------------+---------------------+---------------------+---------------------+---------------------+---------------------+---------------------+---------------------+---------------------+---------------------+---------------------+---------------------+---------------------+---------------------+---------------------+---------------------+---------------------+---------------------+\n",
            "only showing top 20 rows\n",
            "\n"
          ],
          "name": "stdout"
        }
      ]
    },
    {
      "cell_type": "code",
      "metadata": {
        "id": "Nq3UxFsfb0CS",
        "colab_type": "code",
        "colab": {
          "base_uri": "https://localhost:8080/",
          "height": 459
        },
        "outputId": "c3577cb3-85c9-4046-cdd2-274e405d1096"
      },
      "source": [
        "corona_max_df.groupBy(\"Country\").agg({\"Confirmed\":\"sum\"}).show()"
      ],
      "execution_count": 126,
      "outputs": [
        {
          "output_type": "stream",
          "text": [
            "+-----------+--------------+\n",
            "|    Country|sum(Confirmed)|\n",
            "+-----------+--------------+\n",
            "|       Chad|             1|\n",
            "|   Paraguay|            13|\n",
            "|     Russia|           253|\n",
            "|    Senegal|            38|\n",
            "|     Sweden|          1639|\n",
            "| Cabo Verde|             1|\n",
            "|     Guyana|             7|\n",
            "|Philippines|           230|\n",
            "|   Djibouti|             1|\n",
            "|  Singapore|           385|\n",
            "|   Malaysia|          1030|\n",
            "|       Fiji|             1|\n",
            "|     Turkey|           359|\n",
            "|       Iraq|           208|\n",
            "|    Germany|         19848|\n",
            "|   Cambodia|            51|\n",
            "|Afghanistan|            24|\n",
            "|     Jordan|            85|\n",
            "|   Maldives|            13|\n",
            "|     Rwanda|            17|\n",
            "+-----------+--------------+\n",
            "only showing top 20 rows\n",
            "\n"
          ],
          "name": "stdout"
        }
      ]
    },
    {
      "cell_type": "code",
      "metadata": {
        "id": "sPZ2Grlz6s-X",
        "colab_type": "code",
        "colab": {
          "base_uri": "https://localhost:8080/",
          "height": 459
        },
        "outputId": "6ab970e2-7cf1-4f24-b526-d340deef5a6a"
      },
      "source": [
        "corona_max_df.groupby(\"Country\").agg({\"Confirmed\":\"sum\", \"Recovered\":\"sum\", \"death\":\"sum\"}).orderBy(\"sum(Confirmed)\", ascending=False).show()"
      ],
      "execution_count": 128,
      "outputs": [
        {
          "output_type": "stream",
          "text": [
            "+--------------+--------------+----------+--------------+\n",
            "|       Country|sum(Recovered)|sum(death)|sum(Confirmed)|\n",
            "+--------------+--------------+----------+--------------+\n",
            "|         China|         71266|      3253|         81250|\n",
            "|         Italy|          4440|      4032|         47021|\n",
            "|         Spain|          1588|      1043|         20410|\n",
            "|       Germany|           180|        67|         19848|\n",
            "|          Iran|          6745|      1433|         19644|\n",
            "|            US|             0|       244|         19100|\n",
            "|        France|            12|       450|         12726|\n",
            "|  Korea, South|          1540|        94|          8652|\n",
            "|   Switzerland|            15|        54|          5294|\n",
            "|United Kingdom|            67|       178|          4014|\n",
            "|   Netherlands|             2|       107|          3003|\n",
            "|       Austria|             9|         6|          2388|\n",
            "|       Belgium|             1|        37|          2257|\n",
            "|        Norway|             1|         7|          1914|\n",
            "|        Sweden|            16|        16|          1639|\n",
            "|       Denmark|             1|         9|          1337|\n",
            "|      Malaysia|            87|         3|          1030|\n",
            "|      Portugal|             5|         6|          1020|\n",
            "|         Japan|           191|        33|           963|\n",
            "|        Canada|             9|        12|           943|\n",
            "+--------------+--------------+----------+--------------+\n",
            "only showing top 20 rows\n",
            "\n"
          ],
          "name": "stdout"
        }
      ]
    },
    {
      "cell_type": "code",
      "metadata": {
        "id": "w2wwT5-Gb0Nc",
        "colab_type": "code",
        "colab": {
          "base_uri": "https://localhost:8080/",
          "height": 459
        },
        "outputId": "ef8061b8-d33d-44b4-fe95-ca35fa149131"
      },
      "source": [
        "corona_df.filter(\"country='Italy'\").sort(\"Date\", ascending=False).show()"
      ],
      "execution_count": 130,
      "outputs": [
        {
          "output_type": "stream",
          "text": [
            "+-----+-----+-------+----+----+-------------------+---------+-----+---------+-------------+----+\n",
            "|  _c0|State|Country| Lat|Long|               Date|Confirmed|Death|Recovered|state_cleaned|City|\n",
            "+-----+-----+-------+----+----+-------------------+---------+-----+---------+-------------+----+\n",
            "|27682| null|  Italy|43.0|12.0|2020-03-20 00:00:00|    47021| 4032|     4440|         Rome|null|\n",
            "|27205| null|  Italy|43.0|12.0|2020-03-19 00:00:00|    41035| 3405|     4440|         Rome|null|\n",
            "|26728| null|  Italy|43.0|12.0|2020-03-18 00:00:00|    35713| 2978|     4025|         Rome|null|\n",
            "|26251| null|  Italy|43.0|12.0|2020-03-17 00:00:00|    31506| 2503|     2941|         Rome|null|\n",
            "|25774| null|  Italy|43.0|12.0|2020-03-16 00:00:00|    27980| 2158|     2749|         Rome|null|\n",
            "|25297| null|  Italy|43.0|12.0|2020-03-15 00:00:00|    24747| 1809|     2335|         Rome|null|\n",
            "|24820| null|  Italy|43.0|12.0|2020-03-14 00:00:00|    21157| 1441|     1966|         Rome|null|\n",
            "|24343| null|  Italy|43.0|12.0|2020-03-13 00:00:00|    17660| 1266|     1439|         Rome|null|\n",
            "|23866| null|  Italy|43.0|12.0|2020-03-12 00:00:00|    12462|  827|     1045|         Rome|null|\n",
            "|23389| null|  Italy|43.0|12.0|2020-03-11 00:00:00|    12462|  827|     1045|         Rome|null|\n",
            "|22912| null|  Italy|43.0|12.0|2020-03-10 00:00:00|    10149|  631|      724|         Rome|null|\n",
            "|22435| null|  Italy|43.0|12.0|2020-03-09 00:00:00|     9172|  463|      724|         Rome|null|\n",
            "|21958| null|  Italy|43.0|12.0|2020-03-08 00:00:00|     7375|  366|      622|         Rome|null|\n",
            "|21481| null|  Italy|43.0|12.0|2020-03-07 00:00:00|     5883|  233|      589|         Rome|null|\n",
            "|21004| null|  Italy|43.0|12.0|2020-03-06 00:00:00|     4636|  197|      523|         Rome|null|\n",
            "|20527| null|  Italy|43.0|12.0|2020-03-05 00:00:00|     3858|  148|      414|         Rome|null|\n",
            "|20050| null|  Italy|43.0|12.0|2020-03-04 00:00:00|     3089|  107|      276|         Rome|null|\n",
            "|19573| null|  Italy|43.0|12.0|2020-03-03 00:00:00|     2502|   79|      160|         Rome|null|\n",
            "|19096| null|  Italy|43.0|12.0|2020-03-02 00:00:00|     2036|   52|      149|         Rome|null|\n",
            "|18619| null|  Italy|43.0|12.0|2020-03-01 00:00:00|     1694|   34|       83|         Rome|null|\n",
            "+-----+-----+-------+----+----+-------------------+---------+-----+---------+-------------+----+\n",
            "only showing top 20 rows\n",
            "\n"
          ],
          "name": "stdout"
        }
      ]
    },
    {
      "cell_type": "code",
      "metadata": {
        "id": "3AFvhR-Hb0ZJ",
        "colab_type": "code",
        "colab": {
          "base_uri": "https://localhost:8080/",
          "height": 799
        },
        "outputId": "0dda2181-6a32-4fa0-8e5c-29abdb5f6fc1"
      },
      "source": [
        "# We can add new column in the dataframe with the \"withColumn()\" function.\n",
        "corona_max_df.withColumn(\"Active\", corona_max_df.Confirmed - corona_max_df.Recovered - corona_max_df.Death).sort(\"Active\", ascending=False).show(40)"
      ],
      "execution_count": 153,
      "outputs": [
        {
          "output_type": "stream",
          "text": [
            "+--------------+----------------+-------------------+-----+--------------+--------+-------------------+---------+-----+---------+-------------+------+\n",
            "|       Country|   state_cleaned|               Date|  _c0|         State|     Lat|               Long|Confirmed|Death|Recovered|         City|Active|\n",
            "+--------------+----------------+-------------------+-----+--------------+--------+-------------------+---------+-----+---------+-------------+------+\n",
            "|         Italy|            Rome|2020-03-20 00:00:00|27682|          null|    43.0|               12.0|    47021| 4032|     4440|         null| 38549|\n",
            "|       Germany|          Berlin|2020-03-20 00:00:00|27677|          null|    51.0|                9.0|    19848|   67|      180|         null| 19601|\n",
            "|         Spain|          Toledo|2020-03-20 00:00:00|27684|          null|    40.0|               -4.0|    20410| 1043|     1588|         null| 17779|\n",
            "|        France|          France|2020-03-20 00:00:00|27823|        France| 46.2276|             2.2137|    12612|  450|       12|         null| 12150|\n",
            "|          Iran|          Tehran|2020-03-20 00:00:00|27821|          null|    32.0|               53.0|    19644| 1433|     6745|         null| 11466|\n",
            "|            US|        New York|2020-03-20 00:00:00|27765|      New York| 42.1657|           -74.9481|     8310|   42|        0|     New York|  8268|\n",
            "|  Korea, South|Gyeongsangbuk-do|2020-03-20 00:00:00|27822|          null|    36.0|              128.0|     8652|   94|     1540|         null|  7018|\n",
            "|         China|           Hubei|2020-03-20 00:00:00|27820|         Hubei| 30.9756|           112.2707|    67800| 3133|    58382|         null|  6285|\n",
            "|   Switzerland|            Bern|2020-03-20 00:00:00|27697|          null| 46.8182|             8.2275|     5294|   54|       15|         null|  5225|\n",
            "|United Kingdom|  United Kingdom|2020-03-20 00:00:00|28069|United Kingdom| 55.3781|-3.4360000000000004|     3983|  177|       65|         null|  3741|\n",
            "|   Netherlands|     Netherlands|2020-03-20 00:00:00|28106|   Netherlands| 52.1326|             5.2913|     2994|  106|        2|         null|  2886|\n",
            "|       Austria|          Vienna|2020-03-20 00:00:00|27698|          null| 47.5162|            14.5501|     2388|    6|        9|         null|  2373|\n",
            "|       Belgium|        Brussels|2020-03-20 00:00:00|27686|          null| 50.8333|                4.0|     2257|   37|        1|         null|  2219|\n",
            "|        Norway|             Hol|2020-03-20 00:00:00|27705|          null|  60.472|             8.4689|     1914|    7|        1|         null|  1906|\n",
            "|        Sweden|       Stockholm|2020-03-20 00:00:00|27683|          null|    63.0|               16.0|     1639|   16|       16|         null|  1607|\n",
            "|            US|      Washington|2020-03-20 00:00:00|27764|    Washington| 47.4009|          -121.4905|     1524|   83|        0|   Washington|  1441|\n",
            "|       Denmark|         Denmark|2020-03-20 00:00:00|27836|       Denmark| 56.2639|             9.5018|     1255|    9|        1|         null|  1245|\n",
            "|            US|      California|2020-03-20 00:00:00|27766|    California| 36.1162|          -119.6816|     1177|   23|        0|   California|  1154|\n",
            "|      Portugal|          Lisbon|2020-03-20 00:00:00|27725|          null| 39.3999|            -8.2245|     1020|    6|        5|         null|  1009|\n",
            "|      Malaysia|         Sarawak|2020-03-20 00:00:00|27670|          null|     2.5|              112.5|     1030|    3|       87|         null|   940|\n",
            "|            US|      New Jersey|2020-03-20 00:00:00|27773|    New Jersey| 40.2989|            -74.521|      890|   11|        0|   New Jersey|   879|\n",
            "|       Czechia|         Czechia|2020-03-20 00:00:00|27852|          null| 49.8175| 15.472999999999999|      833|    0|        4|         null|   829|\n",
            "|        Brazil|        Brasília|2020-03-20 00:00:00|27701|          null| -14.235|           -51.9253|      793|   11|        2|         null|   780|\n",
            "|         Japan|         Hiraide|2020-03-20 00:00:00|27667|          null|    36.0|              138.0|      963|   33|      191|         null|   739|\n",
            "|        Israel|       Jerusalem|2020-03-20 00:00:00|27699|          null|    31.0|               35.0|      705|    0|       14|         null|   691|\n",
            "|       Ireland|          Dublin|2020-03-20 00:00:00|27716|          null| 53.1424|            -7.6921|      683|    3|        5|         null|   675|\n",
            "|            US|        Illinois|2020-03-20 00:00:00|27776|      Illinois| 40.3495|           -88.9861|      585|    5|        0|     Illinois|   580|\n",
            "|            US|         Florida|2020-03-20 00:00:00|27772|       Florida| 27.7663|           -81.6868|      563|   10|        0|      Florida|   553|\n",
            "|            US|        Michigan|2020-03-20 00:00:00|27812|      Michigan| 43.3266|           -84.5361|      552|    3|        0|     Michigan|   549|\n",
            "|            US|       Louisiana|2020-03-20 00:00:00|27804|     Louisiana| 31.1695|           -91.8678|      538|   14|        0|    Louisiana|   524|\n",
            "|      Pakistan|     Balochistan|2020-03-20 00:00:00|27700|          null| 30.3753|            69.3451|      501|    3|       13|         null|   485|\n",
            "|    Luxembourg|      Luxembourg|2020-03-20 00:00:00|27717|          null| 49.8153|             6.1296|      484|    4|        0|         null|   480|\n",
            "|        Greece|         Fournas|2020-03-20 00:00:00|27703|          null| 39.0742|            21.8243|      495|    6|       19|         null|   470|\n",
            "|         Qatar|            Doha|2020-03-20 00:00:00|27719|          null| 25.3548|            51.1839|      470|    0|       10|         null|   460|\n",
            "|       Finland|        Helsinki|2020-03-20 00:00:00|27678|          null|    64.0|               26.0|      450|    0|       10|         null|   440|\n",
            "|         Chile|           Maule|2020-03-20 00:00:00|27733|          null|-35.6751|            -71.543|      434|    0|        6|         null|   428|\n",
            "|        Poland|          Warsaw|2020-03-20 00:00:00|27739|          null| 51.9194|            19.1451|      425|    5|        1|         null|   419|\n",
            "|            US|   Massachusetts|2020-03-20 00:00:00|27767| Massachusetts| 42.2302|           -71.5301|      413|    1|        0|Massachusetts|   412|\n",
            "|            US|         Georgia|2020-03-20 00:00:00|27770|       Georgia| 33.0406|           -83.6431|      420|   13|        0|      Georgia|   407|\n",
            "|       Iceland|    Skagafjörður|2020-03-20 00:00:00|27710|          null| 64.9631|           -19.0208|      409|    0|        5|         null|   404|\n",
            "+--------------+----------------+-------------------+-----+--------------+--------+-------------------+---------+-----+---------+-------------+------+\n",
            "only showing top 40 rows\n",
            "\n"
          ],
          "name": "stdout"
        }
      ]
    },
    {
      "cell_type": "code",
      "metadata": {
        "id": "_S2XnCrsb0lN",
        "colab_type": "code",
        "colab": {}
      },
      "source": [
        "# To reflect changes in the oroginal dataset we have to store back the results like this\n",
        "corona_max_df = corona_max_df.withColumn(\"Active\", corona_max_df.Confirmed - corona_max_df.Recovered - corona_max_df.Death)"
      ],
      "execution_count": 0,
      "outputs": []
    },
    {
      "cell_type": "code",
      "metadata": {
        "id": "NAK2q-hMDtcu",
        "colab_type": "code",
        "colab": {
          "base_uri": "https://localhost:8080/",
          "height": 459
        },
        "outputId": "d60ddd63-2155-4784-ac6c-98698c18cb79"
      },
      "source": [
        "corona_max_df.show()"
      ],
      "execution_count": 152,
      "outputs": [
        {
          "output_type": "stream",
          "text": [
            "+--------------------+--------------------+-------------------+-----+----------------+--------+---------+---------+-----+---------+----+------+\n",
            "|             Country|       state_cleaned|               Date|  _c0|           State|     Lat|     Long|Confirmed|Death|Recovered|City|Active|\n",
            "+--------------------+--------------------+-------------------+-----+----------------+--------+---------+---------+-----+---------+----+------+\n",
            "|            Thailand|             Bangkok|2020-03-20 00:00:00|27666|            null|    15.0|    101.0|      322|    1|       42|null|   279|\n",
            "|               Japan|             Hiraide|2020-03-20 00:00:00|27667|            null|    36.0|    138.0|      963|   33|      191|null|   739|\n",
            "|           Singapore|           Singapore|2020-03-20 00:00:00|27668|            null|  1.2833| 103.8333|      385|    0|      124|null|   261|\n",
            "|               Nepal|           Kathmandu|2020-03-20 00:00:00|27669|            null| 28.1667|    84.25|        1|    0|        1|null|     0|\n",
            "|            Malaysia|             Sarawak|2020-03-20 00:00:00|27670|            null|     2.5|    112.5|     1030|    3|       87|null|   940|\n",
            "|              Canada|    British Columbia|2020-03-20 00:00:00|27671|British Columbia| 49.2827|-123.1207|      271|    8|        4|null|   259|\n",
            "|           Australia|     New South Wales|2020-03-20 00:00:00|27672| New South Wales|-33.8688| 151.2093|      353|    6|        4|null|   343|\n",
            "|           Australia|            Victoria|2020-03-20 00:00:00|27673|        Victoria|-37.8136| 144.9631|      121|    0|        8|null|   113|\n",
            "|           Australia|          Queensland|2020-03-20 00:00:00|27674|      Queensland|-28.0167|    153.4|      184|    0|        8|null|   176|\n",
            "|            Cambodia|          Phnom Penh|2020-03-20 00:00:00|27675|            null|   11.55| 104.9167|       51|    0|        1|null|    50|\n",
            "|           Sri Lanka|Sri Jayawardenapu...|2020-03-20 00:00:00|27676|            null|     7.0|     81.0|       73|    0|        3|null|    70|\n",
            "|             Germany|              Berlin|2020-03-20 00:00:00|27677|            null|    51.0|      9.0|    19848|   67|      180|null| 19601|\n",
            "|             Finland|            Helsinki|2020-03-20 00:00:00|27678|            null|    64.0|     26.0|      450|    0|       10|null|   440|\n",
            "|United Arab Emirates|           Abu Dhabi|2020-03-20 00:00:00|27679|            null|    24.0|     54.0|      140|    2|       31|null|   107|\n",
            "|         Philippines|              Manila|2020-03-20 00:00:00|27680|            null|    13.0|    122.0|      230|   18|        8|null|   204|\n",
            "|               India|           New Delhi|2020-03-20 00:00:00|27681|            null|    21.0|     78.0|      244|    5|       20|null|   219|\n",
            "|               Italy|                Rome|2020-03-20 00:00:00|27682|            null|    43.0|     12.0|    47021| 4032|     4440|null| 38549|\n",
            "|              Sweden|           Stockholm|2020-03-20 00:00:00|27683|            null|    63.0|     16.0|     1639|   16|       16|null|  1607|\n",
            "|               Spain|              Toledo|2020-03-20 00:00:00|27684|            null|    40.0|     -4.0|    20410| 1043|     1588|null| 17779|\n",
            "|           Australia|     South Australia|2020-03-20 00:00:00|27685| South Australia|-34.9285| 138.6007|       50|    0|        3|null|    47|\n",
            "+--------------------+--------------------+-------------------+-----+----------------+--------+---------+---------+-----+---------+----+------+\n",
            "only showing top 20 rows\n",
            "\n"
          ],
          "name": "stdout"
        }
      ]
    },
    {
      "cell_type": "code",
      "metadata": {
        "id": "eYTVhMGPDxJ0",
        "colab_type": "code",
        "colab": {
          "base_uri": "https://localhost:8080/",
          "height": 459
        },
        "outputId": "fe50dcf0-4837-4f3d-a389-d89a6bc34419"
      },
      "source": [
        "# Countries with most Active cases of Virus.\n",
        "corona_max_df.groupBy(\"Country\").agg(F.sum(\"Active\")).orderBy(\"sum(Active)\", ascending=False).show()"
      ],
      "execution_count": 161,
      "outputs": [
        {
          "output_type": "stream",
          "text": [
            "+--------------+-----------+\n",
            "|       Country|sum(Active)|\n",
            "+--------------+-----------+\n",
            "|         Italy|      38549|\n",
            "|       Germany|      19601|\n",
            "|            US|      18856|\n",
            "|         Spain|      17779|\n",
            "|        France|      12264|\n",
            "|          Iran|      11466|\n",
            "|  Korea, South|       7018|\n",
            "|         China|       6731|\n",
            "|   Switzerland|       5225|\n",
            "|United Kingdom|       3769|\n",
            "|   Netherlands|       2894|\n",
            "|       Austria|       2373|\n",
            "|       Belgium|       2219|\n",
            "|        Norway|       1906|\n",
            "|        Sweden|       1607|\n",
            "|       Denmark|       1327|\n",
            "|      Portugal|       1009|\n",
            "|      Malaysia|        940|\n",
            "|        Canada|        922|\n",
            "|       Czechia|        829|\n",
            "+--------------+-----------+\n",
            "only showing top 20 rows\n",
            "\n"
          ],
          "name": "stdout"
        }
      ]
    }
  ]
}